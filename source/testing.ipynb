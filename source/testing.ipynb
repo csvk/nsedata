{
 "cells": [
  {
   "cell_type": "code",
   "execution_count": 4,
   "metadata": {
    "tags": []
   },
   "outputs": [
    {
     "output_type": "stream",
     "name": "stdout",
     "text": "Opening Bhavcopy database db/nsedb.db...\n"
    }
   ],
   "source": [
    "import os\n",
    "import datadbhandler as dbhandler\n",
    "import pandas as pd\n",
    "import numpy as np\n",
    "\n",
    "PATH = 'D:/Trading/Historical Data/'\n",
    "CSVPATH = 'NSE EOD/'\n",
    "DBPATH = 'db/nsedb.db'\n",
    "MOD_PATH = 'nse_eod_modifiers/'\n",
    "AMI_PATH = 'amibroker_files/'\n",
    "\n",
    "os.chdir(PATH)\n",
    "\n",
    "db = dbhandler.DataDB(DBPATH)"
   ]
  },
  {
   "cell_type": "code",
   "execution_count": 2,
   "metadata": {},
   "outputs": [],
   "source": [
    "df = dbhandler.pd.read_csv(db.INDEX_CHANGE_MOD_CSV)"
   ]
  },
  {
   "cell_type": "code",
   "execution_count": 3,
   "metadata": {},
   "outputs": [
    {
     "output_type": "execute_result",
     "data": {
      "text/plain": "      Index      Date      Symbol ChangeType\n0  Nifty 50  19960918         ABB          I\n1  Nifty 50  19960918  ASIANPAINT          I\n2  Nifty 50  19960918     EIHOTEL          I\n3  Nifty 50  19960918       GLAXO          I\n4  Nifty 50  19960918         M&M          I",
      "text/html": "<div>\n<style scoped>\n    .dataframe tbody tr th:only-of-type {\n        vertical-align: middle;\n    }\n\n    .dataframe tbody tr th {\n        vertical-align: top;\n    }\n\n    .dataframe thead th {\n        text-align: right;\n    }\n</style>\n<table border=\"1\" class=\"dataframe\">\n  <thead>\n    <tr style=\"text-align: right;\">\n      <th></th>\n      <th>Index</th>\n      <th>Date</th>\n      <th>Symbol</th>\n      <th>ChangeType</th>\n    </tr>\n  </thead>\n  <tbody>\n    <tr>\n      <td>0</td>\n      <td>Nifty 50</td>\n      <td>19960918</td>\n      <td>ABB</td>\n      <td>I</td>\n    </tr>\n    <tr>\n      <td>1</td>\n      <td>Nifty 50</td>\n      <td>19960918</td>\n      <td>ASIANPAINT</td>\n      <td>I</td>\n    </tr>\n    <tr>\n      <td>2</td>\n      <td>Nifty 50</td>\n      <td>19960918</td>\n      <td>EIHOTEL</td>\n      <td>I</td>\n    </tr>\n    <tr>\n      <td>3</td>\n      <td>Nifty 50</td>\n      <td>19960918</td>\n      <td>GLAXO</td>\n      <td>I</td>\n    </tr>\n    <tr>\n      <td>4</td>\n      <td>Nifty 50</td>\n      <td>19960918</td>\n      <td>M&amp;M</td>\n      <td>I</td>\n    </tr>\n  </tbody>\n</table>\n</div>"
     },
     "metadata": {},
     "execution_count": 3
    }
   ],
   "source": [
    "df.head()"
   ]
  },
  {
   "cell_type": "code",
   "execution_count": 4,
   "metadata": {},
   "outputs": [
    {
     "output_type": "execute_result",
     "data": {
      "text/plain": "19960918"
     },
     "metadata": {},
     "execution_count": 4
    }
   ],
   "source": [
    "df.iloc[0][1]"
   ]
  },
  {
   "cell_type": "code",
   "execution_count": 15,
   "metadata": {
    "tags": []
   },
   "outputs": [
    {
     "output_type": "stream",
     "name": "stdout",
     "text": "tblModDump\n['ABB']\n19960918\n19960918\n19960918 19960918\n"
    },
    {
     "output_type": "execute_result",
     "data": {
      "text/plain": "  Symbol      Date   Open   High     Low   Close  Volume AdjustedOpen  \\\n0    ABB  19960918  810.0  816.0  809.25  815.25    1600         None   \n\n  AdjustedHigh AdjustedLow AdjustedClose  \n0         None        None          None  ",
      "text/html": "<div>\n<style scoped>\n    .dataframe tbody tr th:only-of-type {\n        vertical-align: middle;\n    }\n\n    .dataframe tbody tr th {\n        vertical-align: top;\n    }\n\n    .dataframe thead th {\n        text-align: right;\n    }\n</style>\n<table border=\"1\" class=\"dataframe\">\n  <thead>\n    <tr style=\"text-align: right;\">\n      <th></th>\n      <th>Symbol</th>\n      <th>Date</th>\n      <th>Open</th>\n      <th>High</th>\n      <th>Low</th>\n      <th>Close</th>\n      <th>Volume</th>\n      <th>AdjustedOpen</th>\n      <th>AdjustedHigh</th>\n      <th>AdjustedLow</th>\n      <th>AdjustedClose</th>\n    </tr>\n  </thead>\n  <tbody>\n    <tr>\n      <td>0</td>\n      <td>ABB</td>\n      <td>19960918</td>\n      <td>810.0</td>\n      <td>816.0</td>\n      <td>809.25</td>\n      <td>815.25</td>\n      <td>1600</td>\n      <td>None</td>\n      <td>None</td>\n      <td>None</td>\n      <td>None</td>\n    </tr>\n  </tbody>\n</table>\n</div>"
     },
     "metadata": {},
     "execution_count": 15
    }
   ],
   "source": [
    "db.fetch_records('tblModDump', [df.iloc[0][2]], start_date=df.iloc[0][1], end_date=df.iloc[0][1])"
   ]
  },
  {
   "cell_type": "code",
   "execution_count": 14,
   "metadata": {
    "tags": []
   },
   "outputs": [
    {
     "output_type": "stream",
     "name": "stdout",
     "text": "tblModDump\n['ABB']\n19960918\n19960918\n19960918 19960918\n"
    },
    {
     "output_type": "execute_result",
     "data": {
      "text/plain": "  Symbol      Date   Open   High     Low   Close  Volume AdjustedOpen  \\\n0    ABB  19960918  810.0  816.0  809.25  815.25    1600         None   \n\n  AdjustedHigh AdjustedLow AdjustedClose  \n0         None        None          None  ",
      "text/html": "<div>\n<style scoped>\n    .dataframe tbody tr th:only-of-type {\n        vertical-align: middle;\n    }\n\n    .dataframe tbody tr th {\n        vertical-align: top;\n    }\n\n    .dataframe thead th {\n        text-align: right;\n    }\n</style>\n<table border=\"1\" class=\"dataframe\">\n  <thead>\n    <tr style=\"text-align: right;\">\n      <th></th>\n      <th>Symbol</th>\n      <th>Date</th>\n      <th>Open</th>\n      <th>High</th>\n      <th>Low</th>\n      <th>Close</th>\n      <th>Volume</th>\n      <th>AdjustedOpen</th>\n      <th>AdjustedHigh</th>\n      <th>AdjustedLow</th>\n      <th>AdjustedClose</th>\n    </tr>\n  </thead>\n  <tbody>\n    <tr>\n      <td>0</td>\n      <td>ABB</td>\n      <td>19960918</td>\n      <td>810.0</td>\n      <td>816.0</td>\n      <td>809.25</td>\n      <td>815.25</td>\n      <td>1600</td>\n      <td>None</td>\n      <td>None</td>\n      <td>None</td>\n      <td>None</td>\n    </tr>\n  </tbody>\n</table>\n</div>"
     },
     "metadata": {},
     "execution_count": 14
    }
   ],
   "source": [
    "db.fetch_records('tblModDump', [df.iloc[0][2]], start_date=19960918, end_date=19960918)"
   ]
  },
  {
   "cell_type": "code",
   "execution_count": 2,
   "metadata": {
    "tags": []
   },
   "outputs": [
    {
     "output_type": "stream",
     "name": "stdout",
     "text": "Truncated table tblDumpReplace\n"
    }
   ],
   "source": [
    "db.truncate_table('tblDumpReplace', msg=True)"
   ]
  },
  {
   "cell_type": "code",
   "execution_count": 3,
   "metadata": {
    "tags": []
   },
   "outputs": [
    {
     "output_type": "stream",
     "name": "stdout",
     "text": "Truncated table tblMultipliers\n"
    }
   ],
   "source": [
    "db.truncate_table('tblMultipliers', msg=True)"
   ]
  },
  {
   "cell_type": "code",
   "execution_count": 4,
   "metadata": {
    "tags": []
   },
   "outputs": [
    {
     "output_type": "stream",
     "name": "stdout",
     "text": "Truncated table tblSkipped\n"
    }
   ],
   "source": [
    "db.truncate_table('tblSkipped', msg=True)"
   ]
  },
  {
   "cell_type": "code",
   "execution_count": 5,
   "metadata": {
    "tags": []
   },
   "outputs": [
    {
     "output_type": "stream",
     "name": "stdout",
     "text": "Truncated table tblSymbolRange\n"
    }
   ],
   "source": [
    "db.truncate_table('tblSymbolRange', msg=True)"
   ]
  },
  {
   "cell_type": "code",
   "execution_count": 6,
   "metadata": {
    "tags": []
   },
   "outputs": [
    {
     "output_type": "stream",
     "name": "stdout",
     "text": "Truncated table tblHistIndex\n"
    }
   ],
   "source": [
    "db.truncate_table('tblHistIndex', msg=True)"
   ]
  },
  {
   "cell_type": "code",
   "execution_count": 7,
   "metadata": {
    "tags": []
   },
   "outputs": [
    {
     "output_type": "stream",
     "name": "stdout",
     "text": "Truncated table tblDuplicates\n"
    }
   ],
   "source": [
    "db.truncate_table('tblDuplicates', msg=True)"
   ]
  },
  {
   "cell_type": "code",
   "execution_count": 11,
   "metadata": {
    "tags": []
   },
   "outputs": [
    {
     "output_type": "stream",
     "name": "stdout",
     "text": "Truncated table tblModDump1995\nTruncated table tblModDump1996\nTruncated table tblModDump1997\nTruncated table tblModDump1998\nTruncated table tblModDump1999\nTruncated table tblModDump2000\nTruncated table tblModDump2001\nTruncated table tblModDump2002\nTruncated table tblModDump2003\nTruncated table tblModDump2004\nTruncated table tblModDump2005\nTruncated table tblModDump2006\nTruncated table tblModDump2007\nTruncated table tblModDump2008\nTruncated table tblModDump2009\nTruncated table tblModDump2010\nTruncated table tblModDump2011\nTruncated table tblModDump2012\nTruncated table tblModDump2013\nTruncated table tblModDump2014\nTruncated table tblModDump2015\nTruncated table tblModDump2016\nTruncated table tblModDump2017\nTruncated table tblModDump2018\n"
    },
    {
     "output_type": "error",
     "ename": "OperationalError",
     "evalue": "no such table: tblModDump2019",
     "traceback": [
      "\u001b[1;31m---------------------------------------------------------------------------\u001b[0m",
      "\u001b[1;31mOperationalError\u001b[0m                          Traceback (most recent call last)",
      "\u001b[1;32m<ipython-input-11-fefd2d0ab280>\u001b[0m in \u001b[0;36m<module>\u001b[1;34m\u001b[0m\n\u001b[0;32m      1\u001b[0m \u001b[1;32mfor\u001b[0m \u001b[0mi\u001b[0m \u001b[1;32min\u001b[0m \u001b[0mrange\u001b[0m\u001b[1;33m(\u001b[0m\u001b[1;36m1995\u001b[0m\u001b[1;33m,\u001b[0m \u001b[1;36m2020\u001b[0m\u001b[1;33m)\u001b[0m\u001b[1;33m:\u001b[0m\u001b[1;33m\u001b[0m\u001b[1;33m\u001b[0m\u001b[0m\n\u001b[1;32m----> 2\u001b[1;33m     \u001b[0mdb\u001b[0m\u001b[1;33m.\u001b[0m\u001b[0mtruncate_table\u001b[0m\u001b[1;33m(\u001b[0m\u001b[1;34m'tblModDump{}'\u001b[0m\u001b[1;33m.\u001b[0m\u001b[0mformat\u001b[0m\u001b[1;33m(\u001b[0m\u001b[0mi\u001b[0m\u001b[1;33m)\u001b[0m\u001b[1;33m,\u001b[0m \u001b[0mmsg\u001b[0m\u001b[1;33m=\u001b[0m\u001b[1;32mTrue\u001b[0m\u001b[1;33m)\u001b[0m\u001b[1;33m\u001b[0m\u001b[1;33m\u001b[0m\u001b[0m\n\u001b[0m",
      "\u001b[1;32md:\\Studies\\nsedata\\source\\datadbhandler.py\u001b[0m in \u001b[0;36mtruncate_table\u001b[1;34m(self, table, msg)\u001b[0m\n\u001b[0;32m    100\u001b[0m \u001b[1;33m\u001b[0m\u001b[0m\n\u001b[0;32m    101\u001b[0m         \u001b[0mc\u001b[0m \u001b[1;33m=\u001b[0m \u001b[0mself\u001b[0m\u001b[1;33m.\u001b[0m\u001b[0mconn\u001b[0m\u001b[1;33m.\u001b[0m\u001b[0mcursor\u001b[0m\u001b[1;33m(\u001b[0m\u001b[1;33m)\u001b[0m\u001b[1;33m\u001b[0m\u001b[1;33m\u001b[0m\u001b[0m\n\u001b[1;32m--> 102\u001b[1;33m         \u001b[0mc\u001b[0m\u001b[1;33m.\u001b[0m\u001b[0mexecute\u001b[0m\u001b[1;33m(\u001b[0m\u001b[1;34m'''DELETE FROM {}'''\u001b[0m\u001b[1;33m.\u001b[0m\u001b[0mformat\u001b[0m\u001b[1;33m(\u001b[0m\u001b[0mtable\u001b[0m\u001b[1;33m)\u001b[0m\u001b[1;33m)\u001b[0m\u001b[1;33m\u001b[0m\u001b[1;33m\u001b[0m\u001b[0m\n\u001b[0m\u001b[0;32m    103\u001b[0m         \u001b[0mself\u001b[0m\u001b[1;33m.\u001b[0m\u001b[0mconn\u001b[0m\u001b[1;33m.\u001b[0m\u001b[0mcommit\u001b[0m\u001b[1;33m(\u001b[0m\u001b[1;33m)\u001b[0m\u001b[1;33m\u001b[0m\u001b[1;33m\u001b[0m\u001b[0m\n\u001b[0;32m    104\u001b[0m         \u001b[0mc\u001b[0m\u001b[1;33m.\u001b[0m\u001b[0mclose\u001b[0m\u001b[1;33m(\u001b[0m\u001b[1;33m)\u001b[0m\u001b[1;33m\u001b[0m\u001b[1;33m\u001b[0m\u001b[0m\n",
      "\u001b[1;31mOperationalError\u001b[0m: no such table: tblModDump2019"
     ]
    }
   ],
   "source": [
    "for i in range(1995, 2020):\n",
    "    db.truncate_table('tblModDump{}'.format(i), msg=True)"
   ]
  },
  {
   "cell_type": "code",
   "execution_count": 2,
   "metadata": {},
   "outputs": [],
   "source": [
    "import pandas as pd"
   ]
  },
  {
   "cell_type": "code",
   "execution_count": 7,
   "metadata": {},
   "outputs": [],
   "source": [
    "df = dbhandler.pd.read_csv(db.SYMBOL_MAPPING_FILE)"
   ]
  },
  {
   "cell_type": "code",
   "execution_count": 80,
   "metadata": {},
   "outputs": [
    {
     "output_type": "execute_result",
     "data": {
      "text/plain": "ABBOTINDIA    13\nTCS           12\nBAYERCROP      8\nBAYER          4\nName: Symbol, dtype: int64"
     },
     "metadata": {},
     "execution_count": 80
    }
   ],
   "source": [
    "df2 = dbhandler.pd.read_csv(db.INDEX_CHANGE_MOD_CSV)\n",
    "df2.Symbol.value_counts()"
   ]
  },
  {
   "cell_type": "code",
   "execution_count": 81,
   "metadata": {
    "tags": []
   },
   "outputs": [],
   "source": [
    "import numpy as np\n",
    "manual = dbhandler.pd.read_csv(db.INDEX_CHANGE_MANUAL_CSV, encoding='ansi')\n",
    "\n",
    "for symbol in ['BAYERCROP', 'ABBOTINDIA']: #manual.Symbol.unique():\n",
    "    symbol_dates = manual[manual.Symbol == symbol]['Date'].unique()\n",
    "    #print(1, symbol, symbol_dates)\n",
    "    #print(2, manual[manual.Symbol == symbol].CorrectSymbol)\n",
    "    correct_symbol = manual[manual.Symbol == symbol].CorrectSymbol.iloc[0]\n",
    "    #print(3, symbol, correct_symbol, symbol_dates)\n",
    "    for date in symbol_dates:\n",
    "        #print(4, symbol, date, correct_symbol)\n",
    "        #print(5, np.where((df2.Symbol == symbol) & (df2.Date == date), correct_symbol, df2.Symbol))\n",
    "        #print(5, np.where(df2.Date == date, correct_symbol, df2.Symbol))\n",
    "        #print(0, symbol, date, correct_symbol)\n",
    "        #print(1, df2[df2.Symbol == symbol])\n",
    "        #print(2, df2[df2.Date == date])\n",
    "        #print(3, df2[(df2.Symbol == symbol) & (df2.Date == date)])\n",
    "        df2['Symbol'] = np.where((df2.Symbol == symbol) & (df2.Date == int(date)), correct_symbol, df2.Symbol)\n",
    "df2.to_csv(db.INDEX_CHANGE_MOD_CSV)"
   ]
  },
  {
   "cell_type": "code",
   "execution_count": 82,
   "metadata": {
    "tags": []
   },
   "outputs": [
    {
     "output_type": "execute_result",
     "data": {
      "text/plain": "TCS           12\nBAYER         10\nABBOTINDIA     7\nPHARMACIA      6\nBAYERCROP      2\nName: Symbol, dtype: int64"
     },
     "metadata": {},
     "execution_count": 82
    }
   ],
   "source": [
    "df2 = dbhandler.pd.read_csv(db.INDEX_CHANGE_MOD_CSV)\n",
    "df2.Symbol.value_counts()"
   ]
  },
  {
   "cell_type": "code",
   "execution_count": 67,
   "metadata": {},
   "outputs": [
    {
     "output_type": "execute_result",
     "data": {
      "text/plain": "        Index      Date     Symbol ChangeType\n8   Nifty 500  19980801  BAYERCROP          I\n21  Nifty MNC  19980801  BAYERCROP          I",
      "text/html": "<div>\n<style scoped>\n    .dataframe tbody tr th:only-of-type {\n        vertical-align: middle;\n    }\n\n    .dataframe tbody tr th {\n        vertical-align: top;\n    }\n\n    .dataframe thead th {\n        text-align: right;\n    }\n</style>\n<table border=\"1\" class=\"dataframe\">\n  <thead>\n    <tr style=\"text-align: right;\">\n      <th></th>\n      <th>Index</th>\n      <th>Date</th>\n      <th>Symbol</th>\n      <th>ChangeType</th>\n    </tr>\n  </thead>\n  <tbody>\n    <tr>\n      <td>8</td>\n      <td>Nifty 500</td>\n      <td>19980801</td>\n      <td>BAYERCROP</td>\n      <td>I</td>\n    </tr>\n    <tr>\n      <td>21</td>\n      <td>Nifty MNC</td>\n      <td>19980801</td>\n      <td>BAYERCROP</td>\n      <td>I</td>\n    </tr>\n  </tbody>\n</table>\n</div>"
     },
     "metadata": {},
     "execution_count": 67
    }
   ],
   "source": [
    "df"
   ]
  },
  {
   "cell_type": "code",
   "execution_count": 2,
   "metadata": {},
   "outputs": [],
   "source": [
    "import pandas as pd"
   ]
  },
  {
   "cell_type": "code",
   "execution_count": 5,
   "metadata": {},
   "outputs": [],
   "source": [
    "symbols_range = pd.read_sql_query('''SELECT Symbol, MIN(Date) MinDate, MAX(Date) MaxDate \n",
    "                                        FROM tblModDump{} WHERE Date >= {} \n",
    "                                        GROUP BY Symbol'''.format(2020, 20200805), db.conn)"
   ]
  },
  {
   "cell_type": "code",
   "execution_count": 7,
   "metadata": {},
   "outputs": [
    {
     "output_type": "execute_result",
     "data": {
      "text/plain": "                Symbol   MinDate   MaxDate\nSymbol                                    \n20MICRONS    20MICRONS  20200805  20200806\n21STCENMGM  21STCENMGM  20200805  20200806\n3IINFOTECH  3IINFOTECH  20200805  20200806\n3MINDIA        3MINDIA  20200805  20200806\n3PLAND          3PLAND  20200805  20200806\n...                ...       ...       ...\nZODJRDMKJ    ZODJRDMKJ  20200805  20200806\nZOTA              ZOTA  20200805  20200806\nZUARI            ZUARI  20200805  20200806\nZUARIGLOB    ZUARIGLOB  20200805  20200806\nZYDUSWELL    ZYDUSWELL  20200805  20200806\n\n[1730 rows x 3 columns]",
      "text/html": "<div>\n<style scoped>\n    .dataframe tbody tr th:only-of-type {\n        vertical-align: middle;\n    }\n\n    .dataframe tbody tr th {\n        vertical-align: top;\n    }\n\n    .dataframe thead th {\n        text-align: right;\n    }\n</style>\n<table border=\"1\" class=\"dataframe\">\n  <thead>\n    <tr style=\"text-align: right;\">\n      <th></th>\n      <th>Symbol</th>\n      <th>MinDate</th>\n      <th>MaxDate</th>\n    </tr>\n    <tr>\n      <th>Symbol</th>\n      <th></th>\n      <th></th>\n      <th></th>\n    </tr>\n  </thead>\n  <tbody>\n    <tr>\n      <td>20MICRONS</td>\n      <td>20MICRONS</td>\n      <td>20200805</td>\n      <td>20200806</td>\n    </tr>\n    <tr>\n      <td>21STCENMGM</td>\n      <td>21STCENMGM</td>\n      <td>20200805</td>\n      <td>20200806</td>\n    </tr>\n    <tr>\n      <td>3IINFOTECH</td>\n      <td>3IINFOTECH</td>\n      <td>20200805</td>\n      <td>20200806</td>\n    </tr>\n    <tr>\n      <td>3MINDIA</td>\n      <td>3MINDIA</td>\n      <td>20200805</td>\n      <td>20200806</td>\n    </tr>\n    <tr>\n      <td>3PLAND</td>\n      <td>3PLAND</td>\n      <td>20200805</td>\n      <td>20200806</td>\n    </tr>\n    <tr>\n      <td>...</td>\n      <td>...</td>\n      <td>...</td>\n      <td>...</td>\n    </tr>\n    <tr>\n      <td>ZODJRDMKJ</td>\n      <td>ZODJRDMKJ</td>\n      <td>20200805</td>\n      <td>20200806</td>\n    </tr>\n    <tr>\n      <td>ZOTA</td>\n      <td>ZOTA</td>\n      <td>20200805</td>\n      <td>20200806</td>\n    </tr>\n    <tr>\n      <td>ZUARI</td>\n      <td>ZUARI</td>\n      <td>20200805</td>\n      <td>20200806</td>\n    </tr>\n    <tr>\n      <td>ZUARIGLOB</td>\n      <td>ZUARIGLOB</td>\n      <td>20200805</td>\n      <td>20200806</td>\n    </tr>\n    <tr>\n      <td>ZYDUSWELL</td>\n      <td>ZYDUSWELL</td>\n      <td>20200805</td>\n      <td>20200806</td>\n    </tr>\n  </tbody>\n</table>\n<p>1730 rows × 3 columns</p>\n</div>"
     },
     "metadata": {},
     "execution_count": 7
    }
   ],
   "source": [
    "symbols_range.index = symbols_range.Symbol\n",
    "symbols_range"
   ]
  },
  {
   "cell_type": "code",
   "execution_count": 1,
   "metadata": {},
   "outputs": [],
   "source": [
    "start_date = '20200805'\n",
    "qry = '''SELECT Symbol, Min(Date) MinDate, Max(Date) MaxDate, Source, TableSource, StartDate, EndDate\n",
    "                FROM (SELECT t1.Symbol, t1.Date, 'Dump' Source, t2.TableSource, t2.StartDate, t2.EndDate\n",
    "\t\tFROM tblDump{year} t1\n",
    "\t\tLEFT JOIN tblSymbolRange t2\n",
    "\t\tON t1.Symbol = t2.Symbol\n",
    "\t\tAND TableSource <> 'ModDump'\n",
    "\t\tWHERE t1.Date >= {start_date}\n",
    "\t\tUNION\n",
    "\tSELECT t1.Symbol, t1.Date, 'ModDump' Source, t2.TableSource, t2.StartDate, t2.EndDate\n",
    "\t\tFROM tblModDump{year} t1\n",
    "\t\tLEFT JOIN tblSymbolRange t2\n",
    "\t\tON t1.Symbol = t2.Symbol\n",
    "\t\tAND TableSource <> 'Dump'\n",
    "\t\tWHERE t1.Date >= {start_date}\n",
    "\t\tUNION\n",
    "        SELECT t1.Symbol, t1.Date, 'Dump' Source, t2.TableSource, t2.StartDate, t2.EndDate\n",
    "\t\tFROM tblDump{year} t1\n",
    "\t\tLEFT JOIN tblSymbolRange t2\n",
    "\t\tON t1.Symbol = t2.Symbol\n",
    "\t\tWHERE t1.Date >= {start_date}\n",
    "\t\tUNION\n",
    "\tSELECT t1.Symbol, t1.Date, 'ModDump' Source, t2.TableSource, t2.StartDate, t2.EndDate\n",
    "\t\tFROM tblModDump{year} t1\n",
    "\t\tLEFT JOIN tblSymbolRange t2\n",
    "\t\tON t1.Symbol = t2.Symbol\n",
    "\t\tWHERE t1.Date >= {start_date}) t1\n",
    "        WHERE Source = TableSource \n",
    "        OR TableSource IS NULL\n",
    "        GROUP BY Symbol, Source, TableSource'''.format(start_date=start_date, year=start_date[0:4])"
   ]
  },
  {
   "cell_type": "code",
   "execution_count": 15,
   "metadata": {},
   "outputs": [],
   "source": [
    "join = pd.read_sql_query(qry, db.conn)"
   ]
  },
  {
   "cell_type": "code",
   "execution_count": 16,
   "metadata": {},
   "outputs": [
    {
     "output_type": "execute_result",
     "data": {
      "text/plain": "          Symbol   MinDate   MaxDate   Source TableSource StartDate   EndDate\n0      20MICRONS  20200805  20200807     Dump        Dump  20200805  20200807\n1      20MICRONS  20200805  20200807  ModDump     ModDump  20200805  20200807\n2     21STCENMGM  20200805  20200807     Dump        Dump  20200805  20200807\n3     21STCENMGM  20200805  20200807  ModDump     ModDump  19951024  20200807\n4     3IINFOTECH  20200805  20200807     Dump        Dump  20050422  20200807\n...          ...       ...       ...      ...         ...       ...       ...\n3459       ZUARI  20200805  20200807  ModDump     ModDump  20121127  20200807\n3460   ZUARIGLOB  20200805  20200807     Dump        Dump  20120925  20200807\n3461   ZUARIGLOB  20200805  20200807  ModDump     ModDump  19950102  20200807\n3462   ZYDUSWELL  20200805  20200807     Dump        Dump  20091113  20200807\n3463   ZYDUSWELL  20200805  20200807  ModDump     ModDump  20091113  20200807\n\n[3464 rows x 7 columns]",
      "text/html": "<div>\n<style scoped>\n    .dataframe tbody tr th:only-of-type {\n        vertical-align: middle;\n    }\n\n    .dataframe tbody tr th {\n        vertical-align: top;\n    }\n\n    .dataframe thead th {\n        text-align: right;\n    }\n</style>\n<table border=\"1\" class=\"dataframe\">\n  <thead>\n    <tr style=\"text-align: right;\">\n      <th></th>\n      <th>Symbol</th>\n      <th>MinDate</th>\n      <th>MaxDate</th>\n      <th>Source</th>\n      <th>TableSource</th>\n      <th>StartDate</th>\n      <th>EndDate</th>\n    </tr>\n  </thead>\n  <tbody>\n    <tr>\n      <td>0</td>\n      <td>20MICRONS</td>\n      <td>20200805</td>\n      <td>20200807</td>\n      <td>Dump</td>\n      <td>Dump</td>\n      <td>20200805</td>\n      <td>20200807</td>\n    </tr>\n    <tr>\n      <td>1</td>\n      <td>20MICRONS</td>\n      <td>20200805</td>\n      <td>20200807</td>\n      <td>ModDump</td>\n      <td>ModDump</td>\n      <td>20200805</td>\n      <td>20200807</td>\n    </tr>\n    <tr>\n      <td>2</td>\n      <td>21STCENMGM</td>\n      <td>20200805</td>\n      <td>20200807</td>\n      <td>Dump</td>\n      <td>Dump</td>\n      <td>20200805</td>\n      <td>20200807</td>\n    </tr>\n    <tr>\n      <td>3</td>\n      <td>21STCENMGM</td>\n      <td>20200805</td>\n      <td>20200807</td>\n      <td>ModDump</td>\n      <td>ModDump</td>\n      <td>19951024</td>\n      <td>20200807</td>\n    </tr>\n    <tr>\n      <td>4</td>\n      <td>3IINFOTECH</td>\n      <td>20200805</td>\n      <td>20200807</td>\n      <td>Dump</td>\n      <td>Dump</td>\n      <td>20050422</td>\n      <td>20200807</td>\n    </tr>\n    <tr>\n      <td>...</td>\n      <td>...</td>\n      <td>...</td>\n      <td>...</td>\n      <td>...</td>\n      <td>...</td>\n      <td>...</td>\n      <td>...</td>\n    </tr>\n    <tr>\n      <td>3459</td>\n      <td>ZUARI</td>\n      <td>20200805</td>\n      <td>20200807</td>\n      <td>ModDump</td>\n      <td>ModDump</td>\n      <td>20121127</td>\n      <td>20200807</td>\n    </tr>\n    <tr>\n      <td>3460</td>\n      <td>ZUARIGLOB</td>\n      <td>20200805</td>\n      <td>20200807</td>\n      <td>Dump</td>\n      <td>Dump</td>\n      <td>20120925</td>\n      <td>20200807</td>\n    </tr>\n    <tr>\n      <td>3461</td>\n      <td>ZUARIGLOB</td>\n      <td>20200805</td>\n      <td>20200807</td>\n      <td>ModDump</td>\n      <td>ModDump</td>\n      <td>19950102</td>\n      <td>20200807</td>\n    </tr>\n    <tr>\n      <td>3462</td>\n      <td>ZYDUSWELL</td>\n      <td>20200805</td>\n      <td>20200807</td>\n      <td>Dump</td>\n      <td>Dump</td>\n      <td>20091113</td>\n      <td>20200807</td>\n    </tr>\n    <tr>\n      <td>3463</td>\n      <td>ZYDUSWELL</td>\n      <td>20200805</td>\n      <td>20200807</td>\n      <td>ModDump</td>\n      <td>ModDump</td>\n      <td>20091113</td>\n      <td>20200807</td>\n    </tr>\n  </tbody>\n</table>\n<p>3464 rows × 7 columns</p>\n</div>"
     },
     "metadata": {},
     "execution_count": 16
    }
   ],
   "source": [
    "join"
   ]
  }
 ],
 "metadata": {
  "kernelspec": {
   "display_name": "tf",
   "language": "python",
   "name": "tf"
  },
  "language_info": {
   "codemirror_mode": {
    "name": "ipython",
    "version": 3
   },
   "file_extension": ".py",
   "mimetype": "text/x-python",
   "name": "python",
   "nbconvert_exporter": "python",
   "pygments_lexer": "ipython3",
   "version": "3.7.4-final"
  }
 },
 "nbformat": 4,
 "nbformat_minor": 4
}