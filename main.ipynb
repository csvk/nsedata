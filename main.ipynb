{
 "cells": [
  {
   "cell_type": "markdown",
   "metadata": {},
   "source": [
    "# Description\n",
    "#### 1. Loads NSE bhavcopy file downloaded using Hemen Kapadia's getbhavcopy tool into nsedata project database\n",
    "#### 2. Performs data cleanup, split/bonus adjustments\n",
    "#### 3. Provides history api to read historical stock data into pandas dataframes\n",
    "#### 4. Sample input data files in data folder as of 2020-08-21"
   ]
  },
  {
   "cell_type": "markdown",
   "metadata": {},
   "source": [
    "# Use updatedb.ipynb notebook to run"
   ]
  },
  {
   "cell_type": "code",
   "execution_count": null,
   "metadata": {},
   "outputs": [],
   "source": [
    "NSEDATAROOTDIR = 'D:/Studies'        # Directory path of nsedata project folder\n",
    "PATH = 'D:/Trading/Historical Data/' # Root directory path for following directories\n",
    "CSVPATH = 'NSE EOD/'                 # Relative directory path for NSE bhavcopy historical files\n",
    "DBPATH = 'db/nsedb.db'               # Relative directory path for sqlite database to store data\n",
    "MOD_PATH = 'nse_eod_modifiers/'      # Relative path to keep split and other data downloaded from NSE website\n",
    "AMI_PATH = 'amibroker_files/'        # Relative path to create Amibroker files - Not tested"
   ]
  },
  {
   "cell_type": "code",
   "execution_count": null,
   "metadata": {},
   "outputs": [],
   "source": [
    "import os\n",
    "os.chdir(NSEDATAROOTDIR)"
   ]
  },
  {
   "cell_type": "code",
   "execution_count": null,
   "metadata": {},
   "outputs": [],
   "source": [
    "import nsedata.datadbhandler as dbhandler\n",
    "db = dbhandler.DataDB(path=PATH, db=DBPATH)"
   ]
  },
  {
   "cell_type": "markdown",
   "metadata": {},
   "source": [
    "### Run following cell for delta run"
   ]
  },
  {
   "cell_type": "code",
   "execution_count": null,
   "metadata": {},
   "outputs": [],
   "source": [
    "# For delta run:\n",
    "delta_date = '20200821'\n",
    "db.delta_date_check(delta_date)\n",
    "db.append_tbldumps_from_csv(CSVPATH, start_date=delta_date)  # 1 Usual run\n",
    "db.calculate_skipped_record_errors(start_date=delta_date)  # 2 Usual run\n",
    "db.load_dump_replace_records()  # 3 Usual run\n",
    "db.append_modified_tbldumps(delta_date)  # 4 Usual run\n",
    "db.save_symbols_date_range_delta(delta_date)  # 5 Usual run\n",
    "db.update_adjusted_price(delta_date)  # 7 # Usual run"
   ]
  },
  {
   "cell_type": "markdown",
   "metadata": {},
   "source": [
    "### Run following cell for delta run in case of split/bonus update"
   ]
  },
  {
   "cell_type": "code",
   "execution_count": null,
   "metadata": {},
   "outputs": [],
   "source": [
    "# For delta run:\n",
    "delta_date = '20200815'\n",
    "db.delta_date_check(delta_date)\n",
    "db.append_tbldumps_from_csv(CSVPATH, start_date=delta_date)  # 1 Usual run\n",
    "db.calculate_skipped_record_errors(start_date=delta_date)  # 2 Usual run\n",
    "db.load_dump_replace_records()  # 3 Usual run\n",
    "db.append_modified_tbldumps(delta_date)  # 4 Usual run\n",
    "db.save_symbols_date_range_delta(delta_date)  # 5 Usual run\n",
    "db.load_multipliers(type='refresh')  # 6 May not be needed always, only on corporate actions\n",
    "db.update_adjusted_price(delta_date)  # 7 # Usual run"
   ]
  },
  {
   "cell_type": "markdown",
   "metadata": {},
   "source": [
    "### Run following cell in case of index components change after month end\n",
    "1. Set flag to True before run"
   ]
  },
  {
   "cell_type": "code",
   "execution_count": null,
   "metadata": {},
   "outputs": [],
   "source": [
    "monthly_update = False\n",
    "if monthly_update:\n",
    "    db.load_historical_index_components()  # 8 May not be needed always, after month-end"
   ]
  },
  {
   "cell_type": "markdown",
   "metadata": {},
   "source": [
    "### Use below sample codes to read historical stock data"
   ]
  },
  {
   "cell_type": "code",
   "execution_count": null,
   "metadata": {},
   "outputs": [],
   "source": [
    "os.chdir(NSEDATAROOTDIR)\n",
    "import nsedata.history as history\n",
    "\n",
    "hist =  history.History(path=PATH, db=DBPATH)"
   ]
  },
  {
   "cell_type": "markdown",
   "metadata": {},
   "source": [
    "#### Fetch individual symbol stock price history"
   ]
  },
  {
   "cell_type": "code",
   "execution_count": null,
   "metadata": {},
   "outputs": [],
   "source": [
    "TCS = hist.symbol_history(symbol='TCS',\n",
    "                          start_date='20040801',\n",
    "                          end_date='20200820',\n",
    "                          buffer_start='20040301', # optional\n",
    "                          index='Nifty 50'         # optional\n",
    "                         )"
   ]
  },
  {
   "cell_type": "code",
   "execution_count": null,
   "metadata": {},
   "outputs": [],
   "source": [
    "TCS.head()"
   ]
  },
  {
   "cell_type": "markdown",
   "metadata": {},
   "source": [
    "### Fetch historical stock price data for index components"
   ]
  },
  {
   "cell_type": "code",
   "execution_count": null,
   "metadata": {},
   "outputs": [],
   "source": [
    "NIFTY50 = hist.index_components_history(index='Nifty 50',\n",
    "                          start_date='20190801',\n",
    "                          end_date='20190820',\n",
    "                          buffer_start='20190301', # optional\n",
    "                         )"
   ]
  },
  {
   "cell_type": "code",
   "execution_count": null,
   "metadata": {},
   "outputs": [],
   "source": [
    "NIFTY50['TCS']"
   ]
  },
  {
   "cell_type": "markdown",
   "metadata": {},
   "source": [
    "### Slice fetched data based on symbol and dates"
   ]
  },
  {
   "cell_type": "code",
   "execution_count": null,
   "metadata": {},
   "outputs": [],
   "source": [
    "h2 = hist.copy()\n",
    "h2.slice(symbols=['TCS', 'INFY'], start_date='2019-08-06', end_date='2019-08-09')"
   ]
  }
 ],
 "metadata": {
  "kernelspec": {
   "display_name": "Python 3",
   "language": "python",
   "name": "python3"
  },
  "language_info": {
   "codemirror_mode": {
    "name": "ipython",
    "version": 3
   },
   "file_extension": ".py",
   "mimetype": "text/x-python",
   "name": "python",
   "nbconvert_exporter": "python",
   "pygments_lexer": "ipython3",
   "version": "3.6.10"
  }
 },
 "nbformat": 4,
 "nbformat_minor": 4
}
