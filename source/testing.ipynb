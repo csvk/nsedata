{
 "cells": [
  {
   "cell_type": "code",
   "execution_count": null,
   "metadata": {
    "tags": []
   },
   "outputs": [],
   "source": [
    "import os\n",
    "import datadbhandler as dbhandler\n",
    "import pandas as pd\n",
    "import numpy as np\n",
    "\n",
    "PATH = 'D:/Trading/Historical Data/'\n",
    "CSVPATH = 'NSE EOD/'\n",
    "DBPATH = 'db/nsedb.db'\n",
    "MOD_PATH = 'nse_eod_modifiers/'\n",
    "AMI_PATH = 'amibroker_files/'\n",
    "\n",
    "os.chdir(PATH)\n",
    "\n",
    "db = dbhandler.DataDB(DBPATH)"
   ]
  },
  {
   "cell_type": "code",
   "execution_count": null,
   "metadata": {},
   "outputs": [],
   "source": [
    "df = dbhandler.pd.read_csv(db.INDEX_CHANGE_MOD_CSV)"
   ]
  },
  {
   "cell_type": "code",
   "execution_count": null,
   "metadata": {},
   "outputs": [],
   "source": [
    "df.head()"
   ]
  },
  {
   "cell_type": "code",
   "execution_count": null,
   "metadata": {},
   "outputs": [],
   "source": [
    "df.iloc[0][1]"
   ]
  },
  {
   "cell_type": "code",
   "execution_count": null,
   "metadata": {
    "tags": []
   },
   "outputs": [],
   "source": [
    "db.fetch_records('tblModDump', [df.iloc[0][2]], start_date=df.iloc[0][1], end_date=df.iloc[0][1])"
   ]
  },
  {
   "cell_type": "code",
   "execution_count": null,
   "metadata": {
    "tags": []
   },
   "outputs": [],
   "source": [
    "db.fetch_records('tblModDump', [df.iloc[0][2]], start_date=19960918, end_date=19960918)"
   ]
  },
  {
   "cell_type": "code",
   "execution_count": null,
   "metadata": {
    "tags": []
   },
   "outputs": [],
   "source": [
    "db.truncate_table('tblDumpReplace', msg=True)"
   ]
  },
  {
   "cell_type": "code",
   "execution_count": null,
   "metadata": {
    "tags": []
   },
   "outputs": [],
   "source": [
    "db.truncate_table('tblMultipliers', msg=True)"
   ]
  },
  {
   "cell_type": "code",
   "execution_count": null,
   "metadata": {
    "tags": []
   },
   "outputs": [],
   "source": [
    "db.truncate_table('tblSkipped', msg=True)"
   ]
  },
  {
   "cell_type": "code",
   "execution_count": null,
   "metadata": {
    "tags": []
   },
   "outputs": [],
   "source": [
    "db.truncate_table('tblSymbolRange', msg=True)"
   ]
  },
  {
   "cell_type": "code",
   "execution_count": null,
   "metadata": {
    "tags": []
   },
   "outputs": [],
   "source": [
    "db.truncate_table('tblHistIndex', msg=True)"
   ]
  },
  {
   "cell_type": "code",
   "execution_count": null,
   "metadata": {
    "tags": []
   },
   "outputs": [],
   "source": [
    "db.truncate_table('tblDuplicates', msg=True)"
   ]
  },
  {
   "cell_type": "code",
   "execution_count": null,
   "metadata": {
    "tags": []
   },
   "outputs": [],
   "source": [
    "for i in range(1995, 2020):\n",
    "    db.truncate_table('tblModDump{}'.format(i), msg=True)"
   ]
  },
  {
   "cell_type": "code",
   "execution_count": null,
   "metadata": {},
   "outputs": [],
   "source": [
    "import pandas as pd"
   ]
  },
  {
   "cell_type": "code",
   "execution_count": null,
   "metadata": {},
   "outputs": [],
   "source": [
    "df = dbhandler.pd.read_csv(db.SYMBOL_MAPPING_FILE)"
   ]
  },
  {
   "cell_type": "code",
   "execution_count": null,
   "metadata": {},
   "outputs": [],
   "source": [
    "df2 = dbhandler.pd.read_csv(db.INDEX_CHANGE_MOD_CSV)\n",
    "df2.Symbol.value_counts()"
   ]
  },
  {
   "cell_type": "code",
   "execution_count": null,
   "metadata": {
    "tags": []
   },
   "outputs": [],
   "source": [
    "import numpy as np\n",
    "manual = dbhandler.pd.read_csv(db.INDEX_CHANGE_MANUAL_CSV, encoding='ansi')\n",
    "\n",
    "for symbol in ['BAYERCROP', 'ABBOTINDIA']: #manual.Symbol.unique():\n",
    "    symbol_dates = manual[manual.Symbol == symbol]['Date'].unique()\n",
    "    #print(1, symbol, symbol_dates)\n",
    "    #print(2, manual[manual.Symbol == symbol].CorrectSymbol)\n",
    "    correct_symbol = manual[manual.Symbol == symbol].CorrectSymbol.iloc[0]\n",
    "    #print(3, symbol, correct_symbol, symbol_dates)\n",
    "    for date in symbol_dates:\n",
    "        #print(4, symbol, date, correct_symbol)\n",
    "        #print(5, np.where((df2.Symbol == symbol) & (df2.Date == date), correct_symbol, df2.Symbol))\n",
    "        #print(5, np.where(df2.Date == date, correct_symbol, df2.Symbol))\n",
    "        #print(0, symbol, date, correct_symbol)\n",
    "        #print(1, df2[df2.Symbol == symbol])\n",
    "        #print(2, df2[df2.Date == date])\n",
    "        #print(3, df2[(df2.Symbol == symbol) & (df2.Date == date)])\n",
    "        df2['Symbol'] = np.where((df2.Symbol == symbol) & (df2.Date == int(date)), correct_symbol, df2.Symbol)\n",
    "df2.to_csv(db.INDEX_CHANGE_MOD_CSV)"
   ]
  },
  {
   "cell_type": "code",
   "execution_count": null,
   "metadata": {
    "tags": []
   },
   "outputs": [],
   "source": [
    "df2 = dbhandler.pd.read_csv(db.INDEX_CHANGE_MOD_CSV)\n",
    "df2.Symbol.value_counts()"
   ]
  },
  {
   "cell_type": "code",
   "execution_count": null,
   "metadata": {},
   "outputs": [],
   "source": [
    "df"
   ]
  },
  {
   "cell_type": "code",
   "execution_count": null,
   "metadata": {},
   "outputs": [],
   "source": [
    "import pandas as pd"
   ]
  },
  {
   "cell_type": "code",
   "execution_count": null,
   "metadata": {},
   "outputs": [],
   "source": [
    "symbols_range = pd.read_sql_query('''SELECT Symbol, MIN(Date) MinDate, MAX(Date) MaxDate \n",
    "                                        FROM tblModDump{} WHERE Date >= {} \n",
    "                                        GROUP BY Symbol'''.format(2020, 20200805), db.conn)"
   ]
  },
  {
   "cell_type": "code",
   "execution_count": null,
   "metadata": {},
   "outputs": [],
   "source": [
    "symbols_range.index = symbols_range.Symbol\n",
    "symbols_range"
   ]
  },
  {
   "cell_type": "code",
   "execution_count": null,
   "metadata": {},
   "outputs": [],
   "source": [
    "start_date = '20200805'\n",
    "qry = '''SELECT Symbol, Min(Date) MinDate, Max(Date) MaxDate, Source, TableSource, StartDate, EndDate\n",
    "                FROM (SELECT t1.Symbol, t1.Date, 'Dump' Source, t2.TableSource, t2.StartDate, t2.EndDate\n",
    "\t\tFROM tblDump{year} t1\n",
    "\t\tLEFT JOIN tblSymbolRange t2\n",
    "\t\tON t1.Symbol = t2.Symbol\n",
    "\t\tAND TableSource <> 'ModDump'\n",
    "\t\tWHERE t1.Date >= {start_date}\n",
    "\t\tUNION\n",
    "\tSELECT t1.Symbol, t1.Date, 'ModDump' Source, t2.TableSource, t2.StartDate, t2.EndDate\n",
    "\t\tFROM tblModDump{year} t1\n",
    "\t\tLEFT JOIN tblSymbolRange t2\n",
    "\t\tON t1.Symbol = t2.Symbol\n",
    "\t\tAND TableSource <> 'Dump'\n",
    "\t\tWHERE t1.Date >= {start_date}\n",
    "\t\tUNION\n",
    "        SELECT t1.Symbol, t1.Date, 'Dump' Source, t2.TableSource, t2.StartDate, t2.EndDate\n",
    "\t\tFROM tblDump{year} t1\n",
    "\t\tLEFT JOIN tblSymbolRange t2\n",
    "\t\tON t1.Symbol = t2.Symbol\n",
    "\t\tWHERE t1.Date >= {start_date}\n",
    "\t\tUNION\n",
    "\tSELECT t1.Symbol, t1.Date, 'ModDump' Source, t2.TableSource, t2.StartDate, t2.EndDate\n",
    "\t\tFROM tblModDump{year} t1\n",
    "\t\tLEFT JOIN tblSymbolRange t2\n",
    "\t\tON t1.Symbol = t2.Symbol\n",
    "\t\tWHERE t1.Date >= {start_date}) t1\n",
    "        WHERE Source = TableSource \n",
    "        OR TableSource IS NULL\n",
    "        GROUP BY Symbol, Source, TableSource'''.format(start_date=start_date, year=start_date[0:4])"
   ]
  },
  {
   "cell_type": "code",
   "execution_count": null,
   "metadata": {},
   "outputs": [],
   "source": [
    "join = pd.read_sql_query(qry, db.conn)"
   ]
  },
  {
   "cell_type": "code",
   "execution_count": null,
   "metadata": {},
   "outputs": [],
   "source": [
    "join"
   ]
  },
  {
   "cell_type": "code",
   "execution_count": 7,
   "metadata": {
    "tags": []
   },
   "outputs": [
    {
     "output_type": "stream",
     "name": "stdout",
     "text": "Opening Bhavcopy database db/nsedb.db...\n"
    }
   ],
   "source": [
    "import history\n",
    "PATH = 'D:/Trading/Historical Data/'\n",
    "DBPATH = 'db/nsedb.db'\n",
    "\n",
    "os.chdir(PATH)\n",
    "\n",
    "hist = history.History(DBPATH)"
   ]
  },
  {
   "cell_type": "code",
   "execution_count": 17,
   "metadata": {},
   "outputs": [],
   "source": [
    "data = hist.symbol_history_indexflagged('TCS', 'Nifty 50', start_date='20051001', end_date='20200801', buffer_start='20050801')"
   ]
  },
  {
   "cell_type": "code",
   "execution_count": 8,
   "metadata": {
    "tags": []
   },
   "outputs": [
    {
     "output_type": "stream",
     "name": "stdout",
     "text": "fetching data for  COCHINREFN\nfetching data for  PONDS\nfetching data for  THERMAX\nfetching data for  SBIN\nfetching data for  CASTROL\nfetching data for  ESSARGUJ\nfetching data for  IFCI\nfetching data for  AMBUJACEM\nfetching data for  TATACHEM\nfetching data for  COLGATE\nfetching data for  TATASTEEL\nfetching data for  INDOGULF\nfetching data for  RELIANCE\nfetching data for  DRREDDY\nfetching data for  IPCL\nfetching data for  IDBI\nfetching data for  EIHOTEL\nfetching data for  HINDUNILVR\nfetching data for  BAJAJHLDNG\nfetching data for  ITC\nfetching data for  GRASIM\nfetching data for  TATACONSUM\nfetching data for  SCICI\nfetching data for  ABIRLANUVO\nfetching data for  ARVIND\nfetching data for  TATAMOTORS\nfetching data for  RELPETRO\nfetching data for  GESHIPPING\nfetching data for  RELINFRA\nfetching data for  ORIENTBANK\nfetching data for  L&T\nfetching data for  RANBAXY\nfetching data for  NESTLE\nfetching data for  RELCAPITAL\nfetching data for  ICICI\nfetching data for  TVSSUZUKI\nfetching data for ABB\nfetching data for  MRPL\nfetching data for  HINDALCO\nfetching data for  TATAPOWER\nfetching data for  HDFCBANK\nfetching data for  ACC\nfetching data for  GLAXO\nfetching data for  ANDRAVALLY\nfetching data for  ASIANPAINT\nfetching data for  HDFC\nfetching data for  M&M\nfetching data for  INDHOTEL\nfetching data for  BROOKBOND\nfetching data for  ASHOKLEY\nfetching data for  MTNL\nfetching data for  BHEL\nfetching data for  HINDPETRO\nfetching data for  BPCL\nfetching data for  INFY\nfetching data for  PGHH\nfetching data for  CIPLA\nfetching data for  GSKCONS\nfetching data for  NIIT\nfetching data for  HEROMOTOCO\nfetching data for  BANKINDIA\nfetching data for  RECKCOLMAN\nfetching data for  NOVARTIND\nfetching data for  BRITANNIA\nfetching data for  SATYAMCOMP\nfetching data for  DABUR\nfetching data for  HCL-INSYS\nfetching data for  ZEEL\nfetching data for  DIGITALEQP\nfetching data for  SUNPHARMA\nfetching data for  WIPRO\nfetching data for  ICICIBANK\nfetching data for  TATACOMM\nfetching data for  SCI\nfetching data for  HCLTECH\nfetching data for  NATIONALUM\nfetching data for  GAIL\nfetching data for  SAIL\nfetching data for  BHARTIARTL\nfetching data for  MARUTI\nfetching data for  ONGC\nfetching data for  PNB\nfetching data for  LT\nfetching data for  TCS\nfetching data for  JETAIRWAYS\nfetching data for  SIEMENS\nfetching data for  SUZLON\nfetching data for  RCOM\nfetching data for  RPL\nfetching data for  STER\nfetching data for  NTPC\nfetching data for  UNITECH\nfetching data for  IDEA\nfetching data for  CAIRN\nfetching data for  DLF\nfetching data for  POWERGRID\nfetching data for  RPOWER\nfetching data for  AXISBANK\nfetching data for  JINDALSTEL\nfetching data for  IDFC\nfetching data for  JPASSOCIAT\nfetching data for  KOTAKBANK\nfetching data for  BAJAJ-AUTO\nfetching data for  VEDL\nfetching data for  COALINDIA\nfetching data for  BANKBARODA\nfetching data for  ULTRACEMCO\nfetching data for  LUPIN\nfetching data for  INDUSINDBK\nfetching data for  NMDC\nfetching data for  TECHM\nfetching data for  MCDOWELL-N\nfetching data for  YESBANK\nfetching data for  BOSCHLTD\nfetching data for  ADANIPORTS\nfetching data for AUROPHARMA\nfetching data for  TATAMTRDVR\nfetching data for  EICHERMOT\nfetching data for  INFRATEL\nfetching data for  IOC\nfetching data for  IBULHSGFIN\nfetching data for  BAJFINANCE\nfetching data for  UPL\nfetching data for  BAJAJFINSV\nClosing DB connection..\nfetching data for TITAN\nfetching data for  JSWSTEEL\nfetching data for  NESTLEIND\nfetching data for  SHREECEM\nfetching data for  HDFCLIFE\n"
    }
   ],
   "source": [
    "data = hist.index_components_history('Nifty 50', start_date='19960101', end_date='20200801', buffer_start='19960101')"
   ]
  },
  {
   "cell_type": "code",
   "execution_count": 18,
   "metadata": {
    "tags": []
   },
   "outputs": [
    {
     "output_type": "stream",
     "name": "stdout",
     "text": "fetching data for  TCS\n"
    }
   ],
   "source": [
    "import pandas as pd\n",
    "import numpy as np\n",
    "start_date = buffer_start = '19960101'\n",
    "end_date = '20200801'\n",
    "symbol = 'TCS'\n",
    "index = 'Nifty 50'\n",
    "\n",
    "buffer_start = hist.date_check(start_date, end_date, buffer_start)\n",
    "\n",
    "symbol_hist = hist.symbol_history(symbol, start_date, end_date, buffer_start)\n",
    "\n",
    "histIndex, histIndexDates = hist.index_change_history(index)\n",
    "\n",
    "# Index change dates when symbol was part of index\n",
    "df_symbol = histIndex[histIndex.Symbol == symbol]\n",
    "\n",
    "# All index change dates with info on symbol present or absent\n",
    "df_index_symbol = pd.merge(histIndexDates, df_symbol, how='left', on=['Date']).sort_values(by='Date')\n",
    "df_index_symbol.Symbol = np.where(df_index_symbol.IndexName.notnull(), True, np.nan)\n",
    "\n",
    "# Marking dates when symbol was removed from index - 1.0 = Present, 0.0 = Removal, NaN = Absent\n",
    "df_index_symbol.Symbol.fillna(method='ffill', inplace=True, limit=1) \n",
    "df_index_symbol.Symbol = np.where((df_index_symbol.IndexName.isnull()) & \\\n",
    "    (df_index_symbol.Symbol.notnull()), False, df_index_symbol.Symbol)\n",
    "# Removing NaN records, renaming columns\n",
    "df_index_symbol = df_index_symbol[df_index_symbol.Symbol.notnull()][['Date', 'Symbol']]\n",
    "df_index_symbol.columns = ['Date', 'IndexFlag']\n",
    "\n",
    "# Symbol in index on buffer_start?\n",
    "try:\n",
    "    index_flag_buffer_start = df_index_symbol[df_index_symbol.Date.astype(int) < \\\n",
    "        int(buffer_start)].sort_values(by='Date', ascending=False).iloc[0].IndexFlag\n",
    "except IndexError:\n",
    "    index_flag_buffer_start = False\n"
   ]
  },
  {
   "cell_type": "code",
   "execution_count": 19,
   "metadata": {},
   "outputs": [
    {
     "output_type": "execute_result",
     "data": {
      "text/plain": "False"
     },
     "metadata": {},
     "execution_count": 19
    }
   ],
   "source": [
    "index_flag_buffer_start"
   ]
  },
  {
   "cell_type": "code",
   "execution_count": 9,
   "metadata": {},
   "outputs": [
    {
     "output_type": "execute_result",
     "data": {
      "text/plain": "129"
     },
     "metadata": {},
     "execution_count": 9
    }
   ],
   "source": [
    "len(data.keys())"
   ]
  },
  {
   "cell_type": "code",
   "execution_count": 10,
   "metadata": {},
   "outputs": [
    {
     "output_type": "execute_result",
     "data": {
      "text/plain": "     Symbol      Date     Open    High      Low    Close    Volume  \\\n0       TCS  20040825  1198.70  1198.7   979.00   987.95  17116372   \n1       TCS  20040826   992.00   997.0   975.30   979.00   5055400   \n2       TCS  20040827   982.40   982.4   958.55   962.65   3830750   \n3       TCS  20040830   969.90   990.0   965.00   986.75   3058151   \n4       TCS  20040831   986.50   990.0   976.00   988.10   2649332   \n...     ...       ...      ...     ...      ...      ...       ...   \n3938    TCS  20200727  2165.00  2215.0  2163.50  2206.80   4248837   \n3939    TCS  20200728  2215.00  2320.0  2215.00  2309.75   8092458   \n3940    TCS  20200729  2292.00  2342.0  2246.05  2276.05   6090440   \n3941    TCS  20200730  2285.90  2358.0  2272.25  2279.50   7098913   \n3942    TCS  20200731  2303.15  2334.8  2257.45  2281.40   4723290   \n\n      AdjustedOpen  AdjustedHigh  AdjustedLow  AdjustedClose Buffer  IndexFlag  \n0              NaN           NaN          NaN            NaN   None        NaN  \n1              NaN           NaN          NaN            NaN   None        NaN  \n2              NaN           NaN          NaN            NaN   None        NaN  \n3              NaN           NaN          NaN            NaN   None        NaN  \n4              NaN           NaN          NaN            NaN   None        NaN  \n...            ...           ...          ...            ...    ...        ...  \n3938       17320.0       17720.0      17308.0        17654.4   None        1.0  \n3939       17720.0       18560.0      17720.0        18478.0   None        1.0  \n3940       18336.0       18736.0      17968.4        18208.4   None        1.0  \n3941       18287.2       18864.0      18178.0        18236.0   None        1.0  \n3942       18425.2       18678.4      18059.6        18251.2   None        1.0  \n\n[3943 rows x 13 columns]",
      "text/html": "<div>\n<style scoped>\n    .dataframe tbody tr th:only-of-type {\n        vertical-align: middle;\n    }\n\n    .dataframe tbody tr th {\n        vertical-align: top;\n    }\n\n    .dataframe thead th {\n        text-align: right;\n    }\n</style>\n<table border=\"1\" class=\"dataframe\">\n  <thead>\n    <tr style=\"text-align: right;\">\n      <th></th>\n      <th>Symbol</th>\n      <th>Date</th>\n      <th>Open</th>\n      <th>High</th>\n      <th>Low</th>\n      <th>Close</th>\n      <th>Volume</th>\n      <th>AdjustedOpen</th>\n      <th>AdjustedHigh</th>\n      <th>AdjustedLow</th>\n      <th>AdjustedClose</th>\n      <th>Buffer</th>\n      <th>IndexFlag</th>\n    </tr>\n  </thead>\n  <tbody>\n    <tr>\n      <td>0</td>\n      <td>TCS</td>\n      <td>20040825</td>\n      <td>1198.70</td>\n      <td>1198.7</td>\n      <td>979.00</td>\n      <td>987.95</td>\n      <td>17116372</td>\n      <td>NaN</td>\n      <td>NaN</td>\n      <td>NaN</td>\n      <td>NaN</td>\n      <td>None</td>\n      <td>NaN</td>\n    </tr>\n    <tr>\n      <td>1</td>\n      <td>TCS</td>\n      <td>20040826</td>\n      <td>992.00</td>\n      <td>997.0</td>\n      <td>975.30</td>\n      <td>979.00</td>\n      <td>5055400</td>\n      <td>NaN</td>\n      <td>NaN</td>\n      <td>NaN</td>\n      <td>NaN</td>\n      <td>None</td>\n      <td>NaN</td>\n    </tr>\n    <tr>\n      <td>2</td>\n      <td>TCS</td>\n      <td>20040827</td>\n      <td>982.40</td>\n      <td>982.4</td>\n      <td>958.55</td>\n      <td>962.65</td>\n      <td>3830750</td>\n      <td>NaN</td>\n      <td>NaN</td>\n      <td>NaN</td>\n      <td>NaN</td>\n      <td>None</td>\n      <td>NaN</td>\n    </tr>\n    <tr>\n      <td>3</td>\n      <td>TCS</td>\n      <td>20040830</td>\n      <td>969.90</td>\n      <td>990.0</td>\n      <td>965.00</td>\n      <td>986.75</td>\n      <td>3058151</td>\n      <td>NaN</td>\n      <td>NaN</td>\n      <td>NaN</td>\n      <td>NaN</td>\n      <td>None</td>\n      <td>NaN</td>\n    </tr>\n    <tr>\n      <td>4</td>\n      <td>TCS</td>\n      <td>20040831</td>\n      <td>986.50</td>\n      <td>990.0</td>\n      <td>976.00</td>\n      <td>988.10</td>\n      <td>2649332</td>\n      <td>NaN</td>\n      <td>NaN</td>\n      <td>NaN</td>\n      <td>NaN</td>\n      <td>None</td>\n      <td>NaN</td>\n    </tr>\n    <tr>\n      <td>...</td>\n      <td>...</td>\n      <td>...</td>\n      <td>...</td>\n      <td>...</td>\n      <td>...</td>\n      <td>...</td>\n      <td>...</td>\n      <td>...</td>\n      <td>...</td>\n      <td>...</td>\n      <td>...</td>\n      <td>...</td>\n      <td>...</td>\n    </tr>\n    <tr>\n      <td>3938</td>\n      <td>TCS</td>\n      <td>20200727</td>\n      <td>2165.00</td>\n      <td>2215.0</td>\n      <td>2163.50</td>\n      <td>2206.80</td>\n      <td>4248837</td>\n      <td>17320.0</td>\n      <td>17720.0</td>\n      <td>17308.0</td>\n      <td>17654.4</td>\n      <td>None</td>\n      <td>1.0</td>\n    </tr>\n    <tr>\n      <td>3939</td>\n      <td>TCS</td>\n      <td>20200728</td>\n      <td>2215.00</td>\n      <td>2320.0</td>\n      <td>2215.00</td>\n      <td>2309.75</td>\n      <td>8092458</td>\n      <td>17720.0</td>\n      <td>18560.0</td>\n      <td>17720.0</td>\n      <td>18478.0</td>\n      <td>None</td>\n      <td>1.0</td>\n    </tr>\n    <tr>\n      <td>3940</td>\n      <td>TCS</td>\n      <td>20200729</td>\n      <td>2292.00</td>\n      <td>2342.0</td>\n      <td>2246.05</td>\n      <td>2276.05</td>\n      <td>6090440</td>\n      <td>18336.0</td>\n      <td>18736.0</td>\n      <td>17968.4</td>\n      <td>18208.4</td>\n      <td>None</td>\n      <td>1.0</td>\n    </tr>\n    <tr>\n      <td>3941</td>\n      <td>TCS</td>\n      <td>20200730</td>\n      <td>2285.90</td>\n      <td>2358.0</td>\n      <td>2272.25</td>\n      <td>2279.50</td>\n      <td>7098913</td>\n      <td>18287.2</td>\n      <td>18864.0</td>\n      <td>18178.0</td>\n      <td>18236.0</td>\n      <td>None</td>\n      <td>1.0</td>\n    </tr>\n    <tr>\n      <td>3942</td>\n      <td>TCS</td>\n      <td>20200731</td>\n      <td>2303.15</td>\n      <td>2334.8</td>\n      <td>2257.45</td>\n      <td>2281.40</td>\n      <td>4723290</td>\n      <td>18425.2</td>\n      <td>18678.4</td>\n      <td>18059.6</td>\n      <td>18251.2</td>\n      <td>None</td>\n      <td>1.0</td>\n    </tr>\n  </tbody>\n</table>\n<p>3943 rows × 13 columns</p>\n</div>"
     },
     "metadata": {},
     "execution_count": 10
    }
   ],
   "source": [
    "data['TCS']"
   ]
  },
  {
   "cell_type": "code",
   "execution_count": 5,
   "metadata": {},
   "outputs": [
    {
     "output_type": "execute_result",
     "data": {
      "text/plain": "3817.0"
     },
     "metadata": {},
     "execution_count": 5
    }
   ],
   "source": [
    "data['TCS'].IndexFlag.sum()"
   ]
  },
  {
   "cell_type": "code",
   "execution_count": 11,
   "metadata": {},
   "outputs": [
    {
     "output_type": "execute_result",
     "data": {
      "text/plain": "    Symbol      Date     Open     High      Low    Close   Volume  \\\n100    TCS  20050118  1274.70  1284.00  1257.50  1263.85   772908   \n101    TCS  20050119  1266.00  1273.70  1251.10  1255.40   442311   \n102    TCS  20050120  1255.00  1255.00  1230.00  1243.70   567025   \n103    TCS  20050124  1243.70  1247.35  1215.35  1220.65   453524   \n104    TCS  20050125  1214.80  1239.90  1207.10  1235.45   558241   \n105    TCS  20050127  1243.25  1253.80  1235.30  1240.55   681918   \n106    TCS  20050128  1242.85  1294.80  1242.50  1289.20  1049227   \n107    TCS  20050131  1298.00  1311.80  1290.25  1300.40   731673   \n108    TCS  20050201  1307.00  1320.00  1287.00  1315.25  1002480   \n109    TCS  20050202  1319.00  1323.45  1303.00  1308.95   608807   \n110    TCS  20050203  1312.00  1314.75  1302.00  1311.10   415952   \n111    TCS  20050204  1310.00  1322.00  1300.55  1306.45   335505   \n112    TCS  20050207  1312.60  1330.70  1301.00  1313.75   743027   \n113    TCS  20050208  1313.75  1323.00  1308.00  1316.00   410554   \n114    TCS  20050209  1321.00  1343.60  1320.75  1332.80   692242   \n115    TCS  20050210  1330.00  1343.50  1323.00  1332.65   547081   \n116    TCS  20050211  1338.00  1387.00  1338.00  1381.75  1295887   \n117    TCS  20050214  1391.05  1418.00  1391.05  1409.65  1109408   \n118    TCS  20050215  1410.00  1415.00  1374.00  1381.35   497090   \n119    TCS  20050216  1399.00  1399.00  1361.00  1368.15   390854   \n120    TCS  20050217  1368.15  1386.00  1350.60  1381.85   515622   \n121    TCS  20050218  1380.00  1392.00  1355.00  1375.00   318143   \n122    TCS  20050221  1371.00  1375.80  1345.10  1365.55   222144   \n123    TCS  20050222  1364.70  1369.95  1351.00  1363.45   267380   \n124    TCS  20050223  1363.45  1382.10  1355.15  1374.95   645852   \n125    TCS  20050224  1374.95  1395.90  1361.20  1367.95  1350805   \n126    TCS  20050225  1376.80  1379.00  1353.15  1364.05   633862   \n127    TCS  20050228  1379.00  1385.00  1340.00  1380.90   800301   \n128    TCS  20050301  1381.00  1440.00  1351.00  1357.45   619769   \n129    TCS  20050302  1375.00  1375.00  1361.60  1368.00   332264   \n130    TCS  20050303  1370.00  1395.00  1364.00  1389.55   361395   \n131    TCS  20050304  1394.00  1403.50  1382.00  1392.25   502234   \n132    TCS  20050307  1395.00  1408.00  1394.00  1400.20   457254   \n133    TCS  20050308  1404.00  1420.90  1395.35  1413.95   628460   \n134    TCS  20050309  1409.00  1426.50  1395.05  1407.50   677761   \n135    TCS  20050310  1410.00  1410.00  1390.25  1399.55   287785   \n136    TCS  20050311  1406.00  1434.90  1405.00  1427.45   650718   \n137    TCS  20050314  1428.00  1460.00  1420.00  1451.85   816754   \n138    TCS  20050315  1451.00  1462.00  1430.00  1442.65   518310   \n139    TCS  20050316  1440.00  1467.60  1440.00  1452.05   684177   \n140    TCS  20050317  1448.00  1473.70  1440.00  1460.95   850666   \n141    TCS  20050318  1459.00  1472.50  1425.00  1468.70   765433   \n142    TCS  20050321  1470.15  1475.00  1444.60  1456.45   544265   \n143    TCS  20050322  1454.80  1457.10  1440.10  1443.55   335554   \n144    TCS  20050323  1440.00  1448.00  1413.35  1421.25   429927   \n145    TCS  20050324  1430.00  1438.00  1377.65  1384.35   744322   \n146    TCS  20050328  1391.00  1408.85  1384.00  1392.40   462466   \n147    TCS  20050329  1395.00  1398.00  1362.20  1370.90   381675   \n148    TCS  20050330  1371.10  1400.00  1360.00  1390.55   514407   \n149    TCS  20050331  1404.50  1445.10  1397.25  1432.05   864330   \n\n     AdjustedOpen  AdjustedHigh  AdjustedLow  AdjustedClose Buffer  IndexFlag  \n100           NaN           NaN          NaN            NaN   None        NaN  \n101           NaN           NaN          NaN            NaN   None        NaN  \n102           NaN           NaN          NaN            NaN   None        NaN  \n103           NaN           NaN          NaN            NaN   None        NaN  \n104           NaN           NaN          NaN            NaN   None        NaN  \n105           NaN           NaN          NaN            NaN   None        NaN  \n106           NaN           NaN          NaN            NaN   None        NaN  \n107           NaN           NaN          NaN            NaN   None        NaN  \n108           NaN           NaN          NaN            NaN   None        NaN  \n109           NaN           NaN          NaN            NaN   None        NaN  \n110           NaN           NaN          NaN            NaN   None        NaN  \n111           NaN           NaN          NaN            NaN   None        NaN  \n112           NaN           NaN          NaN            NaN   None        NaN  \n113           NaN           NaN          NaN            NaN   None        NaN  \n114           NaN           NaN          NaN            NaN   None        NaN  \n115           NaN           NaN          NaN            NaN   None        NaN  \n116           NaN           NaN          NaN            NaN   None        NaN  \n117           NaN           NaN          NaN            NaN   None        NaN  \n118           NaN           NaN          NaN            NaN   None        NaN  \n119           NaN           NaN          NaN            NaN   None        NaN  \n120           NaN           NaN          NaN            NaN   None        NaN  \n121           NaN           NaN          NaN            NaN   None        NaN  \n122           NaN           NaN          NaN            NaN   None        NaN  \n123           NaN           NaN          NaN            NaN   None        NaN  \n124           NaN           NaN          NaN            NaN   None        NaN  \n125           NaN           NaN          NaN            NaN   None        NaN  \n126           NaN           NaN          NaN            NaN   None        1.0  \n127           NaN           NaN          NaN            NaN   None        1.0  \n128           NaN           NaN          NaN            NaN   None        1.0  \n129           NaN           NaN          NaN            NaN   None        1.0  \n130           NaN           NaN          NaN            NaN   None        1.0  \n131           NaN           NaN          NaN            NaN   None        1.0  \n132           NaN           NaN          NaN            NaN   None        1.0  \n133           NaN           NaN          NaN            NaN   None        1.0  \n134           NaN           NaN          NaN            NaN   None        1.0  \n135           NaN           NaN          NaN            NaN   None        1.0  \n136           NaN           NaN          NaN            NaN   None        1.0  \n137           NaN           NaN          NaN            NaN   None        1.0  \n138           NaN           NaN          NaN            NaN   None        1.0  \n139           NaN           NaN          NaN            NaN   None        1.0  \n140           NaN           NaN          NaN            NaN   None        1.0  \n141           NaN           NaN          NaN            NaN   None        1.0  \n142           NaN           NaN          NaN            NaN   None        1.0  \n143           NaN           NaN          NaN            NaN   None        1.0  \n144           NaN           NaN          NaN            NaN   None        1.0  \n145           NaN           NaN          NaN            NaN   None        1.0  \n146           NaN           NaN          NaN            NaN   None        1.0  \n147           NaN           NaN          NaN            NaN   None        1.0  \n148           NaN           NaN          NaN            NaN   None        1.0  \n149           NaN           NaN          NaN            NaN   None        1.0  ",
      "text/html": "<div>\n<style scoped>\n    .dataframe tbody tr th:only-of-type {\n        vertical-align: middle;\n    }\n\n    .dataframe tbody tr th {\n        vertical-align: top;\n    }\n\n    .dataframe thead th {\n        text-align: right;\n    }\n</style>\n<table border=\"1\" class=\"dataframe\">\n  <thead>\n    <tr style=\"text-align: right;\">\n      <th></th>\n      <th>Symbol</th>\n      <th>Date</th>\n      <th>Open</th>\n      <th>High</th>\n      <th>Low</th>\n      <th>Close</th>\n      <th>Volume</th>\n      <th>AdjustedOpen</th>\n      <th>AdjustedHigh</th>\n      <th>AdjustedLow</th>\n      <th>AdjustedClose</th>\n      <th>Buffer</th>\n      <th>IndexFlag</th>\n    </tr>\n  </thead>\n  <tbody>\n    <tr>\n      <td>100</td>\n      <td>TCS</td>\n      <td>20050118</td>\n      <td>1274.70</td>\n      <td>1284.00</td>\n      <td>1257.50</td>\n      <td>1263.85</td>\n      <td>772908</td>\n      <td>NaN</td>\n      <td>NaN</td>\n      <td>NaN</td>\n      <td>NaN</td>\n      <td>None</td>\n      <td>NaN</td>\n    </tr>\n    <tr>\n      <td>101</td>\n      <td>TCS</td>\n      <td>20050119</td>\n      <td>1266.00</td>\n      <td>1273.70</td>\n      <td>1251.10</td>\n      <td>1255.40</td>\n      <td>442311</td>\n      <td>NaN</td>\n      <td>NaN</td>\n      <td>NaN</td>\n      <td>NaN</td>\n      <td>None</td>\n      <td>NaN</td>\n    </tr>\n    <tr>\n      <td>102</td>\n      <td>TCS</td>\n      <td>20050120</td>\n      <td>1255.00</td>\n      <td>1255.00</td>\n      <td>1230.00</td>\n      <td>1243.70</td>\n      <td>567025</td>\n      <td>NaN</td>\n      <td>NaN</td>\n      <td>NaN</td>\n      <td>NaN</td>\n      <td>None</td>\n      <td>NaN</td>\n    </tr>\n    <tr>\n      <td>103</td>\n      <td>TCS</td>\n      <td>20050124</td>\n      <td>1243.70</td>\n      <td>1247.35</td>\n      <td>1215.35</td>\n      <td>1220.65</td>\n      <td>453524</td>\n      <td>NaN</td>\n      <td>NaN</td>\n      <td>NaN</td>\n      <td>NaN</td>\n      <td>None</td>\n      <td>NaN</td>\n    </tr>\n    <tr>\n      <td>104</td>\n      <td>TCS</td>\n      <td>20050125</td>\n      <td>1214.80</td>\n      <td>1239.90</td>\n      <td>1207.10</td>\n      <td>1235.45</td>\n      <td>558241</td>\n      <td>NaN</td>\n      <td>NaN</td>\n      <td>NaN</td>\n      <td>NaN</td>\n      <td>None</td>\n      <td>NaN</td>\n    </tr>\n    <tr>\n      <td>105</td>\n      <td>TCS</td>\n      <td>20050127</td>\n      <td>1243.25</td>\n      <td>1253.80</td>\n      <td>1235.30</td>\n      <td>1240.55</td>\n      <td>681918</td>\n      <td>NaN</td>\n      <td>NaN</td>\n      <td>NaN</td>\n      <td>NaN</td>\n      <td>None</td>\n      <td>NaN</td>\n    </tr>\n    <tr>\n      <td>106</td>\n      <td>TCS</td>\n      <td>20050128</td>\n      <td>1242.85</td>\n      <td>1294.80</td>\n      <td>1242.50</td>\n      <td>1289.20</td>\n      <td>1049227</td>\n      <td>NaN</td>\n      <td>NaN</td>\n      <td>NaN</td>\n      <td>NaN</td>\n      <td>None</td>\n      <td>NaN</td>\n    </tr>\n    <tr>\n      <td>107</td>\n      <td>TCS</td>\n      <td>20050131</td>\n      <td>1298.00</td>\n      <td>1311.80</td>\n      <td>1290.25</td>\n      <td>1300.40</td>\n      <td>731673</td>\n      <td>NaN</td>\n      <td>NaN</td>\n      <td>NaN</td>\n      <td>NaN</td>\n      <td>None</td>\n      <td>NaN</td>\n    </tr>\n    <tr>\n      <td>108</td>\n      <td>TCS</td>\n      <td>20050201</td>\n      <td>1307.00</td>\n      <td>1320.00</td>\n      <td>1287.00</td>\n      <td>1315.25</td>\n      <td>1002480</td>\n      <td>NaN</td>\n      <td>NaN</td>\n      <td>NaN</td>\n      <td>NaN</td>\n      <td>None</td>\n      <td>NaN</td>\n    </tr>\n    <tr>\n      <td>109</td>\n      <td>TCS</td>\n      <td>20050202</td>\n      <td>1319.00</td>\n      <td>1323.45</td>\n      <td>1303.00</td>\n      <td>1308.95</td>\n      <td>608807</td>\n      <td>NaN</td>\n      <td>NaN</td>\n      <td>NaN</td>\n      <td>NaN</td>\n      <td>None</td>\n      <td>NaN</td>\n    </tr>\n    <tr>\n      <td>110</td>\n      <td>TCS</td>\n      <td>20050203</td>\n      <td>1312.00</td>\n      <td>1314.75</td>\n      <td>1302.00</td>\n      <td>1311.10</td>\n      <td>415952</td>\n      <td>NaN</td>\n      <td>NaN</td>\n      <td>NaN</td>\n      <td>NaN</td>\n      <td>None</td>\n      <td>NaN</td>\n    </tr>\n    <tr>\n      <td>111</td>\n      <td>TCS</td>\n      <td>20050204</td>\n      <td>1310.00</td>\n      <td>1322.00</td>\n      <td>1300.55</td>\n      <td>1306.45</td>\n      <td>335505</td>\n      <td>NaN</td>\n      <td>NaN</td>\n      <td>NaN</td>\n      <td>NaN</td>\n      <td>None</td>\n      <td>NaN</td>\n    </tr>\n    <tr>\n      <td>112</td>\n      <td>TCS</td>\n      <td>20050207</td>\n      <td>1312.60</td>\n      <td>1330.70</td>\n      <td>1301.00</td>\n      <td>1313.75</td>\n      <td>743027</td>\n      <td>NaN</td>\n      <td>NaN</td>\n      <td>NaN</td>\n      <td>NaN</td>\n      <td>None</td>\n      <td>NaN</td>\n    </tr>\n    <tr>\n      <td>113</td>\n      <td>TCS</td>\n      <td>20050208</td>\n      <td>1313.75</td>\n      <td>1323.00</td>\n      <td>1308.00</td>\n      <td>1316.00</td>\n      <td>410554</td>\n      <td>NaN</td>\n      <td>NaN</td>\n      <td>NaN</td>\n      <td>NaN</td>\n      <td>None</td>\n      <td>NaN</td>\n    </tr>\n    <tr>\n      <td>114</td>\n      <td>TCS</td>\n      <td>20050209</td>\n      <td>1321.00</td>\n      <td>1343.60</td>\n      <td>1320.75</td>\n      <td>1332.80</td>\n      <td>692242</td>\n      <td>NaN</td>\n      <td>NaN</td>\n      <td>NaN</td>\n      <td>NaN</td>\n      <td>None</td>\n      <td>NaN</td>\n    </tr>\n    <tr>\n      <td>115</td>\n      <td>TCS</td>\n      <td>20050210</td>\n      <td>1330.00</td>\n      <td>1343.50</td>\n      <td>1323.00</td>\n      <td>1332.65</td>\n      <td>547081</td>\n      <td>NaN</td>\n      <td>NaN</td>\n      <td>NaN</td>\n      <td>NaN</td>\n      <td>None</td>\n      <td>NaN</td>\n    </tr>\n    <tr>\n      <td>116</td>\n      <td>TCS</td>\n      <td>20050211</td>\n      <td>1338.00</td>\n      <td>1387.00</td>\n      <td>1338.00</td>\n      <td>1381.75</td>\n      <td>1295887</td>\n      <td>NaN</td>\n      <td>NaN</td>\n      <td>NaN</td>\n      <td>NaN</td>\n      <td>None</td>\n      <td>NaN</td>\n    </tr>\n    <tr>\n      <td>117</td>\n      <td>TCS</td>\n      <td>20050214</td>\n      <td>1391.05</td>\n      <td>1418.00</td>\n      <td>1391.05</td>\n      <td>1409.65</td>\n      <td>1109408</td>\n      <td>NaN</td>\n      <td>NaN</td>\n      <td>NaN</td>\n      <td>NaN</td>\n      <td>None</td>\n      <td>NaN</td>\n    </tr>\n    <tr>\n      <td>118</td>\n      <td>TCS</td>\n      <td>20050215</td>\n      <td>1410.00</td>\n      <td>1415.00</td>\n      <td>1374.00</td>\n      <td>1381.35</td>\n      <td>497090</td>\n      <td>NaN</td>\n      <td>NaN</td>\n      <td>NaN</td>\n      <td>NaN</td>\n      <td>None</td>\n      <td>NaN</td>\n    </tr>\n    <tr>\n      <td>119</td>\n      <td>TCS</td>\n      <td>20050216</td>\n      <td>1399.00</td>\n      <td>1399.00</td>\n      <td>1361.00</td>\n      <td>1368.15</td>\n      <td>390854</td>\n      <td>NaN</td>\n      <td>NaN</td>\n      <td>NaN</td>\n      <td>NaN</td>\n      <td>None</td>\n      <td>NaN</td>\n    </tr>\n    <tr>\n      <td>120</td>\n      <td>TCS</td>\n      <td>20050217</td>\n      <td>1368.15</td>\n      <td>1386.00</td>\n      <td>1350.60</td>\n      <td>1381.85</td>\n      <td>515622</td>\n      <td>NaN</td>\n      <td>NaN</td>\n      <td>NaN</td>\n      <td>NaN</td>\n      <td>None</td>\n      <td>NaN</td>\n    </tr>\n    <tr>\n      <td>121</td>\n      <td>TCS</td>\n      <td>20050218</td>\n      <td>1380.00</td>\n      <td>1392.00</td>\n      <td>1355.00</td>\n      <td>1375.00</td>\n      <td>318143</td>\n      <td>NaN</td>\n      <td>NaN</td>\n      <td>NaN</td>\n      <td>NaN</td>\n      <td>None</td>\n      <td>NaN</td>\n    </tr>\n    <tr>\n      <td>122</td>\n      <td>TCS</td>\n      <td>20050221</td>\n      <td>1371.00</td>\n      <td>1375.80</td>\n      <td>1345.10</td>\n      <td>1365.55</td>\n      <td>222144</td>\n      <td>NaN</td>\n      <td>NaN</td>\n      <td>NaN</td>\n      <td>NaN</td>\n      <td>None</td>\n      <td>NaN</td>\n    </tr>\n    <tr>\n      <td>123</td>\n      <td>TCS</td>\n      <td>20050222</td>\n      <td>1364.70</td>\n      <td>1369.95</td>\n      <td>1351.00</td>\n      <td>1363.45</td>\n      <td>267380</td>\n      <td>NaN</td>\n      <td>NaN</td>\n      <td>NaN</td>\n      <td>NaN</td>\n      <td>None</td>\n      <td>NaN</td>\n    </tr>\n    <tr>\n      <td>124</td>\n      <td>TCS</td>\n      <td>20050223</td>\n      <td>1363.45</td>\n      <td>1382.10</td>\n      <td>1355.15</td>\n      <td>1374.95</td>\n      <td>645852</td>\n      <td>NaN</td>\n      <td>NaN</td>\n      <td>NaN</td>\n      <td>NaN</td>\n      <td>None</td>\n      <td>NaN</td>\n    </tr>\n    <tr>\n      <td>125</td>\n      <td>TCS</td>\n      <td>20050224</td>\n      <td>1374.95</td>\n      <td>1395.90</td>\n      <td>1361.20</td>\n      <td>1367.95</td>\n      <td>1350805</td>\n      <td>NaN</td>\n      <td>NaN</td>\n      <td>NaN</td>\n      <td>NaN</td>\n      <td>None</td>\n      <td>NaN</td>\n    </tr>\n    <tr>\n      <td>126</td>\n      <td>TCS</td>\n      <td>20050225</td>\n      <td>1376.80</td>\n      <td>1379.00</td>\n      <td>1353.15</td>\n      <td>1364.05</td>\n      <td>633862</td>\n      <td>NaN</td>\n      <td>NaN</td>\n      <td>NaN</td>\n      <td>NaN</td>\n      <td>None</td>\n      <td>1.0</td>\n    </tr>\n    <tr>\n      <td>127</td>\n      <td>TCS</td>\n      <td>20050228</td>\n      <td>1379.00</td>\n      <td>1385.00</td>\n      <td>1340.00</td>\n      <td>1380.90</td>\n      <td>800301</td>\n      <td>NaN</td>\n      <td>NaN</td>\n      <td>NaN</td>\n      <td>NaN</td>\n      <td>None</td>\n      <td>1.0</td>\n    </tr>\n    <tr>\n      <td>128</td>\n      <td>TCS</td>\n      <td>20050301</td>\n      <td>1381.00</td>\n      <td>1440.00</td>\n      <td>1351.00</td>\n      <td>1357.45</td>\n      <td>619769</td>\n      <td>NaN</td>\n      <td>NaN</td>\n      <td>NaN</td>\n      <td>NaN</td>\n      <td>None</td>\n      <td>1.0</td>\n    </tr>\n    <tr>\n      <td>129</td>\n      <td>TCS</td>\n      <td>20050302</td>\n      <td>1375.00</td>\n      <td>1375.00</td>\n      <td>1361.60</td>\n      <td>1368.00</td>\n      <td>332264</td>\n      <td>NaN</td>\n      <td>NaN</td>\n      <td>NaN</td>\n      <td>NaN</td>\n      <td>None</td>\n      <td>1.0</td>\n    </tr>\n    <tr>\n      <td>130</td>\n      <td>TCS</td>\n      <td>20050303</td>\n      <td>1370.00</td>\n      <td>1395.00</td>\n      <td>1364.00</td>\n      <td>1389.55</td>\n      <td>361395</td>\n      <td>NaN</td>\n      <td>NaN</td>\n      <td>NaN</td>\n      <td>NaN</td>\n      <td>None</td>\n      <td>1.0</td>\n    </tr>\n    <tr>\n      <td>131</td>\n      <td>TCS</td>\n      <td>20050304</td>\n      <td>1394.00</td>\n      <td>1403.50</td>\n      <td>1382.00</td>\n      <td>1392.25</td>\n      <td>502234</td>\n      <td>NaN</td>\n      <td>NaN</td>\n      <td>NaN</td>\n      <td>NaN</td>\n      <td>None</td>\n      <td>1.0</td>\n    </tr>\n    <tr>\n      <td>132</td>\n      <td>TCS</td>\n      <td>20050307</td>\n      <td>1395.00</td>\n      <td>1408.00</td>\n      <td>1394.00</td>\n      <td>1400.20</td>\n      <td>457254</td>\n      <td>NaN</td>\n      <td>NaN</td>\n      <td>NaN</td>\n      <td>NaN</td>\n      <td>None</td>\n      <td>1.0</td>\n    </tr>\n    <tr>\n      <td>133</td>\n      <td>TCS</td>\n      <td>20050308</td>\n      <td>1404.00</td>\n      <td>1420.90</td>\n      <td>1395.35</td>\n      <td>1413.95</td>\n      <td>628460</td>\n      <td>NaN</td>\n      <td>NaN</td>\n      <td>NaN</td>\n      <td>NaN</td>\n      <td>None</td>\n      <td>1.0</td>\n    </tr>\n    <tr>\n      <td>134</td>\n      <td>TCS</td>\n      <td>20050309</td>\n      <td>1409.00</td>\n      <td>1426.50</td>\n      <td>1395.05</td>\n      <td>1407.50</td>\n      <td>677761</td>\n      <td>NaN</td>\n      <td>NaN</td>\n      <td>NaN</td>\n      <td>NaN</td>\n      <td>None</td>\n      <td>1.0</td>\n    </tr>\n    <tr>\n      <td>135</td>\n      <td>TCS</td>\n      <td>20050310</td>\n      <td>1410.00</td>\n      <td>1410.00</td>\n      <td>1390.25</td>\n      <td>1399.55</td>\n      <td>287785</td>\n      <td>NaN</td>\n      <td>NaN</td>\n      <td>NaN</td>\n      <td>NaN</td>\n      <td>None</td>\n      <td>1.0</td>\n    </tr>\n    <tr>\n      <td>136</td>\n      <td>TCS</td>\n      <td>20050311</td>\n      <td>1406.00</td>\n      <td>1434.90</td>\n      <td>1405.00</td>\n      <td>1427.45</td>\n      <td>650718</td>\n      <td>NaN</td>\n      <td>NaN</td>\n      <td>NaN</td>\n      <td>NaN</td>\n      <td>None</td>\n      <td>1.0</td>\n    </tr>\n    <tr>\n      <td>137</td>\n      <td>TCS</td>\n      <td>20050314</td>\n      <td>1428.00</td>\n      <td>1460.00</td>\n      <td>1420.00</td>\n      <td>1451.85</td>\n      <td>816754</td>\n      <td>NaN</td>\n      <td>NaN</td>\n      <td>NaN</td>\n      <td>NaN</td>\n      <td>None</td>\n      <td>1.0</td>\n    </tr>\n    <tr>\n      <td>138</td>\n      <td>TCS</td>\n      <td>20050315</td>\n      <td>1451.00</td>\n      <td>1462.00</td>\n      <td>1430.00</td>\n      <td>1442.65</td>\n      <td>518310</td>\n      <td>NaN</td>\n      <td>NaN</td>\n      <td>NaN</td>\n      <td>NaN</td>\n      <td>None</td>\n      <td>1.0</td>\n    </tr>\n    <tr>\n      <td>139</td>\n      <td>TCS</td>\n      <td>20050316</td>\n      <td>1440.00</td>\n      <td>1467.60</td>\n      <td>1440.00</td>\n      <td>1452.05</td>\n      <td>684177</td>\n      <td>NaN</td>\n      <td>NaN</td>\n      <td>NaN</td>\n      <td>NaN</td>\n      <td>None</td>\n      <td>1.0</td>\n    </tr>\n    <tr>\n      <td>140</td>\n      <td>TCS</td>\n      <td>20050317</td>\n      <td>1448.00</td>\n      <td>1473.70</td>\n      <td>1440.00</td>\n      <td>1460.95</td>\n      <td>850666</td>\n      <td>NaN</td>\n      <td>NaN</td>\n      <td>NaN</td>\n      <td>NaN</td>\n      <td>None</td>\n      <td>1.0</td>\n    </tr>\n    <tr>\n      <td>141</td>\n      <td>TCS</td>\n      <td>20050318</td>\n      <td>1459.00</td>\n      <td>1472.50</td>\n      <td>1425.00</td>\n      <td>1468.70</td>\n      <td>765433</td>\n      <td>NaN</td>\n      <td>NaN</td>\n      <td>NaN</td>\n      <td>NaN</td>\n      <td>None</td>\n      <td>1.0</td>\n    </tr>\n    <tr>\n      <td>142</td>\n      <td>TCS</td>\n      <td>20050321</td>\n      <td>1470.15</td>\n      <td>1475.00</td>\n      <td>1444.60</td>\n      <td>1456.45</td>\n      <td>544265</td>\n      <td>NaN</td>\n      <td>NaN</td>\n      <td>NaN</td>\n      <td>NaN</td>\n      <td>None</td>\n      <td>1.0</td>\n    </tr>\n    <tr>\n      <td>143</td>\n      <td>TCS</td>\n      <td>20050322</td>\n      <td>1454.80</td>\n      <td>1457.10</td>\n      <td>1440.10</td>\n      <td>1443.55</td>\n      <td>335554</td>\n      <td>NaN</td>\n      <td>NaN</td>\n      <td>NaN</td>\n      <td>NaN</td>\n      <td>None</td>\n      <td>1.0</td>\n    </tr>\n    <tr>\n      <td>144</td>\n      <td>TCS</td>\n      <td>20050323</td>\n      <td>1440.00</td>\n      <td>1448.00</td>\n      <td>1413.35</td>\n      <td>1421.25</td>\n      <td>429927</td>\n      <td>NaN</td>\n      <td>NaN</td>\n      <td>NaN</td>\n      <td>NaN</td>\n      <td>None</td>\n      <td>1.0</td>\n    </tr>\n    <tr>\n      <td>145</td>\n      <td>TCS</td>\n      <td>20050324</td>\n      <td>1430.00</td>\n      <td>1438.00</td>\n      <td>1377.65</td>\n      <td>1384.35</td>\n      <td>744322</td>\n      <td>NaN</td>\n      <td>NaN</td>\n      <td>NaN</td>\n      <td>NaN</td>\n      <td>None</td>\n      <td>1.0</td>\n    </tr>\n    <tr>\n      <td>146</td>\n      <td>TCS</td>\n      <td>20050328</td>\n      <td>1391.00</td>\n      <td>1408.85</td>\n      <td>1384.00</td>\n      <td>1392.40</td>\n      <td>462466</td>\n      <td>NaN</td>\n      <td>NaN</td>\n      <td>NaN</td>\n      <td>NaN</td>\n      <td>None</td>\n      <td>1.0</td>\n    </tr>\n    <tr>\n      <td>147</td>\n      <td>TCS</td>\n      <td>20050329</td>\n      <td>1395.00</td>\n      <td>1398.00</td>\n      <td>1362.20</td>\n      <td>1370.90</td>\n      <td>381675</td>\n      <td>NaN</td>\n      <td>NaN</td>\n      <td>NaN</td>\n      <td>NaN</td>\n      <td>None</td>\n      <td>1.0</td>\n    </tr>\n    <tr>\n      <td>148</td>\n      <td>TCS</td>\n      <td>20050330</td>\n      <td>1371.10</td>\n      <td>1400.00</td>\n      <td>1360.00</td>\n      <td>1390.55</td>\n      <td>514407</td>\n      <td>NaN</td>\n      <td>NaN</td>\n      <td>NaN</td>\n      <td>NaN</td>\n      <td>None</td>\n      <td>1.0</td>\n    </tr>\n    <tr>\n      <td>149</td>\n      <td>TCS</td>\n      <td>20050331</td>\n      <td>1404.50</td>\n      <td>1445.10</td>\n      <td>1397.25</td>\n      <td>1432.05</td>\n      <td>864330</td>\n      <td>NaN</td>\n      <td>NaN</td>\n      <td>NaN</td>\n      <td>NaN</td>\n      <td>None</td>\n      <td>1.0</td>\n    </tr>\n  </tbody>\n</table>\n</div>"
     },
     "metadata": {},
     "execution_count": 11
    }
   ],
   "source": [
    "data['TCS'].iloc[100:150]"
   ]
  }
 ],
 "metadata": {
  "kernelspec": {
   "display_name": "tf",
   "language": "python",
   "name": "tf"
  },
  "language_info": {
   "codemirror_mode": {
    "name": "ipython",
    "version": 3
   },
   "file_extension": ".py",
   "mimetype": "text/x-python",
   "name": "python",
   "nbconvert_exporter": "python",
   "pygments_lexer": "ipython3",
   "version": "3.7.4-final"
  }
 },
 "nbformat": 4,
 "nbformat_minor": 4
}