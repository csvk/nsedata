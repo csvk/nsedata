{
 "cells": [
  {
   "cell_type": "code",
   "execution_count": null,
   "metadata": {
    "tags": []
   },
   "outputs": [],
   "source": [
    "import os\n",
    "import datadbhandler as dbhandler\n",
    "import pandas as pd\n",
    "import numpy as np\n",
    "\n",
    "PATH = 'D:/Trading/Historical Data/'\n",
    "CSVPATH = 'NSE EOD/'\n",
    "DBPATH = 'db/nsedb.db'\n",
    "MOD_PATH = 'nse_eod_modifiers/'\n",
    "AMI_PATH = 'amibroker_files/'\n",
    "\n",
    "os.chdir(PATH)\n",
    "\n",
    "db = dbhandler.DataDB(DBPATH)"
   ]
  },
  {
   "cell_type": "code",
   "execution_count": null,
   "metadata": {},
   "outputs": [],
   "source": [
    "df = dbhandler.pd.read_csv(db.INDEX_CHANGE_MOD_CSV)"
   ]
  },
  {
   "cell_type": "code",
   "execution_count": null,
   "metadata": {},
   "outputs": [],
   "source": [
    "df.head()"
   ]
  },
  {
   "cell_type": "code",
   "execution_count": null,
   "metadata": {},
   "outputs": [],
   "source": [
    "df.iloc[0][1]"
   ]
  },
  {
   "cell_type": "code",
   "execution_count": null,
   "metadata": {
    "tags": []
   },
   "outputs": [],
   "source": [
    "db.fetch_records('tblModDump', [df.iloc[0][2]], start_date=df.iloc[0][1], end_date=df.iloc[0][1])"
   ]
  },
  {
   "cell_type": "code",
   "execution_count": null,
   "metadata": {
    "tags": []
   },
   "outputs": [],
   "source": [
    "db.fetch_records('tblModDump', [df.iloc[0][2]], start_date=19960918, end_date=19960918)"
   ]
  },
  {
   "cell_type": "code",
   "execution_count": null,
   "metadata": {
    "tags": []
   },
   "outputs": [],
   "source": [
    "db.truncate_table('tblDumpReplace', msg=True)"
   ]
  },
  {
   "cell_type": "code",
   "execution_count": null,
   "metadata": {
    "tags": []
   },
   "outputs": [],
   "source": [
    "db.truncate_table('tblMultipliers', msg=True)"
   ]
  },
  {
   "cell_type": "code",
   "execution_count": null,
   "metadata": {
    "tags": []
   },
   "outputs": [],
   "source": [
    "db.truncate_table('tblSkipped', msg=True)"
   ]
  },
  {
   "cell_type": "code",
   "execution_count": null,
   "metadata": {
    "tags": []
   },
   "outputs": [],
   "source": [
    "db.truncate_table('tblSymbolRange', msg=True)"
   ]
  },
  {
   "cell_type": "code",
   "execution_count": null,
   "metadata": {
    "tags": []
   },
   "outputs": [],
   "source": [
    "db.truncate_table('tblHistIndex', msg=True)"
   ]
  },
  {
   "cell_type": "code",
   "execution_count": null,
   "metadata": {
    "tags": []
   },
   "outputs": [],
   "source": [
    "db.truncate_table('tblDuplicates', msg=True)"
   ]
  },
  {
   "cell_type": "code",
   "execution_count": null,
   "metadata": {
    "tags": []
   },
   "outputs": [],
   "source": [
    "for i in range(1995, 2020):\n",
    "    db.truncate_table('tblModDump{}'.format(i), msg=True)"
   ]
  },
  {
   "cell_type": "code",
   "execution_count": null,
   "metadata": {},
   "outputs": [],
   "source": [
    "import pandas as pd"
   ]
  },
  {
   "cell_type": "code",
   "execution_count": null,
   "metadata": {},
   "outputs": [],
   "source": [
    "df = dbhandler.pd.read_csv(db.SYMBOL_MAPPING_FILE)"
   ]
  },
  {
   "cell_type": "code",
   "execution_count": null,
   "metadata": {},
   "outputs": [],
   "source": [
    "df2 = dbhandler.pd.read_csv(db.INDEX_CHANGE_MOD_CSV)\n",
    "df2.Symbol.value_counts()"
   ]
  },
  {
   "cell_type": "code",
   "execution_count": null,
   "metadata": {
    "tags": []
   },
   "outputs": [],
   "source": [
    "import numpy as np\n",
    "manual = dbhandler.pd.read_csv(db.INDEX_CHANGE_MANUAL_CSV, encoding='ansi')\n",
    "\n",
    "for symbol in ['BAYERCROP', 'ABBOTINDIA']: #manual.Symbol.unique():\n",
    "    symbol_dates = manual[manual.Symbol == symbol]['Date'].unique()\n",
    "    #print(1, symbol, symbol_dates)\n",
    "    #print(2, manual[manual.Symbol == symbol].CorrectSymbol)\n",
    "    correct_symbol = manual[manual.Symbol == symbol].CorrectSymbol.iloc[0]\n",
    "    #print(3, symbol, correct_symbol, symbol_dates)\n",
    "    for date in symbol_dates:\n",
    "        #print(4, symbol, date, correct_symbol)\n",
    "        #print(5, np.where((df2.Symbol == symbol) & (df2.Date == date), correct_symbol, df2.Symbol))\n",
    "        #print(5, np.where(df2.Date == date, correct_symbol, df2.Symbol))\n",
    "        #print(0, symbol, date, correct_symbol)\n",
    "        #print(1, df2[df2.Symbol == symbol])\n",
    "        #print(2, df2[df2.Date == date])\n",
    "        #print(3, df2[(df2.Symbol == symbol) & (df2.Date == date)])\n",
    "        df2['Symbol'] = np.where((df2.Symbol == symbol) & (df2.Date == int(date)), correct_symbol, df2.Symbol)\n",
    "df2.to_csv(db.INDEX_CHANGE_MOD_CSV)"
   ]
  },
  {
   "cell_type": "code",
   "execution_count": null,
   "metadata": {
    "tags": []
   },
   "outputs": [],
   "source": [
    "df2 = dbhandler.pd.read_csv(db.INDEX_CHANGE_MOD_CSV)\n",
    "df2.Symbol.value_counts()"
   ]
  },
  {
   "cell_type": "code",
   "execution_count": null,
   "metadata": {},
   "outputs": [],
   "source": [
    "df"
   ]
  },
  {
   "cell_type": "code",
   "execution_count": null,
   "metadata": {},
   "outputs": [],
   "source": [
    "import pandas as pd"
   ]
  },
  {
   "cell_type": "code",
   "execution_count": null,
   "metadata": {},
   "outputs": [],
   "source": [
    "symbols_range = pd.read_sql_query('''SELECT Symbol, MIN(Date) MinDate, MAX(Date) MaxDate \n",
    "                                        FROM tblModDump{} WHERE Date >= {} \n",
    "                                        GROUP BY Symbol'''.format(2020, 20200805), db.conn)"
   ]
  },
  {
   "cell_type": "code",
   "execution_count": null,
   "metadata": {},
   "outputs": [],
   "source": [
    "symbols_range.index = symbols_range.Symbol\n",
    "symbols_range"
   ]
  },
  {
   "cell_type": "code",
   "execution_count": null,
   "metadata": {},
   "outputs": [],
   "source": [
    "start_date = '20200805'\n",
    "qry = '''SELECT Symbol, Min(Date) MinDate, Max(Date) MaxDate, Source, TableSource, StartDate, EndDate\n",
    "                FROM (SELECT t1.Symbol, t1.Date, 'Dump' Source, t2.TableSource, t2.StartDate, t2.EndDate\n",
    "\t\tFROM tblDump{year} t1\n",
    "\t\tLEFT JOIN tblSymbolRange t2\n",
    "\t\tON t1.Symbol = t2.Symbol\n",
    "\t\tAND TableSource <> 'ModDump'\n",
    "\t\tWHERE t1.Date >= {start_date}\n",
    "\t\tUNION\n",
    "\tSELECT t1.Symbol, t1.Date, 'ModDump' Source, t2.TableSource, t2.StartDate, t2.EndDate\n",
    "\t\tFROM tblModDump{year} t1\n",
    "\t\tLEFT JOIN tblSymbolRange t2\n",
    "\t\tON t1.Symbol = t2.Symbol\n",
    "\t\tAND TableSource <> 'Dump'\n",
    "\t\tWHERE t1.Date >= {start_date}\n",
    "\t\tUNION\n",
    "        SELECT t1.Symbol, t1.Date, 'Dump' Source, t2.TableSource, t2.StartDate, t2.EndDate\n",
    "\t\tFROM tblDump{year} t1\n",
    "\t\tLEFT JOIN tblSymbolRange t2\n",
    "\t\tON t1.Symbol = t2.Symbol\n",
    "\t\tWHERE t1.Date >= {start_date}\n",
    "\t\tUNION\n",
    "\tSELECT t1.Symbol, t1.Date, 'ModDump' Source, t2.TableSource, t2.StartDate, t2.EndDate\n",
    "\t\tFROM tblModDump{year} t1\n",
    "\t\tLEFT JOIN tblSymbolRange t2\n",
    "\t\tON t1.Symbol = t2.Symbol\n",
    "\t\tWHERE t1.Date >= {start_date}) t1\n",
    "        WHERE Source = TableSource \n",
    "        OR TableSource IS NULL\n",
    "        GROUP BY Symbol, Source, TableSource'''.format(start_date=start_date, year=start_date[0:4])"
   ]
  },
  {
   "cell_type": "code",
   "execution_count": null,
   "metadata": {},
   "outputs": [],
   "source": [
    "join = pd.read_sql_query(qry, db.conn)"
   ]
  },
  {
   "cell_type": "code",
   "execution_count": null,
   "metadata": {},
   "outputs": [],
   "source": [
    "join"
   ]
  },
  {
   "cell_type": "code",
   "execution_count": 1,
   "metadata": {},
   "outputs": [],
   "source": [
    "import history\n",
    "PATH = 'D:/Trading/Historical Data/'\n",
    "DBPATH = 'db/nsedb.db'\n",
    "\n",
    "os.chdir(PATH)"
   ]
  },
  {
   "cell_type": "code",
   "execution_count": 3,
   "metadata": {
    "tags": []
   },
   "outputs": [
    {
     "output_type": "stream",
     "name": "stdout",
     "text": "Opening Bhavcopy database db/nsedb.db...\n"
    }
   ],
   "source": [
    "hist = history.History(DBPATH)"
   ]
  },
  {
   "cell_type": "code",
   "execution_count": null,
   "metadata": {
    "tags": []
   },
   "outputs": [],
   "source": [
    "data = hist.symbol_history('RELCAPITAL', start_date='19981001', end_date='20200801', buffer_start='19980801')"
   ]
  },
  {
   "cell_type": "code",
   "execution_count": null,
   "metadata": {},
   "outputs": [],
   "source": [
    "df1, df2 = hist.index_change_history('Nifty 50')"
   ]
  },
  {
   "cell_type": "code",
   "execution_count": null,
   "metadata": {},
   "outputs": [],
   "source": [
    "df1.head(5)"
   ]
  },
  {
   "cell_type": "code",
   "execution_count": null,
   "metadata": {},
   "outputs": [],
   "source": [
    "df2.head(5)"
   ]
  },
  {
   "cell_type": "code",
   "execution_count": null,
   "metadata": {},
   "outputs": [],
   "source": [
    "dfx = df1[df1.Symbol == 'RELCAPITAL'] "
   ]
  },
  {
   "cell_type": "code",
   "execution_count": null,
   "metadata": {},
   "outputs": [],
   "source": [
    "dfx"
   ]
  },
  {
   "cell_type": "code",
   "execution_count": null,
   "metadata": {},
   "outputs": [],
   "source": [
    "import pandas as pd\n",
    "import numpy as np\n",
    "df3 = pd.merge(df2, dfx, how='left', on=['Date']).sort_values(by='Date')"
   ]
  },
  {
   "cell_type": "code",
   "execution_count": null,
   "metadata": {},
   "outputs": [],
   "source": [
    "df3"
   ]
  },
  {
   "cell_type": "code",
   "execution_count": null,
   "metadata": {},
   "outputs": [],
   "source": [
    "df3.Symbol = np.where(df3.IndexName.notnull(), True, np.nan)"
   ]
  },
  {
   "cell_type": "code",
   "execution_count": null,
   "metadata": {},
   "outputs": [],
   "source": [
    "df3.Symbol.fillna(method='ffill', inplace=True, limit=1)"
   ]
  },
  {
   "cell_type": "code",
   "execution_count": null,
   "metadata": {},
   "outputs": [],
   "source": [
    "df3"
   ]
  },
  {
   "cell_type": "code",
   "execution_count": null,
   "metadata": {},
   "outputs": [],
   "source": [
    "df3.Symbol = np.where((df3.IndexName.isnull()) & (df3.Symbol.notnull()), False, df3.Symbol)"
   ]
  },
  {
   "cell_type": "code",
   "execution_count": null,
   "metadata": {},
   "outputs": [],
   "source": [
    "df3"
   ]
  },
  {
   "cell_type": "code",
   "execution_count": null,
   "metadata": {},
   "outputs": [],
   "source": [
    "df3 = df3[df3.Symbol.notnull()][['Date', 'Symbol']]"
   ]
  },
  {
   "cell_type": "code",
   "execution_count": null,
   "metadata": {},
   "outputs": [],
   "source": [
    "df3.columns = ['Date', 'IndexFlag']"
   ]
  },
  {
   "cell_type": "code",
   "execution_count": null,
   "metadata": {},
   "outputs": [],
   "source": [
    "df3"
   ]
  },
  {
   "cell_type": "code",
   "execution_count": null,
   "metadata": {},
   "outputs": [],
   "source": [
    "df4 = pd.merge(data, df3, how='left', on=['Date']).sort_values(by='Date')"
   ]
  },
  {
   "cell_type": "code",
   "execution_count": null,
   "metadata": {},
   "outputs": [],
   "source": [
    "df4.iloc[150:200]"
   ]
  },
  {
   "cell_type": "code",
   "execution_count": null,
   "metadata": {},
   "outputs": [],
   "source": [
    "df4[df4.IndexFlag.notnull()]"
   ]
  },
  {
   "cell_type": "code",
   "execution_count": null,
   "metadata": {},
   "outputs": [],
   "source": [
    "df5 = df4"
   ]
  },
  {
   "cell_type": "code",
   "execution_count": null,
   "metadata": {},
   "outputs": [],
   "source": [
    "df5 = df5.IndexFlag.fillna(method='ffill')"
   ]
  },
  {
   "cell_type": "code",
   "execution_count": null,
   "metadata": {},
   "outputs": [],
   "source": [
    "df5.IndexFlag = np.where(df5.IndexFlag is False, np.nan, df5.IndexFlag)"
   ]
  },
  {
   "cell_type": "code",
   "execution_count": null,
   "metadata": {},
   "outputs": [],
   "source": [
    "df5.iloc[3850:3900]"
   ]
  },
  {
   "cell_type": "code",
   "execution_count": null,
   "metadata": {},
   "outputs": [],
   "source": [
    "df5.head(50)"
   ]
  },
  {
   "cell_type": "code",
   "execution_count": null,
   "metadata": {},
   "outputs": [],
   "source": [
    "df3[df3.Date.astype(int) < 19980801].sort_values(by='Date', ascending=False).iloc[0].IndexFlag"
   ]
  },
  {
   "cell_type": "code",
   "execution_count": null,
   "metadata": {},
   "outputs": [],
   "source": [
    "dfn = hist.symbol_history_index_flagged('RELCAPITAL', 'Nifty 50', start_date='19981001', end_date='20200801', buffer_start='19980801')"
   ]
  },
  {
   "cell_type": "code",
   "execution_count": null,
   "metadata": {},
   "outputs": [],
   "source": [
    "dfn"
   ]
  },
  {
   "cell_type": "code",
   "execution_count": null,
   "metadata": {},
   "outputs": [],
   "source": [
    "df5.IndexFlag[45:].equals(dfn.IndexFlag[45:])"
   ]
  },
  {
   "cell_type": "code",
   "execution_count": null,
   "metadata": {},
   "outputs": [],
   "source": [
    "df5[45:].equals(dfn[45:])"
   ]
  },
  {
   "cell_type": "code",
   "execution_count": null,
   "metadata": {
    "tags": []
   },
   "outputs": [],
   "source": [
    "for col in df5.columns:\n",
    "    print(col, df5[col].equals(dfn[col]))"
   ]
  },
  {
   "cell_type": "code",
   "execution_count": null,
   "metadata": {},
   "outputs": [],
   "source": [
    "df5.Buffer.sum(), dfn.Buffer.sum()"
   ]
  },
  {
   "cell_type": "code",
   "execution_count": null,
   "metadata": {},
   "outputs": [],
   "source": [
    "df5.IndexFlag.sum(), dfn.IndexFlag.sum()"
   ]
  },
  {
   "cell_type": "code",
   "execution_count": null,
   "metadata": {},
   "outputs": [],
   "source": [
    "df5.IndexFlag[:44] == dfn.IndexFlag[:44]"
   ]
  },
  {
   "cell_type": "code",
   "execution_count": null,
   "metadata": {},
   "outputs": [],
   "source": [
    "dfn[['Date', 'IndexFlag']][3250:3300]"
   ]
  },
  {
   "cell_type": "code",
   "execution_count": null,
   "metadata": {},
   "outputs": [],
   "source": [
    "dfn"
   ]
  },
  {
   "cell_type": "code",
   "execution_count": 4,
   "metadata": {},
   "outputs": [
    {
     "output_type": "error",
     "ename": "AssertionError",
     "evalue": "End date 19970801 cannot be less than start date 19981001",
     "traceback": [
      "\u001b[1;31m---------------------------------------------------------------------------\u001b[0m",
      "\u001b[1;31mAssertionError\u001b[0m                            Traceback (most recent call last)",
      "\u001b[1;32m<ipython-input-4-b45856d0a8e5>\u001b[0m in \u001b[0;36m<module>\u001b[1;34m\u001b[0m\n\u001b[1;32m----> 1\u001b[1;33m \u001b[0mdata\u001b[0m \u001b[1;33m=\u001b[0m \u001b[0mhist\u001b[0m\u001b[1;33m.\u001b[0m\u001b[0msymbol_history\u001b[0m\u001b[1;33m(\u001b[0m\u001b[1;34m'RELCAPITAL'\u001b[0m\u001b[1;33m,\u001b[0m \u001b[0mstart_date\u001b[0m\u001b[1;33m=\u001b[0m\u001b[1;34m'19981001'\u001b[0m\u001b[1;33m,\u001b[0m \u001b[0mend_date\u001b[0m\u001b[1;33m=\u001b[0m\u001b[1;34m'19970801'\u001b[0m\u001b[1;33m,\u001b[0m \u001b[0mbuffer_start\u001b[0m\u001b[1;33m=\u001b[0m\u001b[1;34m'19980801'\u001b[0m\u001b[1;33m)\u001b[0m\u001b[1;33m\u001b[0m\u001b[1;33m\u001b[0m\u001b[0m\n\u001b[0m",
      "\u001b[1;32md:\\Studies\\nsedata\\source\\history.py\u001b[0m in \u001b[0;36msymbol_history\u001b[1;34m(self, symbol, start_date, end_date, buffer_start)\u001b[0m\n\u001b[0;32m     41\u001b[0m         \"\"\"\n\u001b[0;32m     42\u001b[0m \u001b[1;33m\u001b[0m\u001b[0m\n\u001b[1;32m---> 43\u001b[1;33m         \u001b[0mbuffer_start\u001b[0m \u001b[1;33m=\u001b[0m \u001b[0mself\u001b[0m\u001b[1;33m.\u001b[0m\u001b[0mdate_check\u001b[0m\u001b[1;33m(\u001b[0m\u001b[0mstart_date\u001b[0m\u001b[1;33m,\u001b[0m \u001b[0mend_date\u001b[0m\u001b[1;33m,\u001b[0m \u001b[0mbuffer_start\u001b[0m\u001b[1;33m)\u001b[0m\u001b[1;33m\u001b[0m\u001b[1;33m\u001b[0m\u001b[0m\n\u001b[0m\u001b[0;32m     44\u001b[0m \u001b[1;33m\u001b[0m\u001b[0m\n\u001b[0;32m     45\u001b[0m         \u001b[0mdf\u001b[0m \u001b[1;33m=\u001b[0m \u001b[0mself\u001b[0m\u001b[1;33m.\u001b[0m\u001b[0mdb\u001b[0m\u001b[1;33m.\u001b[0m\u001b[0mfetch_records\u001b[0m\u001b[1;33m(\u001b[0m\u001b[1;34m'tblModDump'\u001b[0m\u001b[1;33m,\u001b[0m \u001b[1;33m[\u001b[0m\u001b[0msymbol\u001b[0m\u001b[1;33m]\u001b[0m\u001b[1;33m,\u001b[0m \u001b[0mbuffer_start\u001b[0m\u001b[1;33m,\u001b[0m \u001b[0mend_date\u001b[0m\u001b[1;33m)\u001b[0m\u001b[1;33m\u001b[0m\u001b[1;33m\u001b[0m\u001b[0m\n",
      "\u001b[1;32md:\\Studies\\nsedata\\source\\history.py\u001b[0m in \u001b[0;36mdate_check\u001b[1;34m(self, start_date, end_date, buffer_start)\u001b[0m\n\u001b[0;32m     21\u001b[0m         \u001b[1;34m\"\"\"Perform parameter date checks\"\"\"\u001b[0m\u001b[1;33m\u001b[0m\u001b[1;33m\u001b[0m\u001b[0m\n\u001b[0;32m     22\u001b[0m         assert int(start_date) <= int(end_date), 'End date {} cannot be less than start date {}'.format(\n\u001b[1;32m---> 23\u001b[1;33m                 end_date, start_date)\n\u001b[0m\u001b[0;32m     24\u001b[0m \u001b[1;33m\u001b[0m\u001b[0m\n\u001b[0;32m     25\u001b[0m         \u001b[1;32mif\u001b[0m \u001b[0mbuffer_start\u001b[0m \u001b[1;33m==\u001b[0m \u001b[1;36m0\u001b[0m\u001b[1;33m:\u001b[0m\u001b[1;33m\u001b[0m\u001b[1;33m\u001b[0m\u001b[0m\n",
      "\u001b[1;31mAssertionError\u001b[0m: End date 19970801 cannot be less than start date 19981001"
     ]
    }
   ],
   "source": [
    "data = hist.symbol_history('RELCAPITAL', start_date='19981001', end_date='19970801', buffer_start='19980801')"
   ]
  },
  {
   "cell_type": "code",
   "execution_count": 5,
   "metadata": {},
   "outputs": [
    {
     "output_type": "error",
     "ename": "AssertionError",
     "evalue": "End date 19970801 cannot be less than start date 19981001",
     "traceback": [
      "\u001b[1;31m---------------------------------------------------------------------------\u001b[0m",
      "\u001b[1;31mAssertionError\u001b[0m                            Traceback (most recent call last)",
      "\u001b[1;32m<ipython-input-5-69ce22183ee6>\u001b[0m in \u001b[0;36m<module>\u001b[1;34m\u001b[0m\n\u001b[1;32m----> 1\u001b[1;33m \u001b[0mhist\u001b[0m\u001b[1;33m.\u001b[0m\u001b[0mindex_components_history\u001b[0m\u001b[1;33m(\u001b[0m\u001b[1;34m'Nifty 50'\u001b[0m\u001b[1;33m,\u001b[0m \u001b[0mstart_date\u001b[0m\u001b[1;33m=\u001b[0m\u001b[1;34m'19981001'\u001b[0m\u001b[1;33m,\u001b[0m \u001b[0mend_date\u001b[0m\u001b[1;33m=\u001b[0m\u001b[1;34m'19970801'\u001b[0m\u001b[1;33m,\u001b[0m \u001b[0mbuffer_start\u001b[0m\u001b[1;33m=\u001b[0m\u001b[1;34m'19980801'\u001b[0m\u001b[1;33m)\u001b[0m\u001b[1;33m\u001b[0m\u001b[1;33m\u001b[0m\u001b[0m\n\u001b[0m",
      "\u001b[1;32md:\\Studies\\nsedata\\source\\history.py\u001b[0m in \u001b[0;36mindex_components_history\u001b[1;34m(self, index, start_date, end_date, buffer_start)\u001b[0m\n\u001b[0;32m    128\u001b[0m         \"\"\"\n\u001b[0;32m    129\u001b[0m \u001b[1;33m\u001b[0m\u001b[0m\n\u001b[1;32m--> 130\u001b[1;33m         \u001b[0mbuffer_start\u001b[0m \u001b[1;33m=\u001b[0m \u001b[0mself\u001b[0m\u001b[1;33m.\u001b[0m\u001b[0mdate_check\u001b[0m\u001b[1;33m(\u001b[0m\u001b[0mstart_date\u001b[0m\u001b[1;33m,\u001b[0m \u001b[0mend_date\u001b[0m\u001b[1;33m,\u001b[0m \u001b[0mbuffer_start\u001b[0m\u001b[1;33m)\u001b[0m\u001b[1;33m\u001b[0m\u001b[1;33m\u001b[0m\u001b[0m\n\u001b[0m\u001b[0;32m    131\u001b[0m \u001b[1;33m\u001b[0m\u001b[0m\n\u001b[0;32m    132\u001b[0m         \u001b[0mhistIndex\u001b[0m\u001b[1;33m,\u001b[0m \u001b[0mhistIndexDates\u001b[0m \u001b[1;33m=\u001b[0m \u001b[0mself\u001b[0m\u001b[1;33m.\u001b[0m\u001b[0mindex_change_history\u001b[0m\u001b[1;33m(\u001b[0m\u001b[0mindex\u001b[0m\u001b[1;33m)\u001b[0m\u001b[1;33m\u001b[0m\u001b[1;33m\u001b[0m\u001b[0m\n",
      "\u001b[1;32md:\\Studies\\nsedata\\source\\history.py\u001b[0m in \u001b[0;36mdate_check\u001b[1;34m(self, start_date, end_date, buffer_start)\u001b[0m\n\u001b[0;32m     21\u001b[0m         \u001b[1;34m\"\"\"Perform parameter date checks\"\"\"\u001b[0m\u001b[1;33m\u001b[0m\u001b[1;33m\u001b[0m\u001b[0m\n\u001b[0;32m     22\u001b[0m         assert int(start_date) <= int(end_date), 'End date {} cannot be less than start date {}'.format(\n\u001b[1;32m---> 23\u001b[1;33m                 end_date, start_date)\n\u001b[0m\u001b[0;32m     24\u001b[0m \u001b[1;33m\u001b[0m\u001b[0m\n\u001b[0;32m     25\u001b[0m         \u001b[1;32mif\u001b[0m \u001b[0mbuffer_start\u001b[0m \u001b[1;33m==\u001b[0m \u001b[1;36m0\u001b[0m\u001b[1;33m:\u001b[0m\u001b[1;33m\u001b[0m\u001b[1;33m\u001b[0m\u001b[0m\n",
      "\u001b[1;31mAssertionError\u001b[0m: End date 19970801 cannot be less than start date 19981001"
     ]
    }
   ],
   "source": [
    "hist.index_components_history('Nifty 50', start_date='19981001', end_date='19970801', buffer_start='19980801')"
   ]
  },
  {
   "cell_type": "code",
   "execution_count": null,
   "metadata": {},
   "outputs": [],
   "source": [
    "data = hist.symbol_history('RELCAPITAL', start_date='19981001', 'Nifty 50', end_date='19970801', buffer_start='19980801')"
   ]
  }
 ],
 "metadata": {
  "kernelspec": {
   "display_name": "tf",
   "language": "python",
   "name": "tf"
  },
  "language_info": {
   "codemirror_mode": {
    "name": "ipython",
    "version": 3
   },
   "file_extension": ".py",
   "mimetype": "text/x-python",
   "name": "python",
   "nbconvert_exporter": "python",
   "pygments_lexer": "ipython3",
   "version": "3.7.4-final"
  }
 },
 "nbformat": 4,
 "nbformat_minor": 4
}