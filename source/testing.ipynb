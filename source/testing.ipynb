{
 "cells": [
  {
   "cell_type": "code",
   "execution_count": null,
   "metadata": {
    "tags": []
   },
   "outputs": [],
   "source": [
    "import os\n",
    "import datadbhandler as dbhandler\n",
    "import pandas as pd\n",
    "import numpy as np\n",
    "\n",
    "PATH = 'D:/Trading/Historical Data/'\n",
    "CSVPATH = 'NSE EOD/'\n",
    "DBPATH = 'db/nsedb.db'\n",
    "MOD_PATH = 'nse_eod_modifiers/'\n",
    "AMI_PATH = 'amibroker_files/'\n",
    "\n",
    "os.chdir(PATH)\n",
    "\n",
    "db = dbhandler.DataDB(DBPATH)"
   ]
  },
  {
   "cell_type": "code",
   "execution_count": null,
   "metadata": {},
   "outputs": [],
   "source": [
    "df = dbhandler.pd.read_csv(db.INDEX_CHANGE_MOD_CSV)"
   ]
  },
  {
   "cell_type": "code",
   "execution_count": null,
   "metadata": {},
   "outputs": [],
   "source": [
    "df.head()"
   ]
  },
  {
   "cell_type": "code",
   "execution_count": null,
   "metadata": {
    "tags": []
   },
   "outputs": [],
   "source": [
    "db.fetch_records('tblModDump', [df.iloc[0][2]], start_date=df.iloc[0][1], end_date=df.iloc[0][1])"
   ]
  },
  {
   "cell_type": "code",
   "execution_count": null,
   "metadata": {
    "tags": []
   },
   "outputs": [],
   "source": [
    "db.fetch_records('tblModDump', [df.iloc[0][2]], start_date=19960918, end_date=19960918)"
   ]
  },
  {
   "cell_type": "code",
   "execution_count": null,
   "metadata": {
    "tags": []
   },
   "outputs": [],
   "source": [
    "db.truncate_table('tblDumpReplace', msg=True)"
   ]
  },
  {
   "cell_type": "code",
   "execution_count": null,
   "metadata": {
    "tags": []
   },
   "outputs": [],
   "source": [
    "db.truncate_table('tblMultipliers', msg=True)"
   ]
  },
  {
   "cell_type": "code",
   "execution_count": null,
   "metadata": {
    "tags": []
   },
   "outputs": [],
   "source": [
    "db.truncate_table('tblSkipped', msg=True)"
   ]
  },
  {
   "cell_type": "code",
   "execution_count": null,
   "metadata": {
    "tags": []
   },
   "outputs": [],
   "source": [
    "db.truncate_table('tblSymbolRange', msg=True)"
   ]
  },
  {
   "cell_type": "code",
   "execution_count": null,
   "metadata": {
    "tags": []
   },
   "outputs": [],
   "source": [
    "db.truncate_table('tblHistIndex', msg=True)"
   ]
  },
  {
   "cell_type": "code",
   "execution_count": null,
   "metadata": {
    "tags": []
   },
   "outputs": [],
   "source": [
    "db.truncate_table('tblDuplicates', msg=True)"
   ]
  },
  {
   "cell_type": "code",
   "execution_count": null,
   "metadata": {
    "tags": []
   },
   "outputs": [],
   "source": [
    "for i in range(1995, 2020):\n",
    "    db.truncate_table('tblModDump{}'.format(i), msg=True)"
   ]
  },
  {
   "cell_type": "code",
   "execution_count": null,
   "metadata": {},
   "outputs": [],
   "source": [
    "import pandas as pd"
   ]
  },
  {
   "cell_type": "code",
   "execution_count": null,
   "metadata": {},
   "outputs": [],
   "source": [
    "df = dbhandler.pd.read_csv(db.SYMBOL_MAPPING_FILE)"
   ]
  },
  {
   "cell_type": "code",
   "execution_count": null,
   "metadata": {},
   "outputs": [],
   "source": [
    "df2 = dbhandler.pd.read_csv(db.INDEX_CHANGE_MOD_CSV)\n",
    "df2.Symbol.value_counts()"
   ]
  },
  {
   "cell_type": "code",
   "execution_count": null,
   "metadata": {
    "tags": []
   },
   "outputs": [],
   "source": [
    "df2 = dbhandler.pd.read_csv(db.INDEX_CHANGE_MOD_CSV)\n",
    "df2.Symbol.value_counts()"
   ]
  },
  {
   "cell_type": "code",
   "execution_count": null,
   "metadata": {},
   "outputs": [],
   "source": [
    "df"
   ]
  },
  {
   "cell_type": "code",
   "execution_count": null,
   "metadata": {},
   "outputs": [],
   "source": [
    "import pandas as pd"
   ]
  },
  {
   "cell_type": "code",
   "execution_count": null,
   "metadata": {},
   "outputs": [],
   "source": [
    "symbols_range.index = symbols_range.Symbol\n",
    "symbols_range"
   ]
  },
  {
   "cell_type": "code",
   "execution_count": null,
   "metadata": {},
   "outputs": [],
   "source": [
    "join = pd.read_sql_query(qry, db.conn)"
   ]
  },
  {
   "cell_type": "code",
   "execution_count": null,
   "metadata": {},
   "outputs": [],
   "source": [
    "join"
   ]
  },
  {
   "cell_type": "code",
   "execution_count": 1,
   "metadata": {
    "tags": []
   },
   "outputs": [
    {
     "output_type": "stream",
     "name": "stdout",
     "text": "Opening Bhavcopy database db/nsedb.db...\n"
    }
   ],
   "source": [
    "import history\n",
    "import pandas as pd\n",
    "import numpy as np\n",
    "PATH = 'D:/Trading/Historical Data/'\n",
    "DBPATH = 'db/nsedb.db'\n",
    "\n",
    "os.chdir(PATH)\n",
    "\n",
    "hist = history.History(DBPATH)"
   ]
  },
  {
   "cell_type": "code",
   "execution_count": 2,
   "metadata": {},
   "outputs": [],
   "source": [
    "histIndex, histIndexDates = hist.index_change_history('Nifty 50')"
   ]
  },
  {
   "cell_type": "code",
   "execution_count": 3,
   "metadata": {},
   "outputs": [
    {
     "output_type": "execute_result",
     "data": {
      "text/plain": "        Date IndexName      Symbol\n0   19960918  Nifty 50  RELCAPITAL\n1   19970507  Nifty 50  RELCAPITAL\n2   19970514  Nifty 50  RELCAPITAL\n3   19971224  Nifty 50  RELCAPITAL\n4   19981007  Nifty 50  RELCAPITAL\n5   19990526       NaN         NaN\n6   19990908       NaN         NaN\n7   20000510       NaN         NaN\n8   20000524       NaN         NaN\n9   20000901       NaN         NaN\n10  20020117       NaN         NaN\n11  20020125       NaN         NaN\n12  20020531       NaN         NaN\n13  20021010       NaN         NaN\n14  20021028       NaN         NaN\n15  20030502       NaN         NaN\n16  20030804       NaN         NaN\n17  20040301       NaN         NaN\n18  20040412       NaN         NaN\n19  20040524       NaN         NaN\n20  20041210       NaN         NaN\n21  20050225       NaN         NaN\n22  20050926       NaN         NaN\n23  20060627       NaN         NaN\n24  20060901       NaN         NaN\n25  20070404       NaN         NaN\n26  20070924       NaN         NaN\n27  20071005       NaN         NaN\n28  20071212       NaN         NaN\n29  20080314       NaN         NaN\n30  20080910       NaN         NaN\n31  20090112  Nifty 50  RELCAPITAL\n32  20090327  Nifty 50  RELCAPITAL\n33  20090617  Nifty 50  RELCAPITAL\n34  20091022  Nifty 50  RELCAPITAL\n35  20100408  Nifty 50  RELCAPITAL\n36  20101001  Nifty 50  RELCAPITAL\n37  20110325  Nifty 50  RELCAPITAL\n38  20111010       NaN         NaN\n39  20120427       NaN         NaN\n40  20120928       NaN         NaN\n41  20130401       NaN         NaN\n42  20130927       NaN         NaN\n43  20140328       NaN         NaN\n44  20140919       NaN         NaN\n45  20150327       NaN         NaN\n46  20150529       NaN         NaN\n47  20150928       NaN         NaN\n48  20160401       NaN         NaN\n49  20170331       NaN         NaN\n50  20170526       NaN         NaN\n51  20170929       NaN         NaN\n52  20180402       NaN         NaN\n53  20180928       NaN         NaN\n54  20190329       NaN         NaN\n55  20190927       NaN         NaN\n56  20200319       NaN         NaN\n57  20200731       NaN         NaN",
      "text/html": "<div>\n<style scoped>\n    .dataframe tbody tr th:only-of-type {\n        vertical-align: middle;\n    }\n\n    .dataframe tbody tr th {\n        vertical-align: top;\n    }\n\n    .dataframe thead th {\n        text-align: right;\n    }\n</style>\n<table border=\"1\" class=\"dataframe\">\n  <thead>\n    <tr style=\"text-align: right;\">\n      <th></th>\n      <th>Date</th>\n      <th>IndexName</th>\n      <th>Symbol</th>\n    </tr>\n  </thead>\n  <tbody>\n    <tr>\n      <td>0</td>\n      <td>19960918</td>\n      <td>Nifty 50</td>\n      <td>RELCAPITAL</td>\n    </tr>\n    <tr>\n      <td>1</td>\n      <td>19970507</td>\n      <td>Nifty 50</td>\n      <td>RELCAPITAL</td>\n    </tr>\n    <tr>\n      <td>2</td>\n      <td>19970514</td>\n      <td>Nifty 50</td>\n      <td>RELCAPITAL</td>\n    </tr>\n    <tr>\n      <td>3</td>\n      <td>19971224</td>\n      <td>Nifty 50</td>\n      <td>RELCAPITAL</td>\n    </tr>\n    <tr>\n      <td>4</td>\n      <td>19981007</td>\n      <td>Nifty 50</td>\n      <td>RELCAPITAL</td>\n    </tr>\n    <tr>\n      <td>5</td>\n      <td>19990526</td>\n      <td>NaN</td>\n      <td>NaN</td>\n    </tr>\n    <tr>\n      <td>6</td>\n      <td>19990908</td>\n      <td>NaN</td>\n      <td>NaN</td>\n    </tr>\n    <tr>\n      <td>7</td>\n      <td>20000510</td>\n      <td>NaN</td>\n      <td>NaN</td>\n    </tr>\n    <tr>\n      <td>8</td>\n      <td>20000524</td>\n      <td>NaN</td>\n      <td>NaN</td>\n    </tr>\n    <tr>\n      <td>9</td>\n      <td>20000901</td>\n      <td>NaN</td>\n      <td>NaN</td>\n    </tr>\n    <tr>\n      <td>10</td>\n      <td>20020117</td>\n      <td>NaN</td>\n      <td>NaN</td>\n    </tr>\n    <tr>\n      <td>11</td>\n      <td>20020125</td>\n      <td>NaN</td>\n      <td>NaN</td>\n    </tr>\n    <tr>\n      <td>12</td>\n      <td>20020531</td>\n      <td>NaN</td>\n      <td>NaN</td>\n    </tr>\n    <tr>\n      <td>13</td>\n      <td>20021010</td>\n      <td>NaN</td>\n      <td>NaN</td>\n    </tr>\n    <tr>\n      <td>14</td>\n      <td>20021028</td>\n      <td>NaN</td>\n      <td>NaN</td>\n    </tr>\n    <tr>\n      <td>15</td>\n      <td>20030502</td>\n      <td>NaN</td>\n      <td>NaN</td>\n    </tr>\n    <tr>\n      <td>16</td>\n      <td>20030804</td>\n      <td>NaN</td>\n      <td>NaN</td>\n    </tr>\n    <tr>\n      <td>17</td>\n      <td>20040301</td>\n      <td>NaN</td>\n      <td>NaN</td>\n    </tr>\n    <tr>\n      <td>18</td>\n      <td>20040412</td>\n      <td>NaN</td>\n      <td>NaN</td>\n    </tr>\n    <tr>\n      <td>19</td>\n      <td>20040524</td>\n      <td>NaN</td>\n      <td>NaN</td>\n    </tr>\n    <tr>\n      <td>20</td>\n      <td>20041210</td>\n      <td>NaN</td>\n      <td>NaN</td>\n    </tr>\n    <tr>\n      <td>21</td>\n      <td>20050225</td>\n      <td>NaN</td>\n      <td>NaN</td>\n    </tr>\n    <tr>\n      <td>22</td>\n      <td>20050926</td>\n      <td>NaN</td>\n      <td>NaN</td>\n    </tr>\n    <tr>\n      <td>23</td>\n      <td>20060627</td>\n      <td>NaN</td>\n      <td>NaN</td>\n    </tr>\n    <tr>\n      <td>24</td>\n      <td>20060901</td>\n      <td>NaN</td>\n      <td>NaN</td>\n    </tr>\n    <tr>\n      <td>25</td>\n      <td>20070404</td>\n      <td>NaN</td>\n      <td>NaN</td>\n    </tr>\n    <tr>\n      <td>26</td>\n      <td>20070924</td>\n      <td>NaN</td>\n      <td>NaN</td>\n    </tr>\n    <tr>\n      <td>27</td>\n      <td>20071005</td>\n      <td>NaN</td>\n      <td>NaN</td>\n    </tr>\n    <tr>\n      <td>28</td>\n      <td>20071212</td>\n      <td>NaN</td>\n      <td>NaN</td>\n    </tr>\n    <tr>\n      <td>29</td>\n      <td>20080314</td>\n      <td>NaN</td>\n      <td>NaN</td>\n    </tr>\n    <tr>\n      <td>30</td>\n      <td>20080910</td>\n      <td>NaN</td>\n      <td>NaN</td>\n    </tr>\n    <tr>\n      <td>31</td>\n      <td>20090112</td>\n      <td>Nifty 50</td>\n      <td>RELCAPITAL</td>\n    </tr>\n    <tr>\n      <td>32</td>\n      <td>20090327</td>\n      <td>Nifty 50</td>\n      <td>RELCAPITAL</td>\n    </tr>\n    <tr>\n      <td>33</td>\n      <td>20090617</td>\n      <td>Nifty 50</td>\n      <td>RELCAPITAL</td>\n    </tr>\n    <tr>\n      <td>34</td>\n      <td>20091022</td>\n      <td>Nifty 50</td>\n      <td>RELCAPITAL</td>\n    </tr>\n    <tr>\n      <td>35</td>\n      <td>20100408</td>\n      <td>Nifty 50</td>\n      <td>RELCAPITAL</td>\n    </tr>\n    <tr>\n      <td>36</td>\n      <td>20101001</td>\n      <td>Nifty 50</td>\n      <td>RELCAPITAL</td>\n    </tr>\n    <tr>\n      <td>37</td>\n      <td>20110325</td>\n      <td>Nifty 50</td>\n      <td>RELCAPITAL</td>\n    </tr>\n    <tr>\n      <td>38</td>\n      <td>20111010</td>\n      <td>NaN</td>\n      <td>NaN</td>\n    </tr>\n    <tr>\n      <td>39</td>\n      <td>20120427</td>\n      <td>NaN</td>\n      <td>NaN</td>\n    </tr>\n    <tr>\n      <td>40</td>\n      <td>20120928</td>\n      <td>NaN</td>\n      <td>NaN</td>\n    </tr>\n    <tr>\n      <td>41</td>\n      <td>20130401</td>\n      <td>NaN</td>\n      <td>NaN</td>\n    </tr>\n    <tr>\n      <td>42</td>\n      <td>20130927</td>\n      <td>NaN</td>\n      <td>NaN</td>\n    </tr>\n    <tr>\n      <td>43</td>\n      <td>20140328</td>\n      <td>NaN</td>\n      <td>NaN</td>\n    </tr>\n    <tr>\n      <td>44</td>\n      <td>20140919</td>\n      <td>NaN</td>\n      <td>NaN</td>\n    </tr>\n    <tr>\n      <td>45</td>\n      <td>20150327</td>\n      <td>NaN</td>\n      <td>NaN</td>\n    </tr>\n    <tr>\n      <td>46</td>\n      <td>20150529</td>\n      <td>NaN</td>\n      <td>NaN</td>\n    </tr>\n    <tr>\n      <td>47</td>\n      <td>20150928</td>\n      <td>NaN</td>\n      <td>NaN</td>\n    </tr>\n    <tr>\n      <td>48</td>\n      <td>20160401</td>\n      <td>NaN</td>\n      <td>NaN</td>\n    </tr>\n    <tr>\n      <td>49</td>\n      <td>20170331</td>\n      <td>NaN</td>\n      <td>NaN</td>\n    </tr>\n    <tr>\n      <td>50</td>\n      <td>20170526</td>\n      <td>NaN</td>\n      <td>NaN</td>\n    </tr>\n    <tr>\n      <td>51</td>\n      <td>20170929</td>\n      <td>NaN</td>\n      <td>NaN</td>\n    </tr>\n    <tr>\n      <td>52</td>\n      <td>20180402</td>\n      <td>NaN</td>\n      <td>NaN</td>\n    </tr>\n    <tr>\n      <td>53</td>\n      <td>20180928</td>\n      <td>NaN</td>\n      <td>NaN</td>\n    </tr>\n    <tr>\n      <td>54</td>\n      <td>20190329</td>\n      <td>NaN</td>\n      <td>NaN</td>\n    </tr>\n    <tr>\n      <td>55</td>\n      <td>20190927</td>\n      <td>NaN</td>\n      <td>NaN</td>\n    </tr>\n    <tr>\n      <td>56</td>\n      <td>20200319</td>\n      <td>NaN</td>\n      <td>NaN</td>\n    </tr>\n    <tr>\n      <td>57</td>\n      <td>20200731</td>\n      <td>NaN</td>\n      <td>NaN</td>\n    </tr>\n  </tbody>\n</table>\n</div>"
     },
     "metadata": {},
     "execution_count": 3
    }
   ],
   "source": [
    "df_symbol = histIndex[histIndex.Symbol=='RELCAPITAL']\n",
    "df_index_symbol = pd.merge(histIndexDates, df_symbol, how='left', on=['Date']).sort_values(by='Date')\n",
    "df_index_symbol"
   ]
  },
  {
   "cell_type": "code",
   "execution_count": 16,
   "metadata": {
    "tags": []
   },
   "outputs": [
    {
     "output_type": "stream",
     "name": "stdout",
     "text": "fetching data for  RELCAPITAL\n"
    }
   ],
   "source": [
    "data = hist.symbol_history(symbol='RELCAPITAL',\n",
    "                           start_date='20090130',\n",
    "                           end_date='20200801',\n",
    "                           buffer_start='20090101',\n",
    "                           index='Nifty 50')"
   ]
  },
  {
   "cell_type": "code",
   "execution_count": 18,
   "metadata": {},
   "outputs": [
    {
     "output_type": "execute_result",
     "data": {
      "text/plain": "        Symbol      Date   Open    High     Low   Close    Volume  \\\n0   RELCAPITAL  20090101  549.9  564.85  545.00  560.55   3108852   \n1   RELCAPITAL  20090102  565.9  584.55  563.20  567.85   4685117   \n2   RELCAPITAL  20090105  575.0  609.75  575.00  605.60   6398972   \n3   RELCAPITAL  20090106  605.6  626.40  583.00  603.50   7920491   \n4   RELCAPITAL  20090107  619.9  619.90  505.05  517.50   6839760   \n5   RELCAPITAL  20090109  504.9  553.00  462.50  479.80  10287849   \n6   RELCAPITAL  20090112  488.7  489.90  432.55  436.95   7976127   \n7   RELCAPITAL  20090113  435.0  451.60  398.00  407.50   9721560   \n8   RELCAPITAL  20090114  419.0  441.00  412.00  433.05   6976656   \n9   RELCAPITAL  20090115  420.0  424.30  392.00  412.50   6852305   \n10  RELCAPITAL  20090116  416.0  433.00  411.00  428.50   6052003   \n11  RELCAPITAL  20090119  434.9  438.00  423.00  427.75   6050642   \n12  RELCAPITAL  20090120  415.0  444.90  410.65  417.60   7096473   \n13  RELCAPITAL  20090121  408.0  423.50  387.20  394.25   7498041   \n14  RELCAPITAL  20090122  399.8  406.80  382.55  392.40   6397534   \n15  RELCAPITAL  20090123  393.1  403.00  376.10  380.35   5367692   \n16  RELCAPITAL  20090127  392.0  402.00  384.00  397.95   4552039   \n17  RELCAPITAL  20090128  400.0  417.80  400.00  413.35   4306242   \n18  RELCAPITAL  20090129  416.0  422.80  393.90  399.30   5331904   \n19  RELCAPITAL  20090130  390.0  425.25  387.45  420.95   6268953   \n\n   AdjustedOpen AdjustedHigh AdjustedLow AdjustedClose  Buffer  IndexFlag  \n0         549.9       564.85         545        560.55     1.0        NaN  \n1         565.9       584.55       563.2        567.85     1.0        NaN  \n2           575       609.75         575         605.6     1.0        NaN  \n3         605.6        626.4         583         603.5     1.0        NaN  \n4         619.9        619.9      505.05         517.5     1.0        NaN  \n5         504.9          553       462.5         479.8     1.0        NaN  \n6         488.7        489.9      432.55        436.95     1.0        1.0  \n7           435        451.6         398         407.5     1.0        1.0  \n8           419          441         412        433.05     1.0        1.0  \n9           420        424.3         392         412.5     1.0        1.0  \n10          416          433         411         428.5     1.0        1.0  \n11        434.9          438         423        427.75     1.0        1.0  \n12          415        444.9      410.65         417.6     1.0        1.0  \n13          408        423.5       387.2        394.25     1.0        1.0  \n14        399.8        406.8      382.55         392.4     1.0        1.0  \n15        393.1          403       376.1        380.35     1.0        1.0  \n16          392          402         384        397.95     1.0        1.0  \n17          400        417.8         400        413.35     1.0        1.0  \n18          416        422.8       393.9         399.3     1.0        1.0  \n19          390       425.25      387.45        420.95     NaN        1.0  ",
      "text/html": "<div>\n<style scoped>\n    .dataframe tbody tr th:only-of-type {\n        vertical-align: middle;\n    }\n\n    .dataframe tbody tr th {\n        vertical-align: top;\n    }\n\n    .dataframe thead th {\n        text-align: right;\n    }\n</style>\n<table border=\"1\" class=\"dataframe\">\n  <thead>\n    <tr style=\"text-align: right;\">\n      <th></th>\n      <th>Symbol</th>\n      <th>Date</th>\n      <th>Open</th>\n      <th>High</th>\n      <th>Low</th>\n      <th>Close</th>\n      <th>Volume</th>\n      <th>AdjustedOpen</th>\n      <th>AdjustedHigh</th>\n      <th>AdjustedLow</th>\n      <th>AdjustedClose</th>\n      <th>Buffer</th>\n      <th>IndexFlag</th>\n    </tr>\n  </thead>\n  <tbody>\n    <tr>\n      <td>0</td>\n      <td>RELCAPITAL</td>\n      <td>20090101</td>\n      <td>549.9</td>\n      <td>564.85</td>\n      <td>545.00</td>\n      <td>560.55</td>\n      <td>3108852</td>\n      <td>549.9</td>\n      <td>564.85</td>\n      <td>545</td>\n      <td>560.55</td>\n      <td>1.0</td>\n      <td>NaN</td>\n    </tr>\n    <tr>\n      <td>1</td>\n      <td>RELCAPITAL</td>\n      <td>20090102</td>\n      <td>565.9</td>\n      <td>584.55</td>\n      <td>563.20</td>\n      <td>567.85</td>\n      <td>4685117</td>\n      <td>565.9</td>\n      <td>584.55</td>\n      <td>563.2</td>\n      <td>567.85</td>\n      <td>1.0</td>\n      <td>NaN</td>\n    </tr>\n    <tr>\n      <td>2</td>\n      <td>RELCAPITAL</td>\n      <td>20090105</td>\n      <td>575.0</td>\n      <td>609.75</td>\n      <td>575.00</td>\n      <td>605.60</td>\n      <td>6398972</td>\n      <td>575</td>\n      <td>609.75</td>\n      <td>575</td>\n      <td>605.6</td>\n      <td>1.0</td>\n      <td>NaN</td>\n    </tr>\n    <tr>\n      <td>3</td>\n      <td>RELCAPITAL</td>\n      <td>20090106</td>\n      <td>605.6</td>\n      <td>626.40</td>\n      <td>583.00</td>\n      <td>603.50</td>\n      <td>7920491</td>\n      <td>605.6</td>\n      <td>626.4</td>\n      <td>583</td>\n      <td>603.5</td>\n      <td>1.0</td>\n      <td>NaN</td>\n    </tr>\n    <tr>\n      <td>4</td>\n      <td>RELCAPITAL</td>\n      <td>20090107</td>\n      <td>619.9</td>\n      <td>619.90</td>\n      <td>505.05</td>\n      <td>517.50</td>\n      <td>6839760</td>\n      <td>619.9</td>\n      <td>619.9</td>\n      <td>505.05</td>\n      <td>517.5</td>\n      <td>1.0</td>\n      <td>NaN</td>\n    </tr>\n    <tr>\n      <td>5</td>\n      <td>RELCAPITAL</td>\n      <td>20090109</td>\n      <td>504.9</td>\n      <td>553.00</td>\n      <td>462.50</td>\n      <td>479.80</td>\n      <td>10287849</td>\n      <td>504.9</td>\n      <td>553</td>\n      <td>462.5</td>\n      <td>479.8</td>\n      <td>1.0</td>\n      <td>NaN</td>\n    </tr>\n    <tr>\n      <td>6</td>\n      <td>RELCAPITAL</td>\n      <td>20090112</td>\n      <td>488.7</td>\n      <td>489.90</td>\n      <td>432.55</td>\n      <td>436.95</td>\n      <td>7976127</td>\n      <td>488.7</td>\n      <td>489.9</td>\n      <td>432.55</td>\n      <td>436.95</td>\n      <td>1.0</td>\n      <td>1.0</td>\n    </tr>\n    <tr>\n      <td>7</td>\n      <td>RELCAPITAL</td>\n      <td>20090113</td>\n      <td>435.0</td>\n      <td>451.60</td>\n      <td>398.00</td>\n      <td>407.50</td>\n      <td>9721560</td>\n      <td>435</td>\n      <td>451.6</td>\n      <td>398</td>\n      <td>407.5</td>\n      <td>1.0</td>\n      <td>1.0</td>\n    </tr>\n    <tr>\n      <td>8</td>\n      <td>RELCAPITAL</td>\n      <td>20090114</td>\n      <td>419.0</td>\n      <td>441.00</td>\n      <td>412.00</td>\n      <td>433.05</td>\n      <td>6976656</td>\n      <td>419</td>\n      <td>441</td>\n      <td>412</td>\n      <td>433.05</td>\n      <td>1.0</td>\n      <td>1.0</td>\n    </tr>\n    <tr>\n      <td>9</td>\n      <td>RELCAPITAL</td>\n      <td>20090115</td>\n      <td>420.0</td>\n      <td>424.30</td>\n      <td>392.00</td>\n      <td>412.50</td>\n      <td>6852305</td>\n      <td>420</td>\n      <td>424.3</td>\n      <td>392</td>\n      <td>412.5</td>\n      <td>1.0</td>\n      <td>1.0</td>\n    </tr>\n    <tr>\n      <td>10</td>\n      <td>RELCAPITAL</td>\n      <td>20090116</td>\n      <td>416.0</td>\n      <td>433.00</td>\n      <td>411.00</td>\n      <td>428.50</td>\n      <td>6052003</td>\n      <td>416</td>\n      <td>433</td>\n      <td>411</td>\n      <td>428.5</td>\n      <td>1.0</td>\n      <td>1.0</td>\n    </tr>\n    <tr>\n      <td>11</td>\n      <td>RELCAPITAL</td>\n      <td>20090119</td>\n      <td>434.9</td>\n      <td>438.00</td>\n      <td>423.00</td>\n      <td>427.75</td>\n      <td>6050642</td>\n      <td>434.9</td>\n      <td>438</td>\n      <td>423</td>\n      <td>427.75</td>\n      <td>1.0</td>\n      <td>1.0</td>\n    </tr>\n    <tr>\n      <td>12</td>\n      <td>RELCAPITAL</td>\n      <td>20090120</td>\n      <td>415.0</td>\n      <td>444.90</td>\n      <td>410.65</td>\n      <td>417.60</td>\n      <td>7096473</td>\n      <td>415</td>\n      <td>444.9</td>\n      <td>410.65</td>\n      <td>417.6</td>\n      <td>1.0</td>\n      <td>1.0</td>\n    </tr>\n    <tr>\n      <td>13</td>\n      <td>RELCAPITAL</td>\n      <td>20090121</td>\n      <td>408.0</td>\n      <td>423.50</td>\n      <td>387.20</td>\n      <td>394.25</td>\n      <td>7498041</td>\n      <td>408</td>\n      <td>423.5</td>\n      <td>387.2</td>\n      <td>394.25</td>\n      <td>1.0</td>\n      <td>1.0</td>\n    </tr>\n    <tr>\n      <td>14</td>\n      <td>RELCAPITAL</td>\n      <td>20090122</td>\n      <td>399.8</td>\n      <td>406.80</td>\n      <td>382.55</td>\n      <td>392.40</td>\n      <td>6397534</td>\n      <td>399.8</td>\n      <td>406.8</td>\n      <td>382.55</td>\n      <td>392.4</td>\n      <td>1.0</td>\n      <td>1.0</td>\n    </tr>\n    <tr>\n      <td>15</td>\n      <td>RELCAPITAL</td>\n      <td>20090123</td>\n      <td>393.1</td>\n      <td>403.00</td>\n      <td>376.10</td>\n      <td>380.35</td>\n      <td>5367692</td>\n      <td>393.1</td>\n      <td>403</td>\n      <td>376.1</td>\n      <td>380.35</td>\n      <td>1.0</td>\n      <td>1.0</td>\n    </tr>\n    <tr>\n      <td>16</td>\n      <td>RELCAPITAL</td>\n      <td>20090127</td>\n      <td>392.0</td>\n      <td>402.00</td>\n      <td>384.00</td>\n      <td>397.95</td>\n      <td>4552039</td>\n      <td>392</td>\n      <td>402</td>\n      <td>384</td>\n      <td>397.95</td>\n      <td>1.0</td>\n      <td>1.0</td>\n    </tr>\n    <tr>\n      <td>17</td>\n      <td>RELCAPITAL</td>\n      <td>20090128</td>\n      <td>400.0</td>\n      <td>417.80</td>\n      <td>400.00</td>\n      <td>413.35</td>\n      <td>4306242</td>\n      <td>400</td>\n      <td>417.8</td>\n      <td>400</td>\n      <td>413.35</td>\n      <td>1.0</td>\n      <td>1.0</td>\n    </tr>\n    <tr>\n      <td>18</td>\n      <td>RELCAPITAL</td>\n      <td>20090129</td>\n      <td>416.0</td>\n      <td>422.80</td>\n      <td>393.90</td>\n      <td>399.30</td>\n      <td>5331904</td>\n      <td>416</td>\n      <td>422.8</td>\n      <td>393.9</td>\n      <td>399.3</td>\n      <td>1.0</td>\n      <td>1.0</td>\n    </tr>\n    <tr>\n      <td>19</td>\n      <td>RELCAPITAL</td>\n      <td>20090130</td>\n      <td>390.0</td>\n      <td>425.25</td>\n      <td>387.45</td>\n      <td>420.95</td>\n      <td>6268953</td>\n      <td>390</td>\n      <td>425.25</td>\n      <td>387.45</td>\n      <td>420.95</td>\n      <td>NaN</td>\n      <td>1.0</td>\n    </tr>\n  </tbody>\n</table>\n</div>"
     },
     "metadata": {},
     "execution_count": 18
    }
   ],
   "source": [
    "data[:20]"
   ]
  },
  {
   "cell_type": "code",
   "execution_count": 6,
   "metadata": {},
   "outputs": [
    {
     "output_type": "execute_result",
     "data": {
      "text/plain": "          Symbol      Date    Open    High     Low   Close    Volume  \\\n1500  RELCAPITAL  20110822  388.40  403.70  387.00  401.75   1337532   \n1501  RELCAPITAL  20110823  406.25  410.70  399.00  403.50   1075869   \n1502  RELCAPITAL  20110824  404.95  423.80  391.00  394.35   2697525   \n1503  RELCAPITAL  20110825  398.00  399.70  385.50  391.25   1771297   \n1504  RELCAPITAL  20110826  387.40  388.00  340.10  344.20   4755497   \n1505  RELCAPITAL  20110829  350.00  390.00  349.35  377.25   5479267   \n1506  RELCAPITAL  20110830  390.00  396.50  371.45  384.20   5254545   \n1507  RELCAPITAL  20110902  395.70  413.70  381.25  407.60   3987195   \n1508  RELCAPITAL  20110905  400.05  433.50  397.00  429.55   6243360   \n1509  RELCAPITAL  20110906  426.10  432.80  411.25  423.15   3635838   \n1510  RELCAPITAL  20110907  427.40  436.40  424.35  428.10   2513453   \n1511  RELCAPITAL  20110908  430.00  433.25  420.35  428.20   2090636   \n1512  RELCAPITAL  20110909  426.20  432.00  404.15  409.50   2366170   \n1513  RELCAPITAL  20110912  397.90  402.70  390.00  395.25   2088653   \n1514  RELCAPITAL  20110913  397.25  414.90  396.55  401.55   3057070   \n1515  RELCAPITAL  20110914  405.00  417.70  400.00  413.70   3062314   \n1516  RELCAPITAL  20110915  414.80  420.90  407.55  415.15   2581333   \n1517  RELCAPITAL  20110916  418.05  419.75  402.75  406.25   2018557   \n1518  RELCAPITAL  20110919  402.25  404.70  395.30  399.45   1800998   \n1519  RELCAPITAL  20110920  397.20  420.70  397.20  418.95   2034810   \n1520  RELCAPITAL  20110921  419.00  427.25  412.50  422.55   1883429   \n1521  RELCAPITAL  20110922  414.65  417.90  395.00  397.60   2457090   \n1522  RELCAPITAL  20110923  391.00  409.00  389.30  402.10   3332557   \n1523  RELCAPITAL  20110926  403.00  404.95  383.25  389.45   2852562   \n1524  RELCAPITAL  20110927  400.00  411.85  391.00  394.80   7424340   \n1525  RELCAPITAL  20110928  398.00  400.00  366.30  368.95   5883292   \n1526  RELCAPITAL  20110929  365.60  368.15  353.60  359.55   5632841   \n1527  RELCAPITAL  20110930  347.00  347.00  311.50  315.15  14290129   \n1528  RELCAPITAL  20111003  318.55  326.95  309.70  320.05   7526173   \n1529  RELCAPITAL  20111004  319.90  328.00  315.15  323.10   5075630   \n1530  RELCAPITAL  20111005  327.90  327.90  312.50  315.95   3911264   \n1531  RELCAPITAL  20111007  326.20  328.20  320.00  321.55   3352488   \n1532  RELCAPITAL  20111010  323.00  337.90  322.75  336.00   4671947   \n1533  RELCAPITAL  20111011  339.90  344.80  332.25  341.15   3781392   \n1534  RELCAPITAL  20111012  342.60  354.00  337.30  352.15   3663593   \n1535  RELCAPITAL  20111013  353.90  355.45  340.05  345.75   2920169   \n1536  RELCAPITAL  20111014  341.25  353.60  339.15  349.35   2330499   \n1537  RELCAPITAL  20111017  351.70  352.90  332.00  336.35   2703884   \n1538  RELCAPITAL  20111018  332.00  332.00  320.75  322.40   2014926   \n1539  RELCAPITAL  20111019  327.90  335.55  325.00  333.65   2039718   \n1540  RELCAPITAL  20111020  329.50  339.40  326.00  337.45   2557427   \n1541  RELCAPITAL  20111021  338.60  342.00  332.05  333.85   1765032   \n1542  RELCAPITAL  20111024  338.50  343.00  330.25  334.20   2073417   \n1543  RELCAPITAL  20111025  334.50  345.35  332.10  344.15   1964068   \n1544  RELCAPITAL  20111026  346.55  348.50  345.00  346.30    474483   \n1545  RELCAPITAL  20111028  357.00  376.00  355.00  372.05   3177728   \n1546  RELCAPITAL  20111031  369.20  376.45  364.25  370.15   2292708   \n1547  RELCAPITAL  20111101  363.65  373.55  353.30  360.80   2244198   \n1548  RELCAPITAL  20111102  355.00  372.85  355.00  366.20   2303313   \n1549  RELCAPITAL  20111103  366.50  376.80  363.05  373.55   3431131   \n\n     AdjustedOpen AdjustedHigh AdjustedLow AdjustedClose  Buffer  IndexFlag  \n1500        388.4        403.7         387        401.75     NaN        1.0  \n1501       406.25        410.7         399         403.5     NaN        1.0  \n1502       404.95        423.8         391        394.35     NaN        1.0  \n1503          398        399.7       385.5        391.25     NaN        1.0  \n1504        387.4          388       340.1         344.2     NaN        1.0  \n1505          350          390      349.35        377.25     NaN        1.0  \n1506          390        396.5      371.45         384.2     NaN        1.0  \n1507        395.7        413.7      381.25         407.6     NaN        1.0  \n1508       400.05        433.5         397        429.55     NaN        1.0  \n1509        426.1        432.8      411.25        423.15     NaN        1.0  \n1510        427.4        436.4      424.35         428.1     NaN        1.0  \n1511          430       433.25      420.35         428.2     NaN        1.0  \n1512        426.2          432      404.15         409.5     NaN        1.0  \n1513        397.9        402.7         390        395.25     NaN        1.0  \n1514       397.25        414.9      396.55        401.55     NaN        1.0  \n1515          405        417.7         400         413.7     NaN        1.0  \n1516        414.8        420.9      407.55        415.15     NaN        1.0  \n1517       418.05       419.75      402.75        406.25     NaN        1.0  \n1518       402.25        404.7       395.3        399.45     NaN        1.0  \n1519        397.2        420.7       397.2        418.95     NaN        1.0  \n1520          419       427.25       412.5        422.55     NaN        1.0  \n1521       414.65        417.9         395         397.6     NaN        1.0  \n1522          391          409       389.3         402.1     NaN        1.0  \n1523          403       404.95      383.25        389.45     NaN        1.0  \n1524          400       411.85         391         394.8     NaN        1.0  \n1525          398          400       366.3        368.95     NaN        1.0  \n1526        365.6       368.15       353.6        359.55     NaN        1.0  \n1527          347          347       311.5        315.15     NaN        1.0  \n1528       318.55       326.95       309.7        320.05     NaN        1.0  \n1529        319.9          328      315.15         323.1     NaN        1.0  \n1530        327.9        327.9       312.5        315.95     NaN        1.0  \n1531        326.2        328.2         320        321.55     NaN        1.0  \n1532          323        337.9      322.75           336     NaN        NaN  \n1533        339.9        344.8      332.25        341.15     NaN        NaN  \n1534        342.6          354       337.3        352.15     NaN        NaN  \n1535        353.9       355.45      340.05        345.75     NaN        NaN  \n1536       341.25        353.6      339.15        349.35     NaN        NaN  \n1537        351.7        352.9         332        336.35     NaN        NaN  \n1538          332          332      320.75         322.4     NaN        NaN  \n1539        327.9       335.55         325        333.65     NaN        NaN  \n1540        329.5        339.4         326        337.45     NaN        NaN  \n1541        338.6          342      332.05        333.85     NaN        NaN  \n1542        338.5          343      330.25         334.2     NaN        NaN  \n1543        334.5       345.35       332.1        344.15     NaN        NaN  \n1544       346.55        348.5         345         346.3     NaN        NaN  \n1545          357          376         355        372.05     NaN        NaN  \n1546        369.2       376.45      364.25        370.15     NaN        NaN  \n1547       363.65       373.55       353.3         360.8     NaN        NaN  \n1548          355       372.85         355         366.2     NaN        NaN  \n1549        366.5        376.8      363.05        373.55     NaN        NaN  ",
      "text/html": "<div>\n<style scoped>\n    .dataframe tbody tr th:only-of-type {\n        vertical-align: middle;\n    }\n\n    .dataframe tbody tr th {\n        vertical-align: top;\n    }\n\n    .dataframe thead th {\n        text-align: right;\n    }\n</style>\n<table border=\"1\" class=\"dataframe\">\n  <thead>\n    <tr style=\"text-align: right;\">\n      <th></th>\n      <th>Symbol</th>\n      <th>Date</th>\n      <th>Open</th>\n      <th>High</th>\n      <th>Low</th>\n      <th>Close</th>\n      <th>Volume</th>\n      <th>AdjustedOpen</th>\n      <th>AdjustedHigh</th>\n      <th>AdjustedLow</th>\n      <th>AdjustedClose</th>\n      <th>Buffer</th>\n      <th>IndexFlag</th>\n    </tr>\n  </thead>\n  <tbody>\n    <tr>\n      <td>1500</td>\n      <td>RELCAPITAL</td>\n      <td>20110822</td>\n      <td>388.40</td>\n      <td>403.70</td>\n      <td>387.00</td>\n      <td>401.75</td>\n      <td>1337532</td>\n      <td>388.4</td>\n      <td>403.7</td>\n      <td>387</td>\n      <td>401.75</td>\n      <td>NaN</td>\n      <td>1.0</td>\n    </tr>\n    <tr>\n      <td>1501</td>\n      <td>RELCAPITAL</td>\n      <td>20110823</td>\n      <td>406.25</td>\n      <td>410.70</td>\n      <td>399.00</td>\n      <td>403.50</td>\n      <td>1075869</td>\n      <td>406.25</td>\n      <td>410.7</td>\n      <td>399</td>\n      <td>403.5</td>\n      <td>NaN</td>\n      <td>1.0</td>\n    </tr>\n    <tr>\n      <td>1502</td>\n      <td>RELCAPITAL</td>\n      <td>20110824</td>\n      <td>404.95</td>\n      <td>423.80</td>\n      <td>391.00</td>\n      <td>394.35</td>\n      <td>2697525</td>\n      <td>404.95</td>\n      <td>423.8</td>\n      <td>391</td>\n      <td>394.35</td>\n      <td>NaN</td>\n      <td>1.0</td>\n    </tr>\n    <tr>\n      <td>1503</td>\n      <td>RELCAPITAL</td>\n      <td>20110825</td>\n      <td>398.00</td>\n      <td>399.70</td>\n      <td>385.50</td>\n      <td>391.25</td>\n      <td>1771297</td>\n      <td>398</td>\n      <td>399.7</td>\n      <td>385.5</td>\n      <td>391.25</td>\n      <td>NaN</td>\n      <td>1.0</td>\n    </tr>\n    <tr>\n      <td>1504</td>\n      <td>RELCAPITAL</td>\n      <td>20110826</td>\n      <td>387.40</td>\n      <td>388.00</td>\n      <td>340.10</td>\n      <td>344.20</td>\n      <td>4755497</td>\n      <td>387.4</td>\n      <td>388</td>\n      <td>340.1</td>\n      <td>344.2</td>\n      <td>NaN</td>\n      <td>1.0</td>\n    </tr>\n    <tr>\n      <td>1505</td>\n      <td>RELCAPITAL</td>\n      <td>20110829</td>\n      <td>350.00</td>\n      <td>390.00</td>\n      <td>349.35</td>\n      <td>377.25</td>\n      <td>5479267</td>\n      <td>350</td>\n      <td>390</td>\n      <td>349.35</td>\n      <td>377.25</td>\n      <td>NaN</td>\n      <td>1.0</td>\n    </tr>\n    <tr>\n      <td>1506</td>\n      <td>RELCAPITAL</td>\n      <td>20110830</td>\n      <td>390.00</td>\n      <td>396.50</td>\n      <td>371.45</td>\n      <td>384.20</td>\n      <td>5254545</td>\n      <td>390</td>\n      <td>396.5</td>\n      <td>371.45</td>\n      <td>384.2</td>\n      <td>NaN</td>\n      <td>1.0</td>\n    </tr>\n    <tr>\n      <td>1507</td>\n      <td>RELCAPITAL</td>\n      <td>20110902</td>\n      <td>395.70</td>\n      <td>413.70</td>\n      <td>381.25</td>\n      <td>407.60</td>\n      <td>3987195</td>\n      <td>395.7</td>\n      <td>413.7</td>\n      <td>381.25</td>\n      <td>407.6</td>\n      <td>NaN</td>\n      <td>1.0</td>\n    </tr>\n    <tr>\n      <td>1508</td>\n      <td>RELCAPITAL</td>\n      <td>20110905</td>\n      <td>400.05</td>\n      <td>433.50</td>\n      <td>397.00</td>\n      <td>429.55</td>\n      <td>6243360</td>\n      <td>400.05</td>\n      <td>433.5</td>\n      <td>397</td>\n      <td>429.55</td>\n      <td>NaN</td>\n      <td>1.0</td>\n    </tr>\n    <tr>\n      <td>1509</td>\n      <td>RELCAPITAL</td>\n      <td>20110906</td>\n      <td>426.10</td>\n      <td>432.80</td>\n      <td>411.25</td>\n      <td>423.15</td>\n      <td>3635838</td>\n      <td>426.1</td>\n      <td>432.8</td>\n      <td>411.25</td>\n      <td>423.15</td>\n      <td>NaN</td>\n      <td>1.0</td>\n    </tr>\n    <tr>\n      <td>1510</td>\n      <td>RELCAPITAL</td>\n      <td>20110907</td>\n      <td>427.40</td>\n      <td>436.40</td>\n      <td>424.35</td>\n      <td>428.10</td>\n      <td>2513453</td>\n      <td>427.4</td>\n      <td>436.4</td>\n      <td>424.35</td>\n      <td>428.1</td>\n      <td>NaN</td>\n      <td>1.0</td>\n    </tr>\n    <tr>\n      <td>1511</td>\n      <td>RELCAPITAL</td>\n      <td>20110908</td>\n      <td>430.00</td>\n      <td>433.25</td>\n      <td>420.35</td>\n      <td>428.20</td>\n      <td>2090636</td>\n      <td>430</td>\n      <td>433.25</td>\n      <td>420.35</td>\n      <td>428.2</td>\n      <td>NaN</td>\n      <td>1.0</td>\n    </tr>\n    <tr>\n      <td>1512</td>\n      <td>RELCAPITAL</td>\n      <td>20110909</td>\n      <td>426.20</td>\n      <td>432.00</td>\n      <td>404.15</td>\n      <td>409.50</td>\n      <td>2366170</td>\n      <td>426.2</td>\n      <td>432</td>\n      <td>404.15</td>\n      <td>409.5</td>\n      <td>NaN</td>\n      <td>1.0</td>\n    </tr>\n    <tr>\n      <td>1513</td>\n      <td>RELCAPITAL</td>\n      <td>20110912</td>\n      <td>397.90</td>\n      <td>402.70</td>\n      <td>390.00</td>\n      <td>395.25</td>\n      <td>2088653</td>\n      <td>397.9</td>\n      <td>402.7</td>\n      <td>390</td>\n      <td>395.25</td>\n      <td>NaN</td>\n      <td>1.0</td>\n    </tr>\n    <tr>\n      <td>1514</td>\n      <td>RELCAPITAL</td>\n      <td>20110913</td>\n      <td>397.25</td>\n      <td>414.90</td>\n      <td>396.55</td>\n      <td>401.55</td>\n      <td>3057070</td>\n      <td>397.25</td>\n      <td>414.9</td>\n      <td>396.55</td>\n      <td>401.55</td>\n      <td>NaN</td>\n      <td>1.0</td>\n    </tr>\n    <tr>\n      <td>1515</td>\n      <td>RELCAPITAL</td>\n      <td>20110914</td>\n      <td>405.00</td>\n      <td>417.70</td>\n      <td>400.00</td>\n      <td>413.70</td>\n      <td>3062314</td>\n      <td>405</td>\n      <td>417.7</td>\n      <td>400</td>\n      <td>413.7</td>\n      <td>NaN</td>\n      <td>1.0</td>\n    </tr>\n    <tr>\n      <td>1516</td>\n      <td>RELCAPITAL</td>\n      <td>20110915</td>\n      <td>414.80</td>\n      <td>420.90</td>\n      <td>407.55</td>\n      <td>415.15</td>\n      <td>2581333</td>\n      <td>414.8</td>\n      <td>420.9</td>\n      <td>407.55</td>\n      <td>415.15</td>\n      <td>NaN</td>\n      <td>1.0</td>\n    </tr>\n    <tr>\n      <td>1517</td>\n      <td>RELCAPITAL</td>\n      <td>20110916</td>\n      <td>418.05</td>\n      <td>419.75</td>\n      <td>402.75</td>\n      <td>406.25</td>\n      <td>2018557</td>\n      <td>418.05</td>\n      <td>419.75</td>\n      <td>402.75</td>\n      <td>406.25</td>\n      <td>NaN</td>\n      <td>1.0</td>\n    </tr>\n    <tr>\n      <td>1518</td>\n      <td>RELCAPITAL</td>\n      <td>20110919</td>\n      <td>402.25</td>\n      <td>404.70</td>\n      <td>395.30</td>\n      <td>399.45</td>\n      <td>1800998</td>\n      <td>402.25</td>\n      <td>404.7</td>\n      <td>395.3</td>\n      <td>399.45</td>\n      <td>NaN</td>\n      <td>1.0</td>\n    </tr>\n    <tr>\n      <td>1519</td>\n      <td>RELCAPITAL</td>\n      <td>20110920</td>\n      <td>397.20</td>\n      <td>420.70</td>\n      <td>397.20</td>\n      <td>418.95</td>\n      <td>2034810</td>\n      <td>397.2</td>\n      <td>420.7</td>\n      <td>397.2</td>\n      <td>418.95</td>\n      <td>NaN</td>\n      <td>1.0</td>\n    </tr>\n    <tr>\n      <td>1520</td>\n      <td>RELCAPITAL</td>\n      <td>20110921</td>\n      <td>419.00</td>\n      <td>427.25</td>\n      <td>412.50</td>\n      <td>422.55</td>\n      <td>1883429</td>\n      <td>419</td>\n      <td>427.25</td>\n      <td>412.5</td>\n      <td>422.55</td>\n      <td>NaN</td>\n      <td>1.0</td>\n    </tr>\n    <tr>\n      <td>1521</td>\n      <td>RELCAPITAL</td>\n      <td>20110922</td>\n      <td>414.65</td>\n      <td>417.90</td>\n      <td>395.00</td>\n      <td>397.60</td>\n      <td>2457090</td>\n      <td>414.65</td>\n      <td>417.9</td>\n      <td>395</td>\n      <td>397.6</td>\n      <td>NaN</td>\n      <td>1.0</td>\n    </tr>\n    <tr>\n      <td>1522</td>\n      <td>RELCAPITAL</td>\n      <td>20110923</td>\n      <td>391.00</td>\n      <td>409.00</td>\n      <td>389.30</td>\n      <td>402.10</td>\n      <td>3332557</td>\n      <td>391</td>\n      <td>409</td>\n      <td>389.3</td>\n      <td>402.1</td>\n      <td>NaN</td>\n      <td>1.0</td>\n    </tr>\n    <tr>\n      <td>1523</td>\n      <td>RELCAPITAL</td>\n      <td>20110926</td>\n      <td>403.00</td>\n      <td>404.95</td>\n      <td>383.25</td>\n      <td>389.45</td>\n      <td>2852562</td>\n      <td>403</td>\n      <td>404.95</td>\n      <td>383.25</td>\n      <td>389.45</td>\n      <td>NaN</td>\n      <td>1.0</td>\n    </tr>\n    <tr>\n      <td>1524</td>\n      <td>RELCAPITAL</td>\n      <td>20110927</td>\n      <td>400.00</td>\n      <td>411.85</td>\n      <td>391.00</td>\n      <td>394.80</td>\n      <td>7424340</td>\n      <td>400</td>\n      <td>411.85</td>\n      <td>391</td>\n      <td>394.8</td>\n      <td>NaN</td>\n      <td>1.0</td>\n    </tr>\n    <tr>\n      <td>1525</td>\n      <td>RELCAPITAL</td>\n      <td>20110928</td>\n      <td>398.00</td>\n      <td>400.00</td>\n      <td>366.30</td>\n      <td>368.95</td>\n      <td>5883292</td>\n      <td>398</td>\n      <td>400</td>\n      <td>366.3</td>\n      <td>368.95</td>\n      <td>NaN</td>\n      <td>1.0</td>\n    </tr>\n    <tr>\n      <td>1526</td>\n      <td>RELCAPITAL</td>\n      <td>20110929</td>\n      <td>365.60</td>\n      <td>368.15</td>\n      <td>353.60</td>\n      <td>359.55</td>\n      <td>5632841</td>\n      <td>365.6</td>\n      <td>368.15</td>\n      <td>353.6</td>\n      <td>359.55</td>\n      <td>NaN</td>\n      <td>1.0</td>\n    </tr>\n    <tr>\n      <td>1527</td>\n      <td>RELCAPITAL</td>\n      <td>20110930</td>\n      <td>347.00</td>\n      <td>347.00</td>\n      <td>311.50</td>\n      <td>315.15</td>\n      <td>14290129</td>\n      <td>347</td>\n      <td>347</td>\n      <td>311.5</td>\n      <td>315.15</td>\n      <td>NaN</td>\n      <td>1.0</td>\n    </tr>\n    <tr>\n      <td>1528</td>\n      <td>RELCAPITAL</td>\n      <td>20111003</td>\n      <td>318.55</td>\n      <td>326.95</td>\n      <td>309.70</td>\n      <td>320.05</td>\n      <td>7526173</td>\n      <td>318.55</td>\n      <td>326.95</td>\n      <td>309.7</td>\n      <td>320.05</td>\n      <td>NaN</td>\n      <td>1.0</td>\n    </tr>\n    <tr>\n      <td>1529</td>\n      <td>RELCAPITAL</td>\n      <td>20111004</td>\n      <td>319.90</td>\n      <td>328.00</td>\n      <td>315.15</td>\n      <td>323.10</td>\n      <td>5075630</td>\n      <td>319.9</td>\n      <td>328</td>\n      <td>315.15</td>\n      <td>323.1</td>\n      <td>NaN</td>\n      <td>1.0</td>\n    </tr>\n    <tr>\n      <td>1530</td>\n      <td>RELCAPITAL</td>\n      <td>20111005</td>\n      <td>327.90</td>\n      <td>327.90</td>\n      <td>312.50</td>\n      <td>315.95</td>\n      <td>3911264</td>\n      <td>327.9</td>\n      <td>327.9</td>\n      <td>312.5</td>\n      <td>315.95</td>\n      <td>NaN</td>\n      <td>1.0</td>\n    </tr>\n    <tr>\n      <td>1531</td>\n      <td>RELCAPITAL</td>\n      <td>20111007</td>\n      <td>326.20</td>\n      <td>328.20</td>\n      <td>320.00</td>\n      <td>321.55</td>\n      <td>3352488</td>\n      <td>326.2</td>\n      <td>328.2</td>\n      <td>320</td>\n      <td>321.55</td>\n      <td>NaN</td>\n      <td>1.0</td>\n    </tr>\n    <tr>\n      <td>1532</td>\n      <td>RELCAPITAL</td>\n      <td>20111010</td>\n      <td>323.00</td>\n      <td>337.90</td>\n      <td>322.75</td>\n      <td>336.00</td>\n      <td>4671947</td>\n      <td>323</td>\n      <td>337.9</td>\n      <td>322.75</td>\n      <td>336</td>\n      <td>NaN</td>\n      <td>NaN</td>\n    </tr>\n    <tr>\n      <td>1533</td>\n      <td>RELCAPITAL</td>\n      <td>20111011</td>\n      <td>339.90</td>\n      <td>344.80</td>\n      <td>332.25</td>\n      <td>341.15</td>\n      <td>3781392</td>\n      <td>339.9</td>\n      <td>344.8</td>\n      <td>332.25</td>\n      <td>341.15</td>\n      <td>NaN</td>\n      <td>NaN</td>\n    </tr>\n    <tr>\n      <td>1534</td>\n      <td>RELCAPITAL</td>\n      <td>20111012</td>\n      <td>342.60</td>\n      <td>354.00</td>\n      <td>337.30</td>\n      <td>352.15</td>\n      <td>3663593</td>\n      <td>342.6</td>\n      <td>354</td>\n      <td>337.3</td>\n      <td>352.15</td>\n      <td>NaN</td>\n      <td>NaN</td>\n    </tr>\n    <tr>\n      <td>1535</td>\n      <td>RELCAPITAL</td>\n      <td>20111013</td>\n      <td>353.90</td>\n      <td>355.45</td>\n      <td>340.05</td>\n      <td>345.75</td>\n      <td>2920169</td>\n      <td>353.9</td>\n      <td>355.45</td>\n      <td>340.05</td>\n      <td>345.75</td>\n      <td>NaN</td>\n      <td>NaN</td>\n    </tr>\n    <tr>\n      <td>1536</td>\n      <td>RELCAPITAL</td>\n      <td>20111014</td>\n      <td>341.25</td>\n      <td>353.60</td>\n      <td>339.15</td>\n      <td>349.35</td>\n      <td>2330499</td>\n      <td>341.25</td>\n      <td>353.6</td>\n      <td>339.15</td>\n      <td>349.35</td>\n      <td>NaN</td>\n      <td>NaN</td>\n    </tr>\n    <tr>\n      <td>1537</td>\n      <td>RELCAPITAL</td>\n      <td>20111017</td>\n      <td>351.70</td>\n      <td>352.90</td>\n      <td>332.00</td>\n      <td>336.35</td>\n      <td>2703884</td>\n      <td>351.7</td>\n      <td>352.9</td>\n      <td>332</td>\n      <td>336.35</td>\n      <td>NaN</td>\n      <td>NaN</td>\n    </tr>\n    <tr>\n      <td>1538</td>\n      <td>RELCAPITAL</td>\n      <td>20111018</td>\n      <td>332.00</td>\n      <td>332.00</td>\n      <td>320.75</td>\n      <td>322.40</td>\n      <td>2014926</td>\n      <td>332</td>\n      <td>332</td>\n      <td>320.75</td>\n      <td>322.4</td>\n      <td>NaN</td>\n      <td>NaN</td>\n    </tr>\n    <tr>\n      <td>1539</td>\n      <td>RELCAPITAL</td>\n      <td>20111019</td>\n      <td>327.90</td>\n      <td>335.55</td>\n      <td>325.00</td>\n      <td>333.65</td>\n      <td>2039718</td>\n      <td>327.9</td>\n      <td>335.55</td>\n      <td>325</td>\n      <td>333.65</td>\n      <td>NaN</td>\n      <td>NaN</td>\n    </tr>\n    <tr>\n      <td>1540</td>\n      <td>RELCAPITAL</td>\n      <td>20111020</td>\n      <td>329.50</td>\n      <td>339.40</td>\n      <td>326.00</td>\n      <td>337.45</td>\n      <td>2557427</td>\n      <td>329.5</td>\n      <td>339.4</td>\n      <td>326</td>\n      <td>337.45</td>\n      <td>NaN</td>\n      <td>NaN</td>\n    </tr>\n    <tr>\n      <td>1541</td>\n      <td>RELCAPITAL</td>\n      <td>20111021</td>\n      <td>338.60</td>\n      <td>342.00</td>\n      <td>332.05</td>\n      <td>333.85</td>\n      <td>1765032</td>\n      <td>338.6</td>\n      <td>342</td>\n      <td>332.05</td>\n      <td>333.85</td>\n      <td>NaN</td>\n      <td>NaN</td>\n    </tr>\n    <tr>\n      <td>1542</td>\n      <td>RELCAPITAL</td>\n      <td>20111024</td>\n      <td>338.50</td>\n      <td>343.00</td>\n      <td>330.25</td>\n      <td>334.20</td>\n      <td>2073417</td>\n      <td>338.5</td>\n      <td>343</td>\n      <td>330.25</td>\n      <td>334.2</td>\n      <td>NaN</td>\n      <td>NaN</td>\n    </tr>\n    <tr>\n      <td>1543</td>\n      <td>RELCAPITAL</td>\n      <td>20111025</td>\n      <td>334.50</td>\n      <td>345.35</td>\n      <td>332.10</td>\n      <td>344.15</td>\n      <td>1964068</td>\n      <td>334.5</td>\n      <td>345.35</td>\n      <td>332.1</td>\n      <td>344.15</td>\n      <td>NaN</td>\n      <td>NaN</td>\n    </tr>\n    <tr>\n      <td>1544</td>\n      <td>RELCAPITAL</td>\n      <td>20111026</td>\n      <td>346.55</td>\n      <td>348.50</td>\n      <td>345.00</td>\n      <td>346.30</td>\n      <td>474483</td>\n      <td>346.55</td>\n      <td>348.5</td>\n      <td>345</td>\n      <td>346.3</td>\n      <td>NaN</td>\n      <td>NaN</td>\n    </tr>\n    <tr>\n      <td>1545</td>\n      <td>RELCAPITAL</td>\n      <td>20111028</td>\n      <td>357.00</td>\n      <td>376.00</td>\n      <td>355.00</td>\n      <td>372.05</td>\n      <td>3177728</td>\n      <td>357</td>\n      <td>376</td>\n      <td>355</td>\n      <td>372.05</td>\n      <td>NaN</td>\n      <td>NaN</td>\n    </tr>\n    <tr>\n      <td>1546</td>\n      <td>RELCAPITAL</td>\n      <td>20111031</td>\n      <td>369.20</td>\n      <td>376.45</td>\n      <td>364.25</td>\n      <td>370.15</td>\n      <td>2292708</td>\n      <td>369.2</td>\n      <td>376.45</td>\n      <td>364.25</td>\n      <td>370.15</td>\n      <td>NaN</td>\n      <td>NaN</td>\n    </tr>\n    <tr>\n      <td>1547</td>\n      <td>RELCAPITAL</td>\n      <td>20111101</td>\n      <td>363.65</td>\n      <td>373.55</td>\n      <td>353.30</td>\n      <td>360.80</td>\n      <td>2244198</td>\n      <td>363.65</td>\n      <td>373.55</td>\n      <td>353.3</td>\n      <td>360.8</td>\n      <td>NaN</td>\n      <td>NaN</td>\n    </tr>\n    <tr>\n      <td>1548</td>\n      <td>RELCAPITAL</td>\n      <td>20111102</td>\n      <td>355.00</td>\n      <td>372.85</td>\n      <td>355.00</td>\n      <td>366.20</td>\n      <td>2303313</td>\n      <td>355</td>\n      <td>372.85</td>\n      <td>355</td>\n      <td>366.2</td>\n      <td>NaN</td>\n      <td>NaN</td>\n    </tr>\n    <tr>\n      <td>1549</td>\n      <td>RELCAPITAL</td>\n      <td>20111103</td>\n      <td>366.50</td>\n      <td>376.80</td>\n      <td>363.05</td>\n      <td>373.55</td>\n      <td>3431131</td>\n      <td>366.5</td>\n      <td>376.8</td>\n      <td>363.05</td>\n      <td>373.55</td>\n      <td>NaN</td>\n      <td>NaN</td>\n    </tr>\n  </tbody>\n</table>\n</div>"
     },
     "metadata": {},
     "execution_count": 6
    }
   ],
   "source": [
    "data.iloc[1500:1550]"
   ]
  },
  {
   "cell_type": "code",
   "execution_count": 7,
   "metadata": {},
   "outputs": [
    {
     "output_type": "execute_result",
     "data": {
      "text/plain": "0.0"
     },
     "metadata": {},
     "execution_count": 7
    }
   ],
   "source": [
    "data[:852].IndexFlag.sum()"
   ]
  },
  {
   "cell_type": "code",
   "execution_count": 8,
   "metadata": {},
   "outputs": [
    {
     "output_type": "execute_result",
     "data": {
      "text/plain": "Empty DataFrame\nColumns: [Symbol, Date, Open, High, Low, Close, Volume, AdjustedOpen, AdjustedHigh, AdjustedLow, AdjustedClose, Buffer, IndexFlag]\nIndex: []",
      "text/html": "<div>\n<style scoped>\n    .dataframe tbody tr th:only-of-type {\n        vertical-align: middle;\n    }\n\n    .dataframe tbody tr th {\n        vertical-align: top;\n    }\n\n    .dataframe thead th {\n        text-align: right;\n    }\n</style>\n<table border=\"1\" class=\"dataframe\">\n  <thead>\n    <tr style=\"text-align: right;\">\n      <th></th>\n      <th>Symbol</th>\n      <th>Date</th>\n      <th>Open</th>\n      <th>High</th>\n      <th>Low</th>\n      <th>Close</th>\n      <th>Volume</th>\n      <th>AdjustedOpen</th>\n      <th>AdjustedHigh</th>\n      <th>AdjustedLow</th>\n      <th>AdjustedClose</th>\n      <th>Buffer</th>\n      <th>IndexFlag</th>\n    </tr>\n  </thead>\n  <tbody>\n  </tbody>\n</table>\n</div>"
     },
     "metadata": {},
     "execution_count": 8
    }
   ],
   "source": [
    "data.iloc[852:1532][data.IndexFlag!=1.0]"
   ]
  },
  {
   "cell_type": "code",
   "execution_count": 19,
   "metadata": {
    "tags": []
   },
   "outputs": [
    {
     "output_type": "stream",
     "name": "stdout",
     "text": "fetching data for  COCHINREFN\nfetching data for  PONDS\nfetching data for  THERMAX\nfetching data for  SBIN\nfetching data for  CASTROL\nfetching data for  ESSARGUJ\nfetching data for  IFCI\nfetching data for  AMBUJACEM\nfetching data for  TATACHEM\nfetching data for  COLGATE\nfetching data for  TATASTEEL\nfetching data for  INDOGULF\nfetching data for  RELIANCE\nfetching data for  DRREDDY\nfetching data for  IPCL\nfetching data for  IDBI\nfetching data for  EIHOTEL\nfetching data for  HINDUNILVR\nfetching data for  BAJAJHLDNG\nfetching data for  ITC\nfetching data for  GRASIM\nfetching data for  TATACONSUM\nfetching data for  SCICI\nfetching data for  ABIRLANUVO\nfetching data for  ARVIND\nfetching data for  TATAMOTORS\nfetching data for  RELPETRO\nfetching data for  GESHIPPING\nfetching data for  RELINFRA\nfetching data for  ORIENTBANK\nfetching data for  L&T\nfetching data for  RANBAXY\nfetching data for  NESTLE\nfetching data for  RELCAPITAL\nfetching data for  ICICI\nfetching data for  TVSSUZUKI\nfetching data for  ABB\nfetching data for  MRPL\nfetching data for  HINDALCO\nfetching data for  TATAPOWER\nfetching data for  HDFCBANK\nfetching data for  ACC\nfetching data for  GLAXO\nfetching data for  ANDRAVALLY\nfetching data for  ASIANPAINT\nfetching data for  HDFC\nfetching data for  M&M\nfetching data for  INDHOTEL\nfetching data for  BROOKBOND\nfetching data for  ASHOKLEY\nfetching data for  MTNL\nfetching data for  BHEL\nfetching data for  HINDPETRO\nfetching data for  BPCL\nfetching data for  INFY\nfetching data for  PGHH\nfetching data for  CIPLA\nfetching data for  GSKCONS\nfetching data for  NIIT\nfetching data for  HEROMOTOCO\nfetching data for  BANKINDIA\nfetching data for  RECKCOLMAN\nfetching data for  NOVARTIND\nfetching data for  BRITANNIA\nfetching data for  SATYAMCOMP\nfetching data for  DABUR\nfetching data for  HCL-INSYS\nfetching data for  ZEEL\nfetching data for  DIGITALEQP\nfetching data for  SUNPHARMA\nfetching data for  WIPRO\nfetching data for  ICICIBANK\nfetching data for  TATACOMM\nfetching data for  SCI\nfetching data for  HCLTECH\nfetching data for  NATIONALUM\nfetching data for  GAIL\nfetching data for  SAIL\nfetching data for  BHARTIARTL\nfetching data for  MARUTI\nfetching data for  ONGC\nfetching data for  PNB\nfetching data for  LT\nfetching data for  TCS\nfetching data for  JETAIRWAYS\nfetching data for  SIEMENS\nfetching data for  SUZLON\nfetching data for  RCOM\nfetching data for  RPL\nfetching data for  STER\nfetching data for  NTPC\nfetching data for  UNITECH\nfetching data for  IDEA\nfetching data for  CAIRN\nfetching data for  DLF\nfetching data for  POWERGRID\nfetching data for  RPOWER\nfetching data for  AXISBANK\nfetching data for  JINDALSTEL\nfetching data for  IDFC\nfetching data for  JPASSOCIAT\nfetching data for  KOTAKBANK\nfetching data for  BAJAJ-AUTO\nfetching data for  VEDL\nfetching data for  COALINDIA\nfetching data for  BANKBARODA\nfetching data for  ULTRACEMCO\nfetching data for  LUPIN\nfetching data for  INDUSINDBK\nfetching data for  NMDC\nfetching data for  TECHM\nfetching data for  MCDOWELL-N\nfetching data for  YESBANK\nfetching data for  BOSCHLTD\nfetching data for  ADANIPORTS\nfetching data for  AUROPHARMA\nfetching data for  TATAMTRDVR\nfetching data for  EICHERMOT\nfetching data for  INFRATEL\nfetching data for  IOC\nfetching data for  IBULHSGFIN\nfetching data for  BAJFINANCE\nfetching data for  UPL\nfetching data for  BAJAJFINSV\nfetching data for  TITAN\nfetching data for  JSWSTEEL\nfetching data for  NESTLEIND\nfetching data for  SHREECEM\nfetching data for  HDFCLIFE\n"
    }
   ],
   "source": [
    "data = hist.index_components_history('Nifty 50', start_date='19960130', end_date='20200801', buffer_start='19960101')"
   ]
  },
  {
   "cell_type": "code",
   "execution_count": 20,
   "metadata": {},
   "outputs": [
    {
     "output_type": "execute_result",
     "data": {
      "text/plain": "          Symbol      Date   Open  High    Low  Close   Volume AdjustedOpen  \\\n0     RELCAPITAL  19960101  90.30  90.9  90.00  90.70    22700         90.3   \n1     RELCAPITAL  19960102  90.70  91.0  89.75  90.15    80400         90.7   \n2     RELCAPITAL  19960109  84.50  84.7  81.00  83.60    69700         84.5   \n3     RELCAPITAL  19960110  83.60  84.5  82.50  82.95    57800         83.6   \n4     RELCAPITAL  19960111  82.95  85.0  82.35  84.90    92100        82.95   \n...          ...       ...    ...   ...    ...    ...      ...          ...   \n6069  RELCAPITAL  20200727  10.40  10.4   9.95  10.00  1439878         10.4   \n6070  RELCAPITAL  20200728  10.10  10.2   9.50   9.65  1048030         10.1   \n6071  RELCAPITAL  20200729   9.80  10.1   9.30  10.10   653461          9.8   \n6072  RELCAPITAL  20200730  10.00  10.4   9.60   9.85   904157           10   \n6073  RELCAPITAL  20200731   9.40   9.7   9.40   9.45  1017592          9.4   \n\n     AdjustedHigh AdjustedLow AdjustedClose  Buffer  IndexFlag  \n0            90.9          90          90.7     1.0        NaN  \n1              91       89.75         90.15     1.0        NaN  \n2            84.7          81          83.6     1.0        NaN  \n3            84.5        82.5         82.95     1.0        NaN  \n4              85       82.35          84.9     1.0        NaN  \n...           ...         ...           ...     ...        ...  \n6069         10.4        9.95            10     NaN        NaN  \n6070         10.2         9.5          9.65     NaN        NaN  \n6071         10.1         9.3          10.1     NaN        NaN  \n6072         10.4         9.6          9.85     NaN        NaN  \n6073          9.7         9.4          9.45     NaN        NaN  \n\n[6074 rows x 13 columns]",
      "text/html": "<div>\n<style scoped>\n    .dataframe tbody tr th:only-of-type {\n        vertical-align: middle;\n    }\n\n    .dataframe tbody tr th {\n        vertical-align: top;\n    }\n\n    .dataframe thead th {\n        text-align: right;\n    }\n</style>\n<table border=\"1\" class=\"dataframe\">\n  <thead>\n    <tr style=\"text-align: right;\">\n      <th></th>\n      <th>Symbol</th>\n      <th>Date</th>\n      <th>Open</th>\n      <th>High</th>\n      <th>Low</th>\n      <th>Close</th>\n      <th>Volume</th>\n      <th>AdjustedOpen</th>\n      <th>AdjustedHigh</th>\n      <th>AdjustedLow</th>\n      <th>AdjustedClose</th>\n      <th>Buffer</th>\n      <th>IndexFlag</th>\n    </tr>\n  </thead>\n  <tbody>\n    <tr>\n      <td>0</td>\n      <td>RELCAPITAL</td>\n      <td>19960101</td>\n      <td>90.30</td>\n      <td>90.9</td>\n      <td>90.00</td>\n      <td>90.70</td>\n      <td>22700</td>\n      <td>90.3</td>\n      <td>90.9</td>\n      <td>90</td>\n      <td>90.7</td>\n      <td>1.0</td>\n      <td>NaN</td>\n    </tr>\n    <tr>\n      <td>1</td>\n      <td>RELCAPITAL</td>\n      <td>19960102</td>\n      <td>90.70</td>\n      <td>91.0</td>\n      <td>89.75</td>\n      <td>90.15</td>\n      <td>80400</td>\n      <td>90.7</td>\n      <td>91</td>\n      <td>89.75</td>\n      <td>90.15</td>\n      <td>1.0</td>\n      <td>NaN</td>\n    </tr>\n    <tr>\n      <td>2</td>\n      <td>RELCAPITAL</td>\n      <td>19960109</td>\n      <td>84.50</td>\n      <td>84.7</td>\n      <td>81.00</td>\n      <td>83.60</td>\n      <td>69700</td>\n      <td>84.5</td>\n      <td>84.7</td>\n      <td>81</td>\n      <td>83.6</td>\n      <td>1.0</td>\n      <td>NaN</td>\n    </tr>\n    <tr>\n      <td>3</td>\n      <td>RELCAPITAL</td>\n      <td>19960110</td>\n      <td>83.60</td>\n      <td>84.5</td>\n      <td>82.50</td>\n      <td>82.95</td>\n      <td>57800</td>\n      <td>83.6</td>\n      <td>84.5</td>\n      <td>82.5</td>\n      <td>82.95</td>\n      <td>1.0</td>\n      <td>NaN</td>\n    </tr>\n    <tr>\n      <td>4</td>\n      <td>RELCAPITAL</td>\n      <td>19960111</td>\n      <td>82.95</td>\n      <td>85.0</td>\n      <td>82.35</td>\n      <td>84.90</td>\n      <td>92100</td>\n      <td>82.95</td>\n      <td>85</td>\n      <td>82.35</td>\n      <td>84.9</td>\n      <td>1.0</td>\n      <td>NaN</td>\n    </tr>\n    <tr>\n      <td>...</td>\n      <td>...</td>\n      <td>...</td>\n      <td>...</td>\n      <td>...</td>\n      <td>...</td>\n      <td>...</td>\n      <td>...</td>\n      <td>...</td>\n      <td>...</td>\n      <td>...</td>\n      <td>...</td>\n      <td>...</td>\n      <td>...</td>\n    </tr>\n    <tr>\n      <td>6069</td>\n      <td>RELCAPITAL</td>\n      <td>20200727</td>\n      <td>10.40</td>\n      <td>10.4</td>\n      <td>9.95</td>\n      <td>10.00</td>\n      <td>1439878</td>\n      <td>10.4</td>\n      <td>10.4</td>\n      <td>9.95</td>\n      <td>10</td>\n      <td>NaN</td>\n      <td>NaN</td>\n    </tr>\n    <tr>\n      <td>6070</td>\n      <td>RELCAPITAL</td>\n      <td>20200728</td>\n      <td>10.10</td>\n      <td>10.2</td>\n      <td>9.50</td>\n      <td>9.65</td>\n      <td>1048030</td>\n      <td>10.1</td>\n      <td>10.2</td>\n      <td>9.5</td>\n      <td>9.65</td>\n      <td>NaN</td>\n      <td>NaN</td>\n    </tr>\n    <tr>\n      <td>6071</td>\n      <td>RELCAPITAL</td>\n      <td>20200729</td>\n      <td>9.80</td>\n      <td>10.1</td>\n      <td>9.30</td>\n      <td>10.10</td>\n      <td>653461</td>\n      <td>9.8</td>\n      <td>10.1</td>\n      <td>9.3</td>\n      <td>10.1</td>\n      <td>NaN</td>\n      <td>NaN</td>\n    </tr>\n    <tr>\n      <td>6072</td>\n      <td>RELCAPITAL</td>\n      <td>20200730</td>\n      <td>10.00</td>\n      <td>10.4</td>\n      <td>9.60</td>\n      <td>9.85</td>\n      <td>904157</td>\n      <td>10</td>\n      <td>10.4</td>\n      <td>9.6</td>\n      <td>9.85</td>\n      <td>NaN</td>\n      <td>NaN</td>\n    </tr>\n    <tr>\n      <td>6073</td>\n      <td>RELCAPITAL</td>\n      <td>20200731</td>\n      <td>9.40</td>\n      <td>9.7</td>\n      <td>9.40</td>\n      <td>9.45</td>\n      <td>1017592</td>\n      <td>9.4</td>\n      <td>9.7</td>\n      <td>9.4</td>\n      <td>9.45</td>\n      <td>NaN</td>\n      <td>NaN</td>\n    </tr>\n  </tbody>\n</table>\n<p>6074 rows × 13 columns</p>\n</div>"
     },
     "metadata": {},
     "execution_count": 20
    }
   ],
   "source": [
    "data['RELCAPITAL']"
   ]
  },
  {
   "cell_type": "code",
   "execution_count": 18,
   "metadata": {
    "tags": []
   },
   "outputs": [
    {
     "output_type": "stream",
     "name": "stdout",
     "text": "fetching data for  TCS\n"
    }
   ],
   "source": [
    "import pandas as pd\n",
    "import numpy as np\n",
    "start_date = buffer_start = '19960101'\n",
    "end_date = '20200801'\n",
    "symbol = 'TCS'\n",
    "index = 'Nifty 50'\n",
    "\n",
    "buffer_start = hist.date_check(start_date, end_date, buffer_start)\n",
    "\n",
    "symbol_hist = hist.symbol_history(symbol, start_date, end_date, buffer_start)\n",
    "\n",
    "histIndex, histIndexDates = hist.index_change_history(index)\n",
    "\n",
    "# Index change dates when symbol was part of index\n",
    "df_symbol = histIndex[histIndex.Symbol == symbol]\n",
    "\n",
    "# All index change dates with info on symbol present or absent\n",
    "df_index_symbol = pd.merge(histIndexDates, df_symbol, how='left', on=['Date']).sort_values(by='Date')\n",
    "df_index_symbol.Symbol = np.where(df_index_symbol.IndexName.notnull(), True, np.nan)\n",
    "\n",
    "# Marking dates when symbol was removed from index - 1.0 = Present, 0.0 = Removal, NaN = Absent\n",
    "df_index_symbol.Symbol.fillna(method='ffill', inplace=True, limit=1) \n",
    "df_index_symbol.Symbol = np.where((df_index_symbol.IndexName.isnull()) & \\\n",
    "    (df_index_symbol.Symbol.notnull()), False, df_index_symbol.Symbol)\n",
    "# Removing NaN records, renaming columns\n",
    "df_index_symbol = df_index_symbol[df_index_symbol.Symbol.notnull()][['Date', 'Symbol']]\n",
    "df_index_symbol.columns = ['Date', 'IndexFlag']\n",
    "\n",
    "# Symbol in index on buffer_start?\n",
    "try:\n",
    "    index_flag_buffer_start = df_index_symbol[df_index_symbol.Date.astype(int) < \\\n",
    "        int(buffer_start)].sort_values(by='Date', ascending=False).iloc[0].IndexFlag\n",
    "except IndexError:\n",
    "    index_flag_buffer_start = False\n"
   ]
  },
  {
   "cell_type": "code",
   "execution_count": 19,
   "metadata": {},
   "outputs": [
    {
     "output_type": "execute_result",
     "data": {
      "text/plain": "False"
     },
     "metadata": {},
     "execution_count": 19
    }
   ],
   "source": [
    "index_flag_buffer_start"
   ]
  },
  {
   "cell_type": "code",
   "execution_count": 9,
   "metadata": {},
   "outputs": [
    {
     "output_type": "execute_result",
     "data": {
      "text/plain": "129"
     },
     "metadata": {},
     "execution_count": 9
    }
   ],
   "source": [
    "len(data.keys())"
   ]
  },
  {
   "cell_type": "code",
   "execution_count": 10,
   "metadata": {},
   "outputs": [
    {
     "output_type": "execute_result",
     "data": {
      "text/plain": "     Symbol      Date     Open    High      Low    Close    Volume  \\\n0       TCS  20040825  1198.70  1198.7   979.00   987.95  17116372   \n1       TCS  20040826   992.00   997.0   975.30   979.00   5055400   \n2       TCS  20040827   982.40   982.4   958.55   962.65   3830750   \n3       TCS  20040830   969.90   990.0   965.00   986.75   3058151   \n4       TCS  20040831   986.50   990.0   976.00   988.10   2649332   \n...     ...       ...      ...     ...      ...      ...       ...   \n3938    TCS  20200727  2165.00  2215.0  2163.50  2206.80   4248837   \n3939    TCS  20200728  2215.00  2320.0  2215.00  2309.75   8092458   \n3940    TCS  20200729  2292.00  2342.0  2246.05  2276.05   6090440   \n3941    TCS  20200730  2285.90  2358.0  2272.25  2279.50   7098913   \n3942    TCS  20200731  2303.15  2334.8  2257.45  2281.40   4723290   \n\n      AdjustedOpen  AdjustedHigh  AdjustedLow  AdjustedClose Buffer  IndexFlag  \n0              NaN           NaN          NaN            NaN   None        NaN  \n1              NaN           NaN          NaN            NaN   None        NaN  \n2              NaN           NaN          NaN            NaN   None        NaN  \n3              NaN           NaN          NaN            NaN   None        NaN  \n4              NaN           NaN          NaN            NaN   None        NaN  \n...            ...           ...          ...            ...    ...        ...  \n3938       17320.0       17720.0      17308.0        17654.4   None        1.0  \n3939       17720.0       18560.0      17720.0        18478.0   None        1.0  \n3940       18336.0       18736.0      17968.4        18208.4   None        1.0  \n3941       18287.2       18864.0      18178.0        18236.0   None        1.0  \n3942       18425.2       18678.4      18059.6        18251.2   None        1.0  \n\n[3943 rows x 13 columns]",
      "text/html": "<div>\n<style scoped>\n    .dataframe tbody tr th:only-of-type {\n        vertical-align: middle;\n    }\n\n    .dataframe tbody tr th {\n        vertical-align: top;\n    }\n\n    .dataframe thead th {\n        text-align: right;\n    }\n</style>\n<table border=\"1\" class=\"dataframe\">\n  <thead>\n    <tr style=\"text-align: right;\">\n      <th></th>\n      <th>Symbol</th>\n      <th>Date</th>\n      <th>Open</th>\n      <th>High</th>\n      <th>Low</th>\n      <th>Close</th>\n      <th>Volume</th>\n      <th>AdjustedOpen</th>\n      <th>AdjustedHigh</th>\n      <th>AdjustedLow</th>\n      <th>AdjustedClose</th>\n      <th>Buffer</th>\n      <th>IndexFlag</th>\n    </tr>\n  </thead>\n  <tbody>\n    <tr>\n      <td>0</td>\n      <td>TCS</td>\n      <td>20040825</td>\n      <td>1198.70</td>\n      <td>1198.7</td>\n      <td>979.00</td>\n      <td>987.95</td>\n      <td>17116372</td>\n      <td>NaN</td>\n      <td>NaN</td>\n      <td>NaN</td>\n      <td>NaN</td>\n      <td>None</td>\n      <td>NaN</td>\n    </tr>\n    <tr>\n      <td>1</td>\n      <td>TCS</td>\n      <td>20040826</td>\n      <td>992.00</td>\n      <td>997.0</td>\n      <td>975.30</td>\n      <td>979.00</td>\n      <td>5055400</td>\n      <td>NaN</td>\n      <td>NaN</td>\n      <td>NaN</td>\n      <td>NaN</td>\n      <td>None</td>\n      <td>NaN</td>\n    </tr>\n    <tr>\n      <td>2</td>\n      <td>TCS</td>\n      <td>20040827</td>\n      <td>982.40</td>\n      <td>982.4</td>\n      <td>958.55</td>\n      <td>962.65</td>\n      <td>3830750</td>\n      <td>NaN</td>\n      <td>NaN</td>\n      <td>NaN</td>\n      <td>NaN</td>\n      <td>None</td>\n      <td>NaN</td>\n    </tr>\n    <tr>\n      <td>3</td>\n      <td>TCS</td>\n      <td>20040830</td>\n      <td>969.90</td>\n      <td>990.0</td>\n      <td>965.00</td>\n      <td>986.75</td>\n      <td>3058151</td>\n      <td>NaN</td>\n      <td>NaN</td>\n      <td>NaN</td>\n      <td>NaN</td>\n      <td>None</td>\n      <td>NaN</td>\n    </tr>\n    <tr>\n      <td>4</td>\n      <td>TCS</td>\n      <td>20040831</td>\n      <td>986.50</td>\n      <td>990.0</td>\n      <td>976.00</td>\n      <td>988.10</td>\n      <td>2649332</td>\n      <td>NaN</td>\n      <td>NaN</td>\n      <td>NaN</td>\n      <td>NaN</td>\n      <td>None</td>\n      <td>NaN</td>\n    </tr>\n    <tr>\n      <td>...</td>\n      <td>...</td>\n      <td>...</td>\n      <td>...</td>\n      <td>...</td>\n      <td>...</td>\n      <td>...</td>\n      <td>...</td>\n      <td>...</td>\n      <td>...</td>\n      <td>...</td>\n      <td>...</td>\n      <td>...</td>\n      <td>...</td>\n    </tr>\n    <tr>\n      <td>3938</td>\n      <td>TCS</td>\n      <td>20200727</td>\n      <td>2165.00</td>\n      <td>2215.0</td>\n      <td>2163.50</td>\n      <td>2206.80</td>\n      <td>4248837</td>\n      <td>17320.0</td>\n      <td>17720.0</td>\n      <td>17308.0</td>\n      <td>17654.4</td>\n      <td>None</td>\n      <td>1.0</td>\n    </tr>\n    <tr>\n      <td>3939</td>\n      <td>TCS</td>\n      <td>20200728</td>\n      <td>2215.00</td>\n      <td>2320.0</td>\n      <td>2215.00</td>\n      <td>2309.75</td>\n      <td>8092458</td>\n      <td>17720.0</td>\n      <td>18560.0</td>\n      <td>17720.0</td>\n      <td>18478.0</td>\n      <td>None</td>\n      <td>1.0</td>\n    </tr>\n    <tr>\n      <td>3940</td>\n      <td>TCS</td>\n      <td>20200729</td>\n      <td>2292.00</td>\n      <td>2342.0</td>\n      <td>2246.05</td>\n      <td>2276.05</td>\n      <td>6090440</td>\n      <td>18336.0</td>\n      <td>18736.0</td>\n      <td>17968.4</td>\n      <td>18208.4</td>\n      <td>None</td>\n      <td>1.0</td>\n    </tr>\n    <tr>\n      <td>3941</td>\n      <td>TCS</td>\n      <td>20200730</td>\n      <td>2285.90</td>\n      <td>2358.0</td>\n      <td>2272.25</td>\n      <td>2279.50</td>\n      <td>7098913</td>\n      <td>18287.2</td>\n      <td>18864.0</td>\n      <td>18178.0</td>\n      <td>18236.0</td>\n      <td>None</td>\n      <td>1.0</td>\n    </tr>\n    <tr>\n      <td>3942</td>\n      <td>TCS</td>\n      <td>20200731</td>\n      <td>2303.15</td>\n      <td>2334.8</td>\n      <td>2257.45</td>\n      <td>2281.40</td>\n      <td>4723290</td>\n      <td>18425.2</td>\n      <td>18678.4</td>\n      <td>18059.6</td>\n      <td>18251.2</td>\n      <td>None</td>\n      <td>1.0</td>\n    </tr>\n  </tbody>\n</table>\n<p>3943 rows × 13 columns</p>\n</div>"
     },
     "metadata": {},
     "execution_count": 10
    }
   ],
   "source": [
    "data['TCS']"
   ]
  },
  {
   "cell_type": "code",
   "execution_count": 5,
   "metadata": {},
   "outputs": [
    {
     "output_type": "execute_result",
     "data": {
      "text/plain": "3817.0"
     },
     "metadata": {},
     "execution_count": 5
    }
   ],
   "source": [
    "data['TCS'].IndexFlag.sum()"
   ]
  },
  {
   "cell_type": "code",
   "execution_count": 11,
   "metadata": {},
   "outputs": [
    {
     "output_type": "execute_result",
     "data": {
      "text/plain": "    Symbol      Date     Open     High      Low    Close   Volume  \\\n100    TCS  20050118  1274.70  1284.00  1257.50  1263.85   772908   \n101    TCS  20050119  1266.00  1273.70  1251.10  1255.40   442311   \n102    TCS  20050120  1255.00  1255.00  1230.00  1243.70   567025   \n103    TCS  20050124  1243.70  1247.35  1215.35  1220.65   453524   \n104    TCS  20050125  1214.80  1239.90  1207.10  1235.45   558241   \n105    TCS  20050127  1243.25  1253.80  1235.30  1240.55   681918   \n106    TCS  20050128  1242.85  1294.80  1242.50  1289.20  1049227   \n107    TCS  20050131  1298.00  1311.80  1290.25  1300.40   731673   \n108    TCS  20050201  1307.00  1320.00  1287.00  1315.25  1002480   \n109    TCS  20050202  1319.00  1323.45  1303.00  1308.95   608807   \n110    TCS  20050203  1312.00  1314.75  1302.00  1311.10   415952   \n111    TCS  20050204  1310.00  1322.00  1300.55  1306.45   335505   \n112    TCS  20050207  1312.60  1330.70  1301.00  1313.75   743027   \n113    TCS  20050208  1313.75  1323.00  1308.00  1316.00   410554   \n114    TCS  20050209  1321.00  1343.60  1320.75  1332.80   692242   \n115    TCS  20050210  1330.00  1343.50  1323.00  1332.65   547081   \n116    TCS  20050211  1338.00  1387.00  1338.00  1381.75  1295887   \n117    TCS  20050214  1391.05  1418.00  1391.05  1409.65  1109408   \n118    TCS  20050215  1410.00  1415.00  1374.00  1381.35   497090   \n119    TCS  20050216  1399.00  1399.00  1361.00  1368.15   390854   \n120    TCS  20050217  1368.15  1386.00  1350.60  1381.85   515622   \n121    TCS  20050218  1380.00  1392.00  1355.00  1375.00   318143   \n122    TCS  20050221  1371.00  1375.80  1345.10  1365.55   222144   \n123    TCS  20050222  1364.70  1369.95  1351.00  1363.45   267380   \n124    TCS  20050223  1363.45  1382.10  1355.15  1374.95   645852   \n125    TCS  20050224  1374.95  1395.90  1361.20  1367.95  1350805   \n126    TCS  20050225  1376.80  1379.00  1353.15  1364.05   633862   \n127    TCS  20050228  1379.00  1385.00  1340.00  1380.90   800301   \n128    TCS  20050301  1381.00  1440.00  1351.00  1357.45   619769   \n129    TCS  20050302  1375.00  1375.00  1361.60  1368.00   332264   \n130    TCS  20050303  1370.00  1395.00  1364.00  1389.55   361395   \n131    TCS  20050304  1394.00  1403.50  1382.00  1392.25   502234   \n132    TCS  20050307  1395.00  1408.00  1394.00  1400.20   457254   \n133    TCS  20050308  1404.00  1420.90  1395.35  1413.95   628460   \n134    TCS  20050309  1409.00  1426.50  1395.05  1407.50   677761   \n135    TCS  20050310  1410.00  1410.00  1390.25  1399.55   287785   \n136    TCS  20050311  1406.00  1434.90  1405.00  1427.45   650718   \n137    TCS  20050314  1428.00  1460.00  1420.00  1451.85   816754   \n138    TCS  20050315  1451.00  1462.00  1430.00  1442.65   518310   \n139    TCS  20050316  1440.00  1467.60  1440.00  1452.05   684177   \n140    TCS  20050317  1448.00  1473.70  1440.00  1460.95   850666   \n141    TCS  20050318  1459.00  1472.50  1425.00  1468.70   765433   \n142    TCS  20050321  1470.15  1475.00  1444.60  1456.45   544265   \n143    TCS  20050322  1454.80  1457.10  1440.10  1443.55   335554   \n144    TCS  20050323  1440.00  1448.00  1413.35  1421.25   429927   \n145    TCS  20050324  1430.00  1438.00  1377.65  1384.35   744322   \n146    TCS  20050328  1391.00  1408.85  1384.00  1392.40   462466   \n147    TCS  20050329  1395.00  1398.00  1362.20  1370.90   381675   \n148    TCS  20050330  1371.10  1400.00  1360.00  1390.55   514407   \n149    TCS  20050331  1404.50  1445.10  1397.25  1432.05   864330   \n\n     AdjustedOpen  AdjustedHigh  AdjustedLow  AdjustedClose Buffer  IndexFlag  \n100           NaN           NaN          NaN            NaN   None        NaN  \n101           NaN           NaN          NaN            NaN   None        NaN  \n102           NaN           NaN          NaN            NaN   None        NaN  \n103           NaN           NaN          NaN            NaN   None        NaN  \n104           NaN           NaN          NaN            NaN   None        NaN  \n105           NaN           NaN          NaN            NaN   None        NaN  \n106           NaN           NaN          NaN            NaN   None        NaN  \n107           NaN           NaN          NaN            NaN   None        NaN  \n108           NaN           NaN          NaN            NaN   None        NaN  \n109           NaN           NaN          NaN            NaN   None        NaN  \n110           NaN           NaN          NaN            NaN   None        NaN  \n111           NaN           NaN          NaN            NaN   None        NaN  \n112           NaN           NaN          NaN            NaN   None        NaN  \n113           NaN           NaN          NaN            NaN   None        NaN  \n114           NaN           NaN          NaN            NaN   None        NaN  \n115           NaN           NaN          NaN            NaN   None        NaN  \n116           NaN           NaN          NaN            NaN   None        NaN  \n117           NaN           NaN          NaN            NaN   None        NaN  \n118           NaN           NaN          NaN            NaN   None        NaN  \n119           NaN           NaN          NaN            NaN   None        NaN  \n120           NaN           NaN          NaN            NaN   None        NaN  \n121           NaN           NaN          NaN            NaN   None        NaN  \n122           NaN           NaN          NaN            NaN   None        NaN  \n123           NaN           NaN          NaN            NaN   None        NaN  \n124           NaN           NaN          NaN            NaN   None        NaN  \n125           NaN           NaN          NaN            NaN   None        NaN  \n126           NaN           NaN          NaN            NaN   None        1.0  \n127           NaN           NaN          NaN            NaN   None        1.0  \n128           NaN           NaN          NaN            NaN   None        1.0  \n129           NaN           NaN          NaN            NaN   None        1.0  \n130           NaN           NaN          NaN            NaN   None        1.0  \n131           NaN           NaN          NaN            NaN   None        1.0  \n132           NaN           NaN          NaN            NaN   None        1.0  \n133           NaN           NaN          NaN            NaN   None        1.0  \n134           NaN           NaN          NaN            NaN   None        1.0  \n135           NaN           NaN          NaN            NaN   None        1.0  \n136           NaN           NaN          NaN            NaN   None        1.0  \n137           NaN           NaN          NaN            NaN   None        1.0  \n138           NaN           NaN          NaN            NaN   None        1.0  \n139           NaN           NaN          NaN            NaN   None        1.0  \n140           NaN           NaN          NaN            NaN   None        1.0  \n141           NaN           NaN          NaN            NaN   None        1.0  \n142           NaN           NaN          NaN            NaN   None        1.0  \n143           NaN           NaN          NaN            NaN   None        1.0  \n144           NaN           NaN          NaN            NaN   None        1.0  \n145           NaN           NaN          NaN            NaN   None        1.0  \n146           NaN           NaN          NaN            NaN   None        1.0  \n147           NaN           NaN          NaN            NaN   None        1.0  \n148           NaN           NaN          NaN            NaN   None        1.0  \n149           NaN           NaN          NaN            NaN   None        1.0  ",
      "text/html": "<div>\n<style scoped>\n    .dataframe tbody tr th:only-of-type {\n        vertical-align: middle;\n    }\n\n    .dataframe tbody tr th {\n        vertical-align: top;\n    }\n\n    .dataframe thead th {\n        text-align: right;\n    }\n</style>\n<table border=\"1\" class=\"dataframe\">\n  <thead>\n    <tr style=\"text-align: right;\">\n      <th></th>\n      <th>Symbol</th>\n      <th>Date</th>\n      <th>Open</th>\n      <th>High</th>\n      <th>Low</th>\n      <th>Close</th>\n      <th>Volume</th>\n      <th>AdjustedOpen</th>\n      <th>AdjustedHigh</th>\n      <th>AdjustedLow</th>\n      <th>AdjustedClose</th>\n      <th>Buffer</th>\n      <th>IndexFlag</th>\n    </tr>\n  </thead>\n  <tbody>\n    <tr>\n      <td>100</td>\n      <td>TCS</td>\n      <td>20050118</td>\n      <td>1274.70</td>\n      <td>1284.00</td>\n      <td>1257.50</td>\n      <td>1263.85</td>\n      <td>772908</td>\n      <td>NaN</td>\n      <td>NaN</td>\n      <td>NaN</td>\n      <td>NaN</td>\n      <td>None</td>\n      <td>NaN</td>\n    </tr>\n    <tr>\n      <td>101</td>\n      <td>TCS</td>\n      <td>20050119</td>\n      <td>1266.00</td>\n      <td>1273.70</td>\n      <td>1251.10</td>\n      <td>1255.40</td>\n      <td>442311</td>\n      <td>NaN</td>\n      <td>NaN</td>\n      <td>NaN</td>\n      <td>NaN</td>\n      <td>None</td>\n      <td>NaN</td>\n    </tr>\n    <tr>\n      <td>102</td>\n      <td>TCS</td>\n      <td>20050120</td>\n      <td>1255.00</td>\n      <td>1255.00</td>\n      <td>1230.00</td>\n      <td>1243.70</td>\n      <td>567025</td>\n      <td>NaN</td>\n      <td>NaN</td>\n      <td>NaN</td>\n      <td>NaN</td>\n      <td>None</td>\n      <td>NaN</td>\n    </tr>\n    <tr>\n      <td>103</td>\n      <td>TCS</td>\n      <td>20050124</td>\n      <td>1243.70</td>\n      <td>1247.35</td>\n      <td>1215.35</td>\n      <td>1220.65</td>\n      <td>453524</td>\n      <td>NaN</td>\n      <td>NaN</td>\n      <td>NaN</td>\n      <td>NaN</td>\n      <td>None</td>\n      <td>NaN</td>\n    </tr>\n    <tr>\n      <td>104</td>\n      <td>TCS</td>\n      <td>20050125</td>\n      <td>1214.80</td>\n      <td>1239.90</td>\n      <td>1207.10</td>\n      <td>1235.45</td>\n      <td>558241</td>\n      <td>NaN</td>\n      <td>NaN</td>\n      <td>NaN</td>\n      <td>NaN</td>\n      <td>None</td>\n      <td>NaN</td>\n    </tr>\n    <tr>\n      <td>105</td>\n      <td>TCS</td>\n      <td>20050127</td>\n      <td>1243.25</td>\n      <td>1253.80</td>\n      <td>1235.30</td>\n      <td>1240.55</td>\n      <td>681918</td>\n      <td>NaN</td>\n      <td>NaN</td>\n      <td>NaN</td>\n      <td>NaN</td>\n      <td>None</td>\n      <td>NaN</td>\n    </tr>\n    <tr>\n      <td>106</td>\n      <td>TCS</td>\n      <td>20050128</td>\n      <td>1242.85</td>\n      <td>1294.80</td>\n      <td>1242.50</td>\n      <td>1289.20</td>\n      <td>1049227</td>\n      <td>NaN</td>\n      <td>NaN</td>\n      <td>NaN</td>\n      <td>NaN</td>\n      <td>None</td>\n      <td>NaN</td>\n    </tr>\n    <tr>\n      <td>107</td>\n      <td>TCS</td>\n      <td>20050131</td>\n      <td>1298.00</td>\n      <td>1311.80</td>\n      <td>1290.25</td>\n      <td>1300.40</td>\n      <td>731673</td>\n      <td>NaN</td>\n      <td>NaN</td>\n      <td>NaN</td>\n      <td>NaN</td>\n      <td>None</td>\n      <td>NaN</td>\n    </tr>\n    <tr>\n      <td>108</td>\n      <td>TCS</td>\n      <td>20050201</td>\n      <td>1307.00</td>\n      <td>1320.00</td>\n      <td>1287.00</td>\n      <td>1315.25</td>\n      <td>1002480</td>\n      <td>NaN</td>\n      <td>NaN</td>\n      <td>NaN</td>\n      <td>NaN</td>\n      <td>None</td>\n      <td>NaN</td>\n    </tr>\n    <tr>\n      <td>109</td>\n      <td>TCS</td>\n      <td>20050202</td>\n      <td>1319.00</td>\n      <td>1323.45</td>\n      <td>1303.00</td>\n      <td>1308.95</td>\n      <td>608807</td>\n      <td>NaN</td>\n      <td>NaN</td>\n      <td>NaN</td>\n      <td>NaN</td>\n      <td>None</td>\n      <td>NaN</td>\n    </tr>\n    <tr>\n      <td>110</td>\n      <td>TCS</td>\n      <td>20050203</td>\n      <td>1312.00</td>\n      <td>1314.75</td>\n      <td>1302.00</td>\n      <td>1311.10</td>\n      <td>415952</td>\n      <td>NaN</td>\n      <td>NaN</td>\n      <td>NaN</td>\n      <td>NaN</td>\n      <td>None</td>\n      <td>NaN</td>\n    </tr>\n    <tr>\n      <td>111</td>\n      <td>TCS</td>\n      <td>20050204</td>\n      <td>1310.00</td>\n      <td>1322.00</td>\n      <td>1300.55</td>\n      <td>1306.45</td>\n      <td>335505</td>\n      <td>NaN</td>\n      <td>NaN</td>\n      <td>NaN</td>\n      <td>NaN</td>\n      <td>None</td>\n      <td>NaN</td>\n    </tr>\n    <tr>\n      <td>112</td>\n      <td>TCS</td>\n      <td>20050207</td>\n      <td>1312.60</td>\n      <td>1330.70</td>\n      <td>1301.00</td>\n      <td>1313.75</td>\n      <td>743027</td>\n      <td>NaN</td>\n      <td>NaN</td>\n      <td>NaN</td>\n      <td>NaN</td>\n      <td>None</td>\n      <td>NaN</td>\n    </tr>\n    <tr>\n      <td>113</td>\n      <td>TCS</td>\n      <td>20050208</td>\n      <td>1313.75</td>\n      <td>1323.00</td>\n      <td>1308.00</td>\n      <td>1316.00</td>\n      <td>410554</td>\n      <td>NaN</td>\n      <td>NaN</td>\n      <td>NaN</td>\n      <td>NaN</td>\n      <td>None</td>\n      <td>NaN</td>\n    </tr>\n    <tr>\n      <td>114</td>\n      <td>TCS</td>\n      <td>20050209</td>\n      <td>1321.00</td>\n      <td>1343.60</td>\n      <td>1320.75</td>\n      <td>1332.80</td>\n      <td>692242</td>\n      <td>NaN</td>\n      <td>NaN</td>\n      <td>NaN</td>\n      <td>NaN</td>\n      <td>None</td>\n      <td>NaN</td>\n    </tr>\n    <tr>\n      <td>115</td>\n      <td>TCS</td>\n      <td>20050210</td>\n      <td>1330.00</td>\n      <td>1343.50</td>\n      <td>1323.00</td>\n      <td>1332.65</td>\n      <td>547081</td>\n      <td>NaN</td>\n      <td>NaN</td>\n      <td>NaN</td>\n      <td>NaN</td>\n      <td>None</td>\n      <td>NaN</td>\n    </tr>\n    <tr>\n      <td>116</td>\n      <td>TCS</td>\n      <td>20050211</td>\n      <td>1338.00</td>\n      <td>1387.00</td>\n      <td>1338.00</td>\n      <td>1381.75</td>\n      <td>1295887</td>\n      <td>NaN</td>\n      <td>NaN</td>\n      <td>NaN</td>\n      <td>NaN</td>\n      <td>None</td>\n      <td>NaN</td>\n    </tr>\n    <tr>\n      <td>117</td>\n      <td>TCS</td>\n      <td>20050214</td>\n      <td>1391.05</td>\n      <td>1418.00</td>\n      <td>1391.05</td>\n      <td>1409.65</td>\n      <td>1109408</td>\n      <td>NaN</td>\n      <td>NaN</td>\n      <td>NaN</td>\n      <td>NaN</td>\n      <td>None</td>\n      <td>NaN</td>\n    </tr>\n    <tr>\n      <td>118</td>\n      <td>TCS</td>\n      <td>20050215</td>\n      <td>1410.00</td>\n      <td>1415.00</td>\n      <td>1374.00</td>\n      <td>1381.35</td>\n      <td>497090</td>\n      <td>NaN</td>\n      <td>NaN</td>\n      <td>NaN</td>\n      <td>NaN</td>\n      <td>None</td>\n      <td>NaN</td>\n    </tr>\n    <tr>\n      <td>119</td>\n      <td>TCS</td>\n      <td>20050216</td>\n      <td>1399.00</td>\n      <td>1399.00</td>\n      <td>1361.00</td>\n      <td>1368.15</td>\n      <td>390854</td>\n      <td>NaN</td>\n      <td>NaN</td>\n      <td>NaN</td>\n      <td>NaN</td>\n      <td>None</td>\n      <td>NaN</td>\n    </tr>\n    <tr>\n      <td>120</td>\n      <td>TCS</td>\n      <td>20050217</td>\n      <td>1368.15</td>\n      <td>1386.00</td>\n      <td>1350.60</td>\n      <td>1381.85</td>\n      <td>515622</td>\n      <td>NaN</td>\n      <td>NaN</td>\n      <td>NaN</td>\n      <td>NaN</td>\n      <td>None</td>\n      <td>NaN</td>\n    </tr>\n    <tr>\n      <td>121</td>\n      <td>TCS</td>\n      <td>20050218</td>\n      <td>1380.00</td>\n      <td>1392.00</td>\n      <td>1355.00</td>\n      <td>1375.00</td>\n      <td>318143</td>\n      <td>NaN</td>\n      <td>NaN</td>\n      <td>NaN</td>\n      <td>NaN</td>\n      <td>None</td>\n      <td>NaN</td>\n    </tr>\n    <tr>\n      <td>122</td>\n      <td>TCS</td>\n      <td>20050221</td>\n      <td>1371.00</td>\n      <td>1375.80</td>\n      <td>1345.10</td>\n      <td>1365.55</td>\n      <td>222144</td>\n      <td>NaN</td>\n      <td>NaN</td>\n      <td>NaN</td>\n      <td>NaN</td>\n      <td>None</td>\n      <td>NaN</td>\n    </tr>\n    <tr>\n      <td>123</td>\n      <td>TCS</td>\n      <td>20050222</td>\n      <td>1364.70</td>\n      <td>1369.95</td>\n      <td>1351.00</td>\n      <td>1363.45</td>\n      <td>267380</td>\n      <td>NaN</td>\n      <td>NaN</td>\n      <td>NaN</td>\n      <td>NaN</td>\n      <td>None</td>\n      <td>NaN</td>\n    </tr>\n    <tr>\n      <td>124</td>\n      <td>TCS</td>\n      <td>20050223</td>\n      <td>1363.45</td>\n      <td>1382.10</td>\n      <td>1355.15</td>\n      <td>1374.95</td>\n      <td>645852</td>\n      <td>NaN</td>\n      <td>NaN</td>\n      <td>NaN</td>\n      <td>NaN</td>\n      <td>None</td>\n      <td>NaN</td>\n    </tr>\n    <tr>\n      <td>125</td>\n      <td>TCS</td>\n      <td>20050224</td>\n      <td>1374.95</td>\n      <td>1395.90</td>\n      <td>1361.20</td>\n      <td>1367.95</td>\n      <td>1350805</td>\n      <td>NaN</td>\n      <td>NaN</td>\n      <td>NaN</td>\n      <td>NaN</td>\n      <td>None</td>\n      <td>NaN</td>\n    </tr>\n    <tr>\n      <td>126</td>\n      <td>TCS</td>\n      <td>20050225</td>\n      <td>1376.80</td>\n      <td>1379.00</td>\n      <td>1353.15</td>\n      <td>1364.05</td>\n      <td>633862</td>\n      <td>NaN</td>\n      <td>NaN</td>\n      <td>NaN</td>\n      <td>NaN</td>\n      <td>None</td>\n      <td>1.0</td>\n    </tr>\n    <tr>\n      <td>127</td>\n      <td>TCS</td>\n      <td>20050228</td>\n      <td>1379.00</td>\n      <td>1385.00</td>\n      <td>1340.00</td>\n      <td>1380.90</td>\n      <td>800301</td>\n      <td>NaN</td>\n      <td>NaN</td>\n      <td>NaN</td>\n      <td>NaN</td>\n      <td>None</td>\n      <td>1.0</td>\n    </tr>\n    <tr>\n      <td>128</td>\n      <td>TCS</td>\n      <td>20050301</td>\n      <td>1381.00</td>\n      <td>1440.00</td>\n      <td>1351.00</td>\n      <td>1357.45</td>\n      <td>619769</td>\n      <td>NaN</td>\n      <td>NaN</td>\n      <td>NaN</td>\n      <td>NaN</td>\n      <td>None</td>\n      <td>1.0</td>\n    </tr>\n    <tr>\n      <td>129</td>\n      <td>TCS</td>\n      <td>20050302</td>\n      <td>1375.00</td>\n      <td>1375.00</td>\n      <td>1361.60</td>\n      <td>1368.00</td>\n      <td>332264</td>\n      <td>NaN</td>\n      <td>NaN</td>\n      <td>NaN</td>\n      <td>NaN</td>\n      <td>None</td>\n      <td>1.0</td>\n    </tr>\n    <tr>\n      <td>130</td>\n      <td>TCS</td>\n      <td>20050303</td>\n      <td>1370.00</td>\n      <td>1395.00</td>\n      <td>1364.00</td>\n      <td>1389.55</td>\n      <td>361395</td>\n      <td>NaN</td>\n      <td>NaN</td>\n      <td>NaN</td>\n      <td>NaN</td>\n      <td>None</td>\n      <td>1.0</td>\n    </tr>\n    <tr>\n      <td>131</td>\n      <td>TCS</td>\n      <td>20050304</td>\n      <td>1394.00</td>\n      <td>1403.50</td>\n      <td>1382.00</td>\n      <td>1392.25</td>\n      <td>502234</td>\n      <td>NaN</td>\n      <td>NaN</td>\n      <td>NaN</td>\n      <td>NaN</td>\n      <td>None</td>\n      <td>1.0</td>\n    </tr>\n    <tr>\n      <td>132</td>\n      <td>TCS</td>\n      <td>20050307</td>\n      <td>1395.00</td>\n      <td>1408.00</td>\n      <td>1394.00</td>\n      <td>1400.20</td>\n      <td>457254</td>\n      <td>NaN</td>\n      <td>NaN</td>\n      <td>NaN</td>\n      <td>NaN</td>\n      <td>None</td>\n      <td>1.0</td>\n    </tr>\n    <tr>\n      <td>133</td>\n      <td>TCS</td>\n      <td>20050308</td>\n      <td>1404.00</td>\n      <td>1420.90</td>\n      <td>1395.35</td>\n      <td>1413.95</td>\n      <td>628460</td>\n      <td>NaN</td>\n      <td>NaN</td>\n      <td>NaN</td>\n      <td>NaN</td>\n      <td>None</td>\n      <td>1.0</td>\n    </tr>\n    <tr>\n      <td>134</td>\n      <td>TCS</td>\n      <td>20050309</td>\n      <td>1409.00</td>\n      <td>1426.50</td>\n      <td>1395.05</td>\n      <td>1407.50</td>\n      <td>677761</td>\n      <td>NaN</td>\n      <td>NaN</td>\n      <td>NaN</td>\n      <td>NaN</td>\n      <td>None</td>\n      <td>1.0</td>\n    </tr>\n    <tr>\n      <td>135</td>\n      <td>TCS</td>\n      <td>20050310</td>\n      <td>1410.00</td>\n      <td>1410.00</td>\n      <td>1390.25</td>\n      <td>1399.55</td>\n      <td>287785</td>\n      <td>NaN</td>\n      <td>NaN</td>\n      <td>NaN</td>\n      <td>NaN</td>\n      <td>None</td>\n      <td>1.0</td>\n    </tr>\n    <tr>\n      <td>136</td>\n      <td>TCS</td>\n      <td>20050311</td>\n      <td>1406.00</td>\n      <td>1434.90</td>\n      <td>1405.00</td>\n      <td>1427.45</td>\n      <td>650718</td>\n      <td>NaN</td>\n      <td>NaN</td>\n      <td>NaN</td>\n      <td>NaN</td>\n      <td>None</td>\n      <td>1.0</td>\n    </tr>\n    <tr>\n      <td>137</td>\n      <td>TCS</td>\n      <td>20050314</td>\n      <td>1428.00</td>\n      <td>1460.00</td>\n      <td>1420.00</td>\n      <td>1451.85</td>\n      <td>816754</td>\n      <td>NaN</td>\n      <td>NaN</td>\n      <td>NaN</td>\n      <td>NaN</td>\n      <td>None</td>\n      <td>1.0</td>\n    </tr>\n    <tr>\n      <td>138</td>\n      <td>TCS</td>\n      <td>20050315</td>\n      <td>1451.00</td>\n      <td>1462.00</td>\n      <td>1430.00</td>\n      <td>1442.65</td>\n      <td>518310</td>\n      <td>NaN</td>\n      <td>NaN</td>\n      <td>NaN</td>\n      <td>NaN</td>\n      <td>None</td>\n      <td>1.0</td>\n    </tr>\n    <tr>\n      <td>139</td>\n      <td>TCS</td>\n      <td>20050316</td>\n      <td>1440.00</td>\n      <td>1467.60</td>\n      <td>1440.00</td>\n      <td>1452.05</td>\n      <td>684177</td>\n      <td>NaN</td>\n      <td>NaN</td>\n      <td>NaN</td>\n      <td>NaN</td>\n      <td>None</td>\n      <td>1.0</td>\n    </tr>\n    <tr>\n      <td>140</td>\n      <td>TCS</td>\n      <td>20050317</td>\n      <td>1448.00</td>\n      <td>1473.70</td>\n      <td>1440.00</td>\n      <td>1460.95</td>\n      <td>850666</td>\n      <td>NaN</td>\n      <td>NaN</td>\n      <td>NaN</td>\n      <td>NaN</td>\n      <td>None</td>\n      <td>1.0</td>\n    </tr>\n    <tr>\n      <td>141</td>\n      <td>TCS</td>\n      <td>20050318</td>\n      <td>1459.00</td>\n      <td>1472.50</td>\n      <td>1425.00</td>\n      <td>1468.70</td>\n      <td>765433</td>\n      <td>NaN</td>\n      <td>NaN</td>\n      <td>NaN</td>\n      <td>NaN</td>\n      <td>None</td>\n      <td>1.0</td>\n    </tr>\n    <tr>\n      <td>142</td>\n      <td>TCS</td>\n      <td>20050321</td>\n      <td>1470.15</td>\n      <td>1475.00</td>\n      <td>1444.60</td>\n      <td>1456.45</td>\n      <td>544265</td>\n      <td>NaN</td>\n      <td>NaN</td>\n      <td>NaN</td>\n      <td>NaN</td>\n      <td>None</td>\n      <td>1.0</td>\n    </tr>\n    <tr>\n      <td>143</td>\n      <td>TCS</td>\n      <td>20050322</td>\n      <td>1454.80</td>\n      <td>1457.10</td>\n      <td>1440.10</td>\n      <td>1443.55</td>\n      <td>335554</td>\n      <td>NaN</td>\n      <td>NaN</td>\n      <td>NaN</td>\n      <td>NaN</td>\n      <td>None</td>\n      <td>1.0</td>\n    </tr>\n    <tr>\n      <td>144</td>\n      <td>TCS</td>\n      <td>20050323</td>\n      <td>1440.00</td>\n      <td>1448.00</td>\n      <td>1413.35</td>\n      <td>1421.25</td>\n      <td>429927</td>\n      <td>NaN</td>\n      <td>NaN</td>\n      <td>NaN</td>\n      <td>NaN</td>\n      <td>None</td>\n      <td>1.0</td>\n    </tr>\n    <tr>\n      <td>145</td>\n      <td>TCS</td>\n      <td>20050324</td>\n      <td>1430.00</td>\n      <td>1438.00</td>\n      <td>1377.65</td>\n      <td>1384.35</td>\n      <td>744322</td>\n      <td>NaN</td>\n      <td>NaN</td>\n      <td>NaN</td>\n      <td>NaN</td>\n      <td>None</td>\n      <td>1.0</td>\n    </tr>\n    <tr>\n      <td>146</td>\n      <td>TCS</td>\n      <td>20050328</td>\n      <td>1391.00</td>\n      <td>1408.85</td>\n      <td>1384.00</td>\n      <td>1392.40</td>\n      <td>462466</td>\n      <td>NaN</td>\n      <td>NaN</td>\n      <td>NaN</td>\n      <td>NaN</td>\n      <td>None</td>\n      <td>1.0</td>\n    </tr>\n    <tr>\n      <td>147</td>\n      <td>TCS</td>\n      <td>20050329</td>\n      <td>1395.00</td>\n      <td>1398.00</td>\n      <td>1362.20</td>\n      <td>1370.90</td>\n      <td>381675</td>\n      <td>NaN</td>\n      <td>NaN</td>\n      <td>NaN</td>\n      <td>NaN</td>\n      <td>None</td>\n      <td>1.0</td>\n    </tr>\n    <tr>\n      <td>148</td>\n      <td>TCS</td>\n      <td>20050330</td>\n      <td>1371.10</td>\n      <td>1400.00</td>\n      <td>1360.00</td>\n      <td>1390.55</td>\n      <td>514407</td>\n      <td>NaN</td>\n      <td>NaN</td>\n      <td>NaN</td>\n      <td>NaN</td>\n      <td>None</td>\n      <td>1.0</td>\n    </tr>\n    <tr>\n      <td>149</td>\n      <td>TCS</td>\n      <td>20050331</td>\n      <td>1404.50</td>\n      <td>1445.10</td>\n      <td>1397.25</td>\n      <td>1432.05</td>\n      <td>864330</td>\n      <td>NaN</td>\n      <td>NaN</td>\n      <td>NaN</td>\n      <td>NaN</td>\n      <td>None</td>\n      <td>1.0</td>\n    </tr>\n  </tbody>\n</table>\n</div>"
     },
     "metadata": {},
     "execution_count": 11
    }
   ],
   "source": [
    "data['TCS'].iloc[100:150]"
   ]
  }
 ],
 "metadata": {
  "kernelspec": {
   "display_name": "tf",
   "language": "python",
   "name": "tf"
  },
  "language_info": {
   "codemirror_mode": {
    "name": "ipython",
    "version": 3
   },
   "file_extension": ".py",
   "mimetype": "text/x-python",
   "name": "python",
   "nbconvert_exporter": "python",
   "pygments_lexer": "ipython3",
   "version": "3.7.4-final"
  }
 },
 "nbformat": 4,
 "nbformat_minor": 4
}